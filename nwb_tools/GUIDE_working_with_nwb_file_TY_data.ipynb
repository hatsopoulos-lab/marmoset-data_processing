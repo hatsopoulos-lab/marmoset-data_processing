{
 "cells": [
  {
   "cell_type": "markdown",
   "id": "a7e49a47",
   "metadata": {},
   "source": [
    "# How to extract data from NWB\n",
    "\n",
    "This notebook will demonstrate opening nwb files, exploring them, and extracting data that is important to our lab."
   ]
  },
  {
   "cell_type": "markdown",
   "id": "83559d8d",
   "metadata": {},
   "source": []
  },
  {
   "cell_type": "markdown",
   "id": "ef8fcdcb",
   "metadata": {},
   "source": [
    "### Import modules"
   ]
  },
  {
   "cell_type": "code",
   "execution_count": 1,
   "id": "e8efe3f4",
   "metadata": {
    "scrolled": true
   },
   "outputs": [],
   "source": [
    "from pynwb import NWBHDF5IO\n",
    "from nwbwidgets import nwb2widget\n",
    "import ndx_pose\n",
    "import numpy as np\n",
    "import matplotlib.pyplot as plt\n",
    "from importlib import sys, reload"
   ]
  },
  {
   "cell_type": "markdown",
   "id": "a79ee712",
   "metadata": {},
   "source": [
    "### Define nwbfile path and open it in read mode"
   ]
  },
  {
   "cell_type": "code",
   "execution_count": 2,
   "id": "ab0edc2f",
   "metadata": {},
   "outputs": [],
   "source": [
    "nwb_acquisition_file = '/project/nicho/data/marmosets/electrophys_data_for_processing/TY20210211_freeAndMoths/TY20210211_freeAndMoths-003_acquisition.nwb'\n",
    "io_acq = NWBHDF5IO(nwb_acquisition_file, mode='r')\n",
    "nwb_acq = io_acq.read()"
   ]
  },
  {
   "cell_type": "code",
   "execution_count": 2,
   "id": "afadbe3d-e0fd-4084-acb4-a20718877436",
   "metadata": {},
   "outputs": [],
   "source": [
    "nwb_processed_file   = '/project/nicho/data/marmosets/electrophys_data_for_processing/TY20210211_freeAndMoths/TY20210211_freeAndMoths-003_processed_resorted_20230612.nwb' \n",
    "io_prc = NWBHDF5IO(nwb_processed_file, mode='r')\n",
    "nwb_prc = io_prc.read()"
   ]
  },
  {
   "cell_type": "markdown",
   "id": "b544a2a9",
   "metadata": {},
   "source": [
    "### Use nwb2widget to explore the data"
   ]
  },
  {
   "cell_type": "code",
   "execution_count": 3,
   "id": "98c719ee",
   "metadata": {},
   "outputs": [
    {
     "data": {
      "application/vnd.jupyter.widget-view+json": {
       "model_id": "f91c436ceeb94725a542620b0d5e0581",
       "version_major": 2,
       "version_minor": 0
      },
      "text/plain": [
       "VBox(children=(HBox(children=(Label(value='session_description:', layout=Layout(max_height='40px', max_width='…"
      ]
     },
     "execution_count": 3,
     "metadata": {},
     "output_type": "execute_result"
    }
   ],
   "source": [
    "nwb2widget(nwb_prc)\n"
   ]
  },
  {
   "cell_type": "code",
   "execution_count": 3,
   "id": "d9abb415",
   "metadata": {},
   "outputs": [
    {
     "data": {
      "application/vnd.jupyter.widget-view+json": {
       "model_id": "87b529a0d4ff46648c9da76b644b563d",
       "version_major": 2,
       "version_minor": 0
      },
      "text/plain": [
       "VBox(children=(HBox(children=(Label(value='session_description:', layout=Layout(max_height='40px', max_width='…"
      ]
     },
     "execution_count": 3,
     "metadata": {},
     "output_type": "execute_result"
    }
   ],
   "source": [
    "nwb2widget(nwb_acq)"
   ]
  },
  {
   "cell_type": "markdown",
   "id": "94338bc4",
   "metadata": {},
   "source": [
    "### Look at Notes, other metadata"
   ]
  },
  {
   "cell_type": "code",
   "execution_count": 9,
   "id": "9c370ed0",
   "metadata": {},
   "outputs": [
    {
     "name": "stdout",
     "output_type": "stream",
     "text": [
      "JL20230917_1300_freeAndCrickets_day03 -- JW\n",
      "\n",
      "1:20 PM 9/17/2023\n",
      "setting up for third day of crickets\n",
      "\n",
      "1:28 PM 9/17/2023\n",
      "setup. filling crickets\n",
      "\n",
      "1:43 PM 9/17/2023\n",
      "loaded crickets\n",
      "\n",
      "1:43 PM 9/17/2023\n",
      "checking cams in spinview\n",
      "\n",
      "1:59 PM 9/17/2023\n",
      "replaced batteries in enclosure keyboard. mous still a bit laggy. restarted machine\n",
      "\n",
      "2:04 PM 9/17/2023\n",
      "ready to start recording\n",
      "\n",
      "2:05 PM 9/17/2023\n",
      "started recording\n",
      "\n",
      "2:06 PM 9/17/2023\n",
      "turned on exilis\n",
      "\n",
      "2:08 PM 9/17/2023\n",
      "wrangled back in\n",
      "\n",
      "2:10 PM 9/17/2023\n",
      "fail to start pi. missed first episode. big cricket\n",
      "\n",
      "2:13 PM 9/17/2023camera's running. got second quick capture episode\n",
      "\n",
      "\n",
      "2:18 PM 9/17/2023\n",
      "looks like ~6 bad channels\n",
      "\n",
      "2:29 PM 9/17/2023\n",
      "event 12 TY dynamic pursuit\n",
      "\n",
      "2:58 PM 9/17/2023\n",
      "remotely observed multiminute reciprocal grooming.  multiple minuts of TY grooming JL\n",
      "\n",
      "3:02 PM 9/17/2023\n",
      "event 22 distracted then dynamic pursuit\n",
      "\n",
      "3:07 PM 9/17/2023\n",
      "got a few episodes, but she seems distracted.\n",
      "\n",
      "3:10 PM 9/17/2023\n",
      "able to coax her up, event 27 quick capture then abandoned small cricket\n",
      "\n",
      "3:13 PM 9/17/2023JL \n",
      "not very engaged\n",
      "\n",
      "3:25 PM 9/17/2023\n",
      "JL eating chow found on floor\n",
      "\n",
      "3:27 PM 9/17/2023\n",
      "quick capture large cricket, doesn't eat immediately.\n",
      "\n",
      "3:32 PM 9/17/2023\n",
      "event 33. dynamic pursuit to miss.\n",
      "\n",
      "3:33 PM 9/17/2023\n",
      "JL eating. exilis LED red.\n",
      "\n",
      "3:34 PM 9/17/2023\n",
      "turned off exilis\n",
      "3:35 PM 9/17/2023\n",
      "killed camera acquisition\n",
      "\n",
      "3:35 PM 9/17/2023\n",
      "stopped neural recoring at 1:29:30\n",
      "\n",
      "3:46 PM 9/17/2023\n",
      "calibrating cameras\n",
      "\n",
      "3:56 PM 9/17/2023\n",
      "replaced apparatus\n",
      "\n",
      "3:57 PM 9/17/2023\n",
      "shutdown rpi\n",
      "\n",
      "not very engaged today.  took coaxing to get prey capture episodes. mostly quick captures a few episodes of dynamic pursuit.  observed reciprocal grooming with multiminute epoch of TY grooming JL, if signal was good, probably enough to observe grooming related entrainment\n",
      "\n",
      "\n",
      "\n",
      "\n",
      "\n",
      "\n",
      "\n",
      "\n",
      "\n",
      "\n",
      "\n",
      "{'ElectricalSeries': ElectricalSeries pynwb.ecephys.ElectricalSeries at 0x139672261824400\n",
      "Fields:\n",
      "  channel_conversion: <HDF5 dataset \"channel_conversion\": shape (98,), type \"<f8\">\n",
      "  comments: no comments\n",
      "  conversion: 1e-06\n",
      "  data: <HDF5 dataset \"data\": shape (161124795, 98), type \"<i2\">\n",
      "  description: Acquisition traces for the ElectricalSeries.\n",
      "  electrodes: electrodes <class 'hdmf.common.table.DynamicTableRegion'>\n",
      "  offset: 0.0\n",
      "  rate: 30000.0\n",
      "  resolution: -1.0\n",
      "  starting_time: 0.0034\n",
      "  starting_time_unit: seconds\n",
      "  unit: volts\n",
      ", 'screenshots of neural data acquisition': screenshots of neural data acquisition pynwb.base.Images at 0x139672247757840\n",
      "Fields:\n",
      "  description: may include spike panel, single neural channel, raster, and IP cam footage\n",
      "  images: {\n",
      "    Screenshot 2023-09-17 140559.jpg <class 'pynwb.image.RGBImage'>,\n",
      "    Screenshot 2023-09-17 140710.jpg <class 'pynwb.image.RGBImage'>,\n",
      "    Screenshot 2023-09-17 141157.jpg <class 'pynwb.image.RGBImage'>,\n",
      "    Screenshot 2023-09-17 142850.jpg <class 'pynwb.image.RGBImage'>,\n",
      "    Screenshot 2023-09-17 145930.jpg <class 'pynwb.image.RGBImage'>,\n",
      "    Screenshot 2023-09-17 153450.jpg <class 'pynwb.image.RGBImage'>,\n",
      "    Screenshot 2023-09-17 153635.jpg <class 'pynwb.image.RGBImage'>\n",
      "  }\n",
      "}\n",
      "{'ecephys': ecephys pynwb.base.ProcessingModule at 0x139672264408976\n",
      "Fields:\n",
      "  data_interfaces: {\n",
      "    units_from_nevfile <class 'pynwb.misc.Units'>\n",
      "  }\n",
      "  description: Intermediate data from extracellular electrophysiology recordings, e.g., LFP.\n",
      "}\n"
     ]
    }
   ],
   "source": [
    "print(nwb_acq.notes)\n",
    "print('\\n\\n\\n\\n')\n",
    "print(nwb_acq.acquisition)\n",
    "print(nwb_acq.processing)"
   ]
  },
  {
   "cell_type": "markdown",
   "id": "55e3f602",
   "metadata": {},
   "source": [
    "### Get some neural data and perform some checks"
   ]
  },
  {
   "cell_type": "code",
   "execution_count": null,
   "id": "9160bfa9",
   "metadata": {
    "scrolled": true
   },
   "outputs": [],
   "source": [
    "# removed_chans = [29, 33, 49, 51, 66, 80] \n",
    "# This is pasted from the processing script used to spike sort (and then subtracted by 1 for python indexing).\n",
    "# Check around these channel indices to make sure spike times align with spikes in the raw data. \n",
    "channel_index=28\n",
    "\n",
    "es_key = [key for key in nwb_acq.acquisition.keys() if 'Electrical' in key][0]\n",
    "\n",
    "# create timestamps for raw neural data from starting_time, rate, and data shape\n",
    "start = nwb_acq.acquisition[es_key].starting_time\n",
    "step = 1/nwb_acq.acquisition[es_key].rate\n",
    "stop = start + step*nwb_acq.acquisition[es_key].data.shape[0]\n",
    "raw_timestamps = np.arange(start, stop, step)\n",
    "\n",
    "# get sorted units information, extract spike_times\n",
    "units = nwb_prc.units.to_dataframe()\n",
    "unit_to_plot = units.loc[units.channel_index == channel_index, :]\n",
    "unit_to_plot = unit_to_plot.iloc[0]\n",
    "spike_times = unit_to_plot.spike_times\n",
    "\n",
    "# Get electrodes table, extract the channel index matching the desired electrode_label\n",
    "raw_elec_index = channel_index\n",
    "raw_elec_table = nwb_acq.acquisition[es_key].electrodes.to_dataframe()\n",
    "conversion_factor = raw_elec_table['gain_to_uV'][raw_elec_index]\n",
    "# conversion_factor = raw_elec_table['gain_to_uV'][channel_index] * nwb_acq.acquisition['ElectricalSeriesRaw'].conversion\n",
    "\n",
    "# Get first 200000 samples raw data for that channel index\n",
    "raw_data_single_chan = nwb_acq.acquisition[es_key].data[:200000, raw_elec_index] * conversion_factor\n",
    "\n",
    "# unit_to_plot"
   ]
  },
  {
   "cell_type": "markdown",
   "id": "aa1d3281",
   "metadata": {},
   "source": [
    "##### Pull out data around spike time in raw neural data (using tMod = 0 or tMod = nwbfile.acqusition['ElectricalSeriesRaw'] starting time)"
   ]
  },
  {
   "cell_type": "code",
   "execution_count": null,
   "id": "c4c9a42e",
   "metadata": {},
   "outputs": [],
   "source": [
    "tMod = 0 #nwb_acq.acquisition['ElectricalSeriesRaw'].starting_time\n",
    "spikes_indexed_in_raw = [np.where(np.isclose(raw_timestamps, spk_time+tMod, atol=1e-6))[0][0] for spk_time in spike_times[:5]]"
   ]
  },
  {
   "cell_type": "code",
   "execution_count": null,
   "id": "d514ea53",
   "metadata": {},
   "outputs": [],
   "source": [
    "for spkNum in range(5):\n",
    "    plt.plot(raw_timestamps[spikes_indexed_in_raw[spkNum] - 100 : spikes_indexed_in_raw[spkNum] + 100], \n",
    "             raw_data_single_chan[spikes_indexed_in_raw[spkNum] - 100 : spikes_indexed_in_raw[spkNum] + 100])\n",
    "    plt.plot(raw_timestamps[spikes_indexed_in_raw[spkNum]], raw_data_single_chan[spikes_indexed_in_raw[spkNum]], 'or')\n",
    "    plt.gca().set_xticks([raw_timestamps[spikes_indexed_in_raw[spkNum]]])\n",
    "    plt.show()"
   ]
  },
  {
   "cell_type": "markdown",
   "id": "b03ce7bb",
   "metadata": {},
   "source": [
    "### Look at an individual reaching segment and link it to the correct kinematics"
   ]
  },
  {
   "cell_type": "code",
   "execution_count": 4,
   "id": "68b44200",
   "metadata": {},
   "outputs": [
    {
     "ename": "KeyError",
     "evalue": "'reaching_segments_moths'",
     "output_type": "error",
     "traceback": [
      "\u001b[0;31m---------------------------------------------------------------------------\u001b[0m",
      "\u001b[0;31mKeyError\u001b[0m                                  Traceback (most recent call last)",
      "Cell \u001b[0;32mIn[4], line 4\u001b[0m\n\u001b[1;32m      1\u001b[0m segment_idx \u001b[38;5;241m=\u001b[39m \u001b[38;5;241m39\u001b[39m\n\u001b[1;32m      3\u001b[0m \u001b[38;5;66;03m# get info in dataframe for specific segment_idx\u001b[39;00m\n\u001b[0;32m----> 4\u001b[0m segment_df \u001b[38;5;241m=\u001b[39m nwb_prc\u001b[38;5;241m.\u001b[39mintervals[\u001b[38;5;124m'\u001b[39m\u001b[38;5;124mreaching_segments_moths\u001b[39m\u001b[38;5;124m'\u001b[39m]\u001b[38;5;241m.\u001b[39mto_dataframe()\n\u001b[1;32m      5\u001b[0m segment_info \u001b[38;5;241m=\u001b[39m segment_df\u001b[38;5;241m.\u001b[39miloc[segment_idx]\n\u001b[1;32m      7\u001b[0m \u001b[38;5;66;03m# get event data using container and ndx_pose names from segment_info table following form below:\u001b[39;00m\n\u001b[1;32m      8\u001b[0m \u001b[38;5;66;03m# nwb.processing['goal_directed_kinematics'].data_interfaces['moths_s_1_e_004_position']\u001b[39;00m\n",
      "File \u001b[0;32m/beagle3/nicho/environments/nwb_and_neuroconv/lib/python3.11/site-packages/hdmf/utils.py:1034\u001b[0m, in \u001b[0;36mLabelledDict.__getitem__\u001b[0;34m(self, args)\u001b[0m\n\u001b[1;32m   1032\u001b[0m         \u001b[38;5;28;01mreturn\u001b[39;00m \u001b[38;5;28msuper\u001b[39m()\u001b[38;5;241m.\u001b[39m\u001b[38;5;21m__getitem__\u001b[39m(val)\n\u001b[1;32m   1033\u001b[0m \u001b[38;5;28;01melse\u001b[39;00m:\n\u001b[0;32m-> 1034\u001b[0m     \u001b[38;5;28;01mreturn\u001b[39;00m \u001b[38;5;28msuper\u001b[39m()\u001b[38;5;241m.\u001b[39m\u001b[38;5;21m__getitem__\u001b[39m(key)\n",
      "\u001b[0;31mKeyError\u001b[0m: 'reaching_segments_moths'"
     ]
    }
   ],
   "source": [
    "segment_idx = 39\n",
    "\n",
    "# get info in dataframe for specific segment_idx\n",
    "segment_df = nwb_prc.intervals['reaching_segments_moths'].to_dataframe()\n",
    "segment_info = segment_df.iloc[segment_idx]\n",
    "\n",
    "# get event data using container and ndx_pose names from segment_info table following form below:\n",
    "# nwb.processing['goal_directed_kinematics'].data_interfaces['moths_s_1_e_004_position']\n",
    "event_data = nwb_prc.processing[segment_info.kinematics_module].data_interfaces[segment_info.video_event] \n",
    "hand_kinematics = event_data.pose_estimation_series['hand'].data[:] \n",
    "timestamps      = event_data.pose_estimation_series['hand'].timestamps[:]\n",
    "reproj_error    = event_data.pose_estimation_series['hand'].confidence[:]\n",
    "\n",
    "# plot full_event \n",
    "fig, axs = plt.subplots(2, 1, sharex=True)\n",
    "axs[0].plot(timestamps, hand_kinematics)\n",
    "axs[0].vlines(x=[segment_info.start_time, segment_info.stop_time], ymin=-3,ymax=14, colors='black', linestyle='dashdot')\n",
    "axs[1].plot(timestamps, reproj_error, '.b')\n",
    "axs[0].set_ylabel('Position (cm) for x (blue), y (orange), z (green)')\n",
    "axs[0].set_title('Entire video event hand kinematics')\n",
    "axs[1].set_ylabel('Reprojection Error b/w Cameras (pixels)')\n",
    "axs[1].set_xlabel('Time (sec)')\n",
    "plt.show()\n",
    "\n",
    "# extract kinematics of this single reaching segment and plot\n",
    "reach_hand_kinematics = hand_kinematics[segment_info.start_idx:segment_info.stop_idx]\n",
    "reach_reproj_error    = reproj_error   [segment_info.start_idx:segment_info.stop_idx]\n",
    "reach_timestamps      = timestamps     [segment_info.start_idx:segment_info.stop_idx]\n",
    "peak_idxs = segment_info.peak_extension_idxs.split(',')\n",
    "peak_idxs = [int(idx) for idx in peak_idxs]\n",
    "peak_timestamps = timestamps[peak_idxs]\n",
    "peak_ypos = hand_kinematics[peak_idxs, 1]\n",
    "\n",
    "# plot single reaching segment \n",
    "fig, axs = plt.subplots(2, 1, sharex=True)\n",
    "axs[0].plot(reach_timestamps, reach_hand_kinematics)\n",
    "axs[0].plot(peak_timestamps, peak_ypos, 'or')\n",
    "axs[1].plot(reach_timestamps, reach_reproj_error, '.b')\n",
    "axs[0].set_ylabel('Position (cm) for x (blue), y (orange), z (green)')\n",
    "axs[0].set_title('Reaching segment hand kinematics')\n",
    "axs[1].set_ylabel('Reprojection Error b/w Cameras (pixels)')\n",
    "axs[1].set_xlabel('Time (sec)')\n",
    "plt.show()"
   ]
  },
  {
   "cell_type": "code",
   "execution_count": 41,
   "id": "c5f8ff77",
   "metadata": {},
   "outputs": [
    {
     "data": {
      "text/html": [
       "<div>\n",
       "<style scoped>\n",
       "    .dataframe tbody tr th:only-of-type {\n",
       "        vertical-align: middle;\n",
       "    }\n",
       "\n",
       "    .dataframe tbody tr th {\n",
       "        vertical-align: top;\n",
       "    }\n",
       "\n",
       "    .dataframe thead th {\n",
       "        text-align: right;\n",
       "    }\n",
       "</style>\n",
       "<table border=\"1\" class=\"dataframe\">\n",
       "  <thead>\n",
       "    <tr style=\"text-align: right;\">\n",
       "      <th></th>\n",
       "      <th>x</th>\n",
       "      <th>y</th>\n",
       "      <th>z</th>\n",
       "      <th>electrode_label</th>\n",
       "    </tr>\n",
       "    <tr>\n",
       "      <th>id</th>\n",
       "      <th></th>\n",
       "      <th></th>\n",
       "      <th></th>\n",
       "      <th></th>\n",
       "    </tr>\n",
       "  </thead>\n",
       "  <tbody>\n",
       "    <tr>\n",
       "      <th>1</th>\n",
       "      <td>2000.0</td>\n",
       "      <td>2400.0</td>\n",
       "      <td>-1000.0</td>\n",
       "      <td>elec33</td>\n",
       "    </tr>\n",
       "    <tr>\n",
       "      <th>3</th>\n",
       "      <td>2000.0</td>\n",
       "      <td>2400.0</td>\n",
       "      <td>-1000.0</td>\n",
       "      <td>elec33</td>\n",
       "    </tr>\n",
       "    <tr>\n",
       "      <th>4</th>\n",
       "      <td>2000.0</td>\n",
       "      <td>2400.0</td>\n",
       "      <td>-1000.0</td>\n",
       "      <td>elec33</td>\n",
       "    </tr>\n",
       "    <tr>\n",
       "      <th>7</th>\n",
       "      <td>3200.0</td>\n",
       "      <td>1600.0</td>\n",
       "      <td>-1000.0</td>\n",
       "      <td>elec50</td>\n",
       "    </tr>\n",
       "    <tr>\n",
       "      <th>9</th>\n",
       "      <td>1600.0</td>\n",
       "      <td>2400.0</td>\n",
       "      <td>-1000.0</td>\n",
       "      <td>elec34</td>\n",
       "    </tr>\n",
       "    <tr>\n",
       "      <th>...</th>\n",
       "      <td>...</td>\n",
       "      <td>...</td>\n",
       "      <td>...</td>\n",
       "      <td>...</td>\n",
       "    </tr>\n",
       "    <tr>\n",
       "      <th>310</th>\n",
       "      <td>3200.0</td>\n",
       "      <td>1600.0</td>\n",
       "      <td>-1000.0</td>\n",
       "      <td>elec50</td>\n",
       "    </tr>\n",
       "    <tr>\n",
       "      <th>332</th>\n",
       "      <td>0.0</td>\n",
       "      <td>2400.0</td>\n",
       "      <td>-1000.0</td>\n",
       "      <td>elec38</td>\n",
       "    </tr>\n",
       "    <tr>\n",
       "      <th>335</th>\n",
       "      <td>0.0</td>\n",
       "      <td>2400.0</td>\n",
       "      <td>-1000.0</td>\n",
       "      <td>elec38</td>\n",
       "    </tr>\n",
       "    <tr>\n",
       "      <th>337</th>\n",
       "      <td>0.0</td>\n",
       "      <td>2400.0</td>\n",
       "      <td>-1000.0</td>\n",
       "      <td>elec38</td>\n",
       "    </tr>\n",
       "    <tr>\n",
       "      <th>338</th>\n",
       "      <td>0.0</td>\n",
       "      <td>2400.0</td>\n",
       "      <td>-1000.0</td>\n",
       "      <td>elec38</td>\n",
       "    </tr>\n",
       "  </tbody>\n",
       "</table>\n",
       "<p>175 rows × 4 columns</p>\n",
       "</div>"
      ],
      "text/plain": [
       "          x       y       z electrode_label\n",
       "id                                         \n",
       "1    2000.0  2400.0 -1000.0          elec33\n",
       "3    2000.0  2400.0 -1000.0          elec33\n",
       "4    2000.0  2400.0 -1000.0          elec33\n",
       "7    3200.0  1600.0 -1000.0          elec50\n",
       "9    1600.0  2400.0 -1000.0          elec34\n",
       "..      ...     ...     ...             ...\n",
       "310  3200.0  1600.0 -1000.0          elec50\n",
       "332     0.0  2400.0 -1000.0          elec38\n",
       "335     0.0  2400.0 -1000.0          elec38\n",
       "337     0.0  2400.0 -1000.0          elec38\n",
       "338     0.0  2400.0 -1000.0          elec38\n",
       "\n",
       "[175 rows x 4 columns]"
      ]
     },
     "execution_count": 41,
     "metadata": {},
     "output_type": "execute_result"
    }
   ],
   "source": [
    "# get table of sorted unit info\n",
    "units_df = nwb_prc.units.to_dataframe()\n",
    "elec_positions = units_df.loc[:, ['x', 'y', 'z', 'electrode_label']]\n",
    "elec_positions"
   ]
  },
  {
   "cell_type": "markdown",
   "id": "79984adb",
   "metadata": {},
   "source": [
    "### Load and isolate analog channels using electrodes table"
   ]
  },
  {
   "cell_type": "code",
   "execution_count": 42,
   "id": "599a3799",
   "metadata": {},
   "outputs": [
    {
     "data": {
      "image/png": "[encoded data removed]",
      "text/plain": [
       "<Figure size 640x480 with 2 Axes>"
      ]
     },
     "metadata": {},
     "output_type": "display_data"
    }
   ],
   "source": [
    "raw = nwb_acq.acquisition['ElectricalSeriesRaw']\n",
    "\n",
    "start = raw.starting_time\n",
    "step = 1/raw.rate\n",
    "stop = start + step*raw.data.shape[0]\n",
    "raw_timestamps = np.arange(start, stop, step)\n",
    "\n",
    "elec_df = raw.electrodes.to_dataframe()\n",
    "analog_idx = [idx for idx, name in elec_df['electrode_label'].iteritems() if 'ainp' in name]\n",
    "electrode_labels = elec_df.loc[analog_idx, 'electrode_label']\n",
    "\n",
    "# plot the first 3 minutes of data for the channels\n",
    "time_to_plot = 3*60\n",
    "num_samples = int(raw.rate * time_to_plot)\n",
    "num_channels = np.min([2, len(analog_idx)])\n",
    "fig, axs = plt.subplots(num_channels, 1, sharex=True) \n",
    "for cIdx in range(num_channels):\n",
    "    analog_signals = raw.data[:num_samples, analog_idx[cIdx]] * elec_df['gain_to_uV'][analog_idx[cIdx]] * raw.conversion\n",
    "    axs[cIdx].plot(raw_timestamps[:num_samples], analog_signals)\n",
    "    axs[cIdx].set_title(electrode_labels.iloc[cIdx])\n",
    "    axs[cIdx].set_ylabel('Raw Signal (V)')\n",
    "\n",
    "axs[cIdx].set_xlabel('Timestamps (sec)')\n",
    "    \n",
    "plt.show()"
   ]
  },
  {
   "cell_type": "markdown",
   "id": "58c428f9",
   "metadata": {},
   "source": [
    "### Now for a few neural channels"
   ]
  },
  {
   "cell_type": "code",
   "execution_count": 43,
   "id": "d26e4764",
   "metadata": {},
   "outputs": [
    {
     "data": {
      "image/png": "[encoded data removed]",
      "text/plain": [
       "<Figure size 640x480 with 3 Axes>"
      ]
     },
     "metadata": {},
     "output_type": "display_data"
    }
   ],
   "source": [
    "raw = nwb_acq.acquisition['ElectricalSeriesRaw']\n",
    "elec_df = raw.electrodes.to_dataframe()\n",
    "analog_idx = [idx for idx, name in elec_df['electrode_label'].iteritems() if 'elec' in name]\n",
    "electrode_labels = elec_df.loc[analog_idx, 'electrode_label']\n",
    "\n",
    "# plot the first 3 minutes of data for the channels\n",
    "time_to_plot = 3*60\n",
    "num_samples = int(raw.rate * time_to_plot)\n",
    "num_channels = np.min([3, len(analog_idx)])\n",
    "fig, axs = plt.subplots(num_channels, 1, sharex=True) \n",
    "for cIdx in range(num_channels):\n",
    "    analog_signals = raw.data[:num_samples, analog_idx[cIdx]] * elec_df['gain_to_uV'][analog_idx[cIdx]] * raw.conversion\n",
    "    axs[cIdx].plot(raw_timestamps[:num_samples], analog_signals)\n",
    "    axs[cIdx].set_title(electrode_labels.iloc[cIdx])\n",
    "\n",
    "axs[cIdx].set_ylabel('Raw Signal (V)')\n",
    "axs[cIdx].set_xlabel('Timestamps (sec)')\n",
    "    \n",
    "plt.show()"
   ]
  },
  {
   "cell_type": "markdown",
   "id": "68291ca9",
   "metadata": {},
   "source": [
    "### When you finish working with the data, close the files"
   ]
  },
  {
   "cell_type": "code",
   "execution_count": 4,
   "id": "461d0099-532c-4923-add9-a3afb286905f",
   "metadata": {},
   "outputs": [
    {
     "ename": "NameError",
     "evalue": "name 'io_acq' is not defined",
     "output_type": "error",
     "traceback": [
      "\u001b[0;31m---------------------------------------------------------------------------\u001b[0m",
      "\u001b[0;31mNameError\u001b[0m                                 Traceback (most recent call last)",
      "Cell \u001b[0;32mIn[4], line 1\u001b[0m\n\u001b[0;32m----> 1\u001b[0m io_acq\u001b[38;5;241m.\u001b[39mclose()\n",
      "\u001b[0;31mNameError\u001b[0m: name 'io_acq' is not defined"
     ]
    }
   ],
   "source": [
    "io_acq.close()"
   ]
  },
  {
   "cell_type": "code",
   "execution_count": 5,
   "id": "0aa73953-0500-48a4-97a4-0fee439a9b0c",
   "metadata": {},
   "outputs": [],
   "source": [
    "io_prc.close()"
   ]
  },
  {
   "cell_type": "code",
   "execution_count": null,
   "id": "3c6b42a6-46b0-47a8-9d97-088eb6ca6622",
   "metadata": {},
   "outputs": [],
   "source": []
  }
 ],
 "metadata": {
  "kernelspec": {
   "display_name": "Python 3 (ipykernel)",
   "language": "python",
   "name": "python3"
  },
  "language_info": {
   "codemirror_mode": {
    "name": "ipython",
    "version": 3
   },
   "file_extension": ".py",
   "mimetype": "text/x-python",
   "name": "python",
   "nbconvert_exporter": "python",
   "pygments_lexer": "ipython3",
   "version": "3.11.5"
  }
 },
 "nbformat": 4,
 "nbformat_minor": 5
}
