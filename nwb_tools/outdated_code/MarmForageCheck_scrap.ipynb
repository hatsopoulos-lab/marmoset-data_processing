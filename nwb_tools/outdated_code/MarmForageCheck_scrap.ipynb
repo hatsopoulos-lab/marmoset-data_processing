{
 "cells": [
  {
   "cell_type": "code",
   "execution_count": 1,
   "id": "d3708c2c",
   "metadata": {},
   "outputs": [],
   "source": [
    "# import needed toolboxes\n",
    "from HatLabNWBConverters import MarmForageNWBConverter\n",
    "from pprint import pprint\n",
    "from pathlib import Path\n",
    "from nwb_conversion_tools.utils.metadata import load_metadata_from_file\n",
    "from nwb_conversion_tools.utils.json_schema import dict_deep_update\n",
    "from pynwb import NWBFile, NWBHDF5IO\n",
    "from nwbwidgets import nwb2widget"
   ]
  },
  {
   "cell_type": "code",
   "execution_count": 13,
   "id": "bb83aea9",
   "metadata": {},
   "outputs": [],
   "source": [
    "# User defined inputs\n",
    "dpath = '/Users/paul/Documents/Data/'\n",
    "sess = 'TY20210403_0656_inHammock_morning/'\n",
    "rfile = 'TY20210403_0656_inHammock_morning-001.ns6'\n",
    "nfile = 'TY20210403_0656_inHammock_morning-001.nev'\n",
    "mfile = 'metadata.yml'\n",
    "sfile = 'tony.yml'\n",
    "ofile = 'testcheck3.nwb'"
   ]
  },
  {
   "cell_type": "code",
   "execution_count": 3,
   "id": "04b64f2c",
   "metadata": {},
   "outputs": [
    {
     "name": "stdout",
     "output_type": "stream",
     "text": [
      "{'$id': 'source.schema.json',\n",
      " '$schema': 'http://json-schema.org/draft-07/schema#',\n",
      " 'additionalProperties': False,\n",
      " 'description': 'Schema for the source data, files and directories',\n",
      " 'properties': {'BlackrockRecordingInterfaceRaw': {'additionalProperties': False,\n",
      "                                                   'properties': {'filename': {'description': 'Path to Blackrock file.',\n",
      "                                                                               'format': 'file',\n",
      "                                                                               'type': 'string'}},\n",
      "                                                   'required': ['filename'],\n",
      "                                                   'type': 'object'},\n",
      "                'BlackrockSortingInterface': {'additionalProperties': True,\n",
      "                                              'properties': {'filename': {'description': 'Path to Blackrock file.',\n",
      "                                                                          'format': 'file',\n",
      "                                                                          'type': 'string'}},\n",
      "                                              'required': ['filename'],\n",
      "                                              'type': 'object'},\n",
      "                'CalibrationVideos': {'properties': {'file_paths': {'type': 'array'}}},\n",
      "                'KinematicVideos': {'properties': {'file_paths': {'type': 'array'}}}},\n",
      " 'required': [],\n",
      " 'title': 'Source data schema',\n",
      " 'type': 'object',\n",
      " 'version': '0.1.0'}\n"
     ]
    }
   ],
   "source": [
    "# Get source_schema\n",
    "source_schema = MarmForageNWBConverter.get_source_schema()\n",
    "pprint(source_schema, width=120)"
   ]
  },
  {
   "cell_type": "code",
   "execution_count": 4,
   "id": "af62c38d",
   "metadata": {},
   "outputs": [
    {
     "name": "stdout",
     "output_type": "stream",
     "text": [
      "{'BlackrockRecordingInterfaceRaw': {'filename': '/Users/paul/Documents/Data/TY20210403_0656_inHammock_morning/TY20210403_0656_inHammock_morning-001.ns6'},\n",
      " 'BlackrockSortingInterface': {'filename': '/Users/paul/Documents/Data/TY20210403_0656_inHammock_morning/TY20210403_0656_inHammock_morning-001.nev',\n",
      "                               'nsx_to_load': 6},\n",
      " 'KinematicVideos': {'file_paths': ['/Users/paul/Documents/Data/TY20210403_0656_inHammock_morning/videos/TYJL_2021_03_07_preCrickets_session1_event003_cam1.avi',\n",
      "                                    '/Users/paul/Documents/Data/TY20210403_0656_inHammock_morning/videos/TYJL_2021_03_07_preCrickets_session1_event002_cam1.avi',\n",
      "                                    '/Users/paul/Documents/Data/TY20210403_0656_inHammock_morning/videos/TYJL_2021_03_07_preCrickets_session1_event002_cam2.avi',\n",
      "                                    '/Users/paul/Documents/Data/TY20210403_0656_inHammock_morning/videos/TYJL_2021_03_07_preCrickets_session1_event003_cam2.avi',\n",
      "                                    '/Users/paul/Documents/Data/TY20210403_0656_inHammock_morning/videos/TYJL_2021_03_07_preCrickets_session1_event004_cam1.avi',\n",
      "                                    '/Users/paul/Documents/Data/TY20210403_0656_inHammock_morning/videos/TYJL_2021_03_07_preCrickets_session1_event004_cam2.avi',\n",
      "                                    '/Users/paul/Documents/Data/TY20210403_0656_inHammock_morning/videos/TYJL_2021_03_07_preCrickets_session1_event001_cam2.avi',\n",
      "                                    '/Users/paul/Documents/Data/TY20210403_0656_inHammock_morning/videos/TYJL_2021_03_07_preCrickets_session1_event001_cam1.avi']}}\n"
     ]
    }
   ],
   "source": [
    "# Construct the source data\n",
    "base_path = Path(dpath+sess)\n",
    "movie_path = Path(dpath+sess+'videos/')\n",
    "file_recording_raw = str(base_path / rfile)\n",
    "file_sorting = str(base_path / nfile)\n",
    "kmovie_files = list(movie_path.glob('*.avi'))\n",
    "\n",
    "source_data = dict(\n",
    "    BlackrockRecordingInterfaceRaw=dict(filename=file_recording_raw),\n",
    "    BlackrockSortingInterface=dict(\n",
    "        filename=file_sorting,\n",
    "        nsx_to_load=6\n",
    "    )\n",
    ")\n",
    "\n",
    "movies = list()\n",
    "if len(kmovie_files)>0:\n",
    "    for movie in kmovie_files:\n",
    "        movies.append(str(movie))\n",
    "    source_data.update(KinematicVideos=dict(file_paths=movies))    \n",
    "\n",
    "pprint(source_data, width=120)"
   ]
  },
  {
   "cell_type": "code",
   "execution_count": 5,
   "id": "27500a16",
   "metadata": {},
   "outputs": [
    {
     "name": "stdout",
     "output_type": "stream",
     "text": [
      "Source data is valid!\n",
      "Data interfaces for this converter:\n",
      "{'BlackrockRecordingInterfaceRaw': <nwb_conversion_tools.datainterfaces.ecephys.blackrock.blackrockdatainterface.BlackrockRecordingExtractorInterface object at 0x7fd204d8bb80>,\n",
      " 'BlackrockSortingInterface': <nwb_conversion_tools.datainterfaces.ecephys.blackrock.blackrockdatainterface.BlackrockSortingExtractorInterface object at 0x7fd202e9ff10>,\n",
      " 'KinematicVideos': <nwb_conversion_tools.datainterfaces.behavior.movie.moviedatainterface.MovieInterface object at 0x7fd204d8bd30>}\n"
     ]
    }
   ],
   "source": [
    "# Initialize converter\n",
    "converter = MarmForageNWBConverter(source_data=source_data)\n",
    "\n",
    "print('Data interfaces for this converter:')\n",
    "pprint(converter.data_interface_objects, width=120)"
   ]
  },
  {
   "cell_type": "code",
   "execution_count": 6,
   "id": "36c1ca10",
   "metadata": {},
   "outputs": [],
   "source": [
    "# Get metadata_schema\n",
    "metadata_schema = converter.get_metadata_schema()\n",
    "#pprint(metadata_schema, width=120)"
   ]
  },
  {
   "cell_type": "code",
   "execution_count": 7,
   "id": "2d86badd",
   "metadata": {},
   "outputs": [
    {
     "name": "stdout",
     "output_type": "stream",
     "text": [
      "Metadata is valid!\n",
      "{'Ecephys': {'Device': [{'description': 'no description', 'name': 'Device_ecephys'}],\n",
      "             'ElectricalSeries_raw': {'name': 'ElectricalSeries_raw'},\n",
      "             'ElectrodeGroup': [{'description': 'no description',\n",
      "                                 'device': 'Device_ecephys',\n",
      "                                 'location': 'unknown',\n",
      "                                 'name': '0'}]},\n",
      " 'NWBFile': {'experimenter': ['Jeff Walker'],\n",
      "             'identifier': 'aeee9b59-4780-47b0-8b4d-c7131bf67c09',\n",
      "             'institution': 'University of Chicago',\n",
      "             'lab': 'Hatsopoulos Lab',\n",
      "             'session_description': '5 minute early morning recording check',\n",
      "             'session_start_time': '2021-04-03T06:56:00-05:00',\n",
      "             'surgery': 'No surgery for this recording'},\n",
      " 'Subject': {'date_of_birth': '2018-01-01T00:00:00-05:00',\n",
      "             'sex': 'male',\n",
      "             'species': 'marmoset',\n",
      "             'subject_id': 'Tony',\n",
      "             'weight': 350.0}}\n"
     ]
    }
   ],
   "source": [
    "# Get metadata from source data and from file\n",
    "metadata = converter.get_metadata()\n",
    "# load exp metadata\n",
    "m = load_metadata_from_file(dpath+sess+'/'+mfile)\n",
    "metadata = dict_deep_update(metadata, m)\n",
    "# load subject metadata\n",
    "s = load_metadata_from_file(dpath+sess+'/'+sfile)\n",
    "metadata = dict_deep_update(metadata, s)\n",
    "# convert \n",
    "converter.validate_metadata(metadata)\n",
    "pprint(metadata, width=120)"
   ]
  },
  {
   "cell_type": "code",
   "execution_count": 8,
   "id": "45ca9646",
   "metadata": {},
   "outputs": [
    {
     "name": "stdout",
     "output_type": "stream",
     "text": [
      "Conversion options for each data interface: \n",
      "\n",
      "{'BlackrockRecordingInterfaceRaw': {'additionalProperties': False,\n",
      "                                    'properties': {'buffer_mb': {'default': 500, 'type': 'number'},\n",
      "                                                   'es_key': {'type': 'string'},\n",
      "                                                   'overwrite': {'default': False, 'type': 'boolean'},\n",
      "                                                   'save_path': {'type': 'string'},\n",
      "                                                   'stub_test': {'default': False, 'type': 'boolean'},\n",
      "                                                   'use_times': {'default': False, 'type': 'boolean'},\n",
      "                                                   'write_as': {'default': 'raw', 'type': 'string'}},\n",
      "                                    'required': [],\n",
      "                                    'type': 'object'},\n",
      " 'BlackrockSortingInterface': {'additionalProperties': False,\n",
      "                               'properties': {'stub_test': {'default': False, 'type': 'boolean'},\n",
      "                                              'write_ecephys_metadata': {'default': False, 'type': 'boolean'}},\n",
      "                               'required': [],\n",
      "                               'type': 'object'},\n",
      " 'CalibrationVideos': {'additionalProperties': False,\n",
      "                       'properties': {'chunk_data': {'default': True, 'type': 'boolean'},\n",
      "                                      'external_mode': {'default': True, 'type': 'boolean'},\n",
      "                                      'starting_times': {'type': 'array'},\n",
      "                                      'stub_test': {'default': False, 'type': 'boolean'}},\n",
      "                       'required': [],\n",
      "                       'type': 'object'},\n",
      " 'KinematicVideos': {'additionalProperties': False,\n",
      "                     'properties': {'chunk_data': {'default': True, 'type': 'boolean'},\n",
      "                                    'external_mode': {'default': True, 'type': 'boolean'},\n",
      "                                    'starting_times': {'type': 'array'},\n",
      "                                    'stub_test': {'default': False, 'type': 'boolean'}},\n",
      "                     'required': [],\n",
      "                     'type': 'object'}}\n"
     ]
    }
   ],
   "source": [
    "# conversion schema\n",
    "conversion_options_schema = converter.get_conversion_options_schema()\n",
    "print(\"Conversion options for each data interface: \\n\")\n",
    "pprint(conversion_options_schema['properties'], width=120)"
   ]
  },
  {
   "cell_type": "code",
   "execution_count": 10,
   "id": "3ac028a3",
   "metadata": {},
   "outputs": [
    {
     "name": "stdout",
     "output_type": "stream",
     "text": [
      "{'BlackrockRecordingInterfaceRaw': {'es_key': 'raw recording'},\n",
      " 'BlackrockSortingInterface': {'write_ecephys_metadata': True},\n",
      " 'KinematicVideos': {}}\n"
     ]
    }
   ],
   "source": [
    "# build conversion options\n",
    "conversion_options = converter.get_conversion_options()\n",
    "conversion_options['BlackrockRecordingInterfaceRaw']=dict(es_key='raw recording')\n",
    "conversion_options['BlackrockSortingInterface']=dict(write_ecephys_metadata=True)\n",
    "# get video start times\n",
    "#conversion_options['KinematicVideos'] = dict(starting_times=kstart_times)\n",
    "pprint(conversion_options, width=120)"
   ]
  },
  {
   "cell_type": "code",
   "execution_count": 11,
   "id": "0bb33f55",
   "metadata": {},
   "outputs": [
    {
     "name": "stdout",
     "output_type": "stream",
     "text": [
      "{'Ecephys': {'Device': [{'description': 'no description', 'name': 'Device_ecephys'}],\n",
      "             'ElectricalSeries_raw': {'name': 'ElectricalSeries_raw'},\n",
      "             'ElectrodeGroup': [{'description': 'no description',\n",
      "                                 'device': 'Device_ecephys',\n",
      "                                 'location': 'unknown',\n",
      "                                 'name': '0'}]},\n",
      " 'NWBFile': {'experimenter': ['Jeff Walker'],\n",
      "             'identifier': 'aeee9b59-4780-47b0-8b4d-c7131bf67c09',\n",
      "             'institution': 'University of Chicago',\n",
      "             'lab': 'Hatsopoulos Lab',\n",
      "             'session_description': '5 minute early morning recording check',\n",
      "             'session_start_time': '2021-04-03T06:56:00-05:00',\n",
      "             'surgery': 'No surgery for this recording'},\n",
      " 'Subject': {'date_of_birth': '2018-01-01T00:00:00-05:00',\n",
      "             'sex': 'male',\n",
      "             'species': 'marmoset',\n",
      "             'subject_id': 'Tony',\n",
      "             'weight': 350.0}}\n"
     ]
    }
   ],
   "source": [
    "pprint(metadata, width=120)"
   ]
  },
  {
   "cell_type": "code",
   "execution_count": 14,
   "id": "ffeaea2c",
   "metadata": {},
   "outputs": [
    {
     "name": "stdout",
     "output_type": "stream",
     "text": [
      "Metadata is valid!\n",
      "Converting Blackrock raw traces...\n",
      "NWB file saved at testcheck3.nwb!\n"
     ]
    }
   ],
   "source": [
    "converter.run_conversion(\n",
    "    metadata=metadata, \n",
    "    nwbfile_path=ofile, \n",
    "    save_to_file=True,\n",
    "    conversion_options=None\n",
    ")"
   ]
  },
  {
   "cell_type": "code",
   "execution_count": 15,
   "id": "f5ea9cf5",
   "metadata": {},
   "outputs": [
    {
     "data": {
      "application/vnd.jupyter.widget-view+json": {
       "model_id": "2de574ab19c74bc48fe4623f2adea7c0",
       "version_major": 2,
       "version_minor": 0
      },
      "text/plain": [
       "VBox(children=(HBox(children=(Label(value='session_description:', layout=Layout(max_height='40px', max_width='…"
      ]
     },
     "metadata": {},
     "output_type": "display_data"
    }
   ],
   "source": [
    "io = NWBHDF5IO(ofile, 'r')\n",
    "nwbfile = io.read()\n",
    "nwb2widget(nwbfile)"
   ]
  },
  {
   "cell_type": "code",
   "execution_count": null,
   "id": "264d77ad",
   "metadata": {},
   "outputs": [],
   "source": []
  }
 ],
 "metadata": {
  "kernelspec": {
   "display_name": "Python 3 (ipykernel)",
   "language": "python",
   "name": "python3"
  },
  "language_info": {
   "codemirror_mode": {
    "name": "ipython",
    "version": 3
   },
   "file_extension": ".py",
   "mimetype": "text/x-python",
   "name": "python",
   "nbconvert_exporter": "python",
   "pygments_lexer": "ipython3",
   "version": "3.9.13"
  }
 },
 "nbformat": 4,
 "nbformat_minor": 5
}
