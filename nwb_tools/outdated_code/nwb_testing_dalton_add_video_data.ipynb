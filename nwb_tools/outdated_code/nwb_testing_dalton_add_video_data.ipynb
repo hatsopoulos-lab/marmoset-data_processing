{
 "cells": [
  {
   "cell_type": "markdown",
   "id": "57910d49",
   "metadata": {},
   "source": [
    "# Notes\n",
    "    1) Check if ns6 data is automatically adjusted by gain and offset\n",
    "    2) Add 0's to z property in electrodes table\n",
    "    3) Ask how to set Location information"
   ]
  },
  {
   "cell_type": "code",
   "execution_count": 1,
   "id": "d3708c2c",
   "metadata": {},
   "outputs": [
    {
     "name": "stderr",
     "output_type": "stream",
     "text": [
      "/project/nicho/environments/spyder/lib/python3.9/site-packages/plotly/graph_objects/__init__.py:288: DeprecationWarning: distutils Version classes are deprecated. Use packaging.version instead.\n",
      "  if LooseVersion(ipywidgets.__version__) >= LooseVersion(\"7.0.0\"):\n",
      "/project/nicho/environments/spyder/lib/python3.9/site-packages/plotly/graph_objects/__init__.py:288: DeprecationWarning: distutils Version classes are deprecated. Use packaging.version instead.\n",
      "  if LooseVersion(ipywidgets.__version__) >= LooseVersion(\"7.0.0\"):\n",
      "/project/nicho/environments/spyder/lib/python3.9/site-packages/plotly/graph_objects/__init__.py:288: DeprecationWarning: distutils Version classes are deprecated. Use packaging.version instead.\n",
      "  if LooseVersion(ipywidgets.__version__) >= LooseVersion(\"7.0.0\"):\n",
      "/project/nicho/environments/spyder/lib/python3.9/site-packages/plotly/graph_objects/__init__.py:288: DeprecationWarning: distutils Version classes are deprecated. Use packaging.version instead.\n",
      "  if LooseVersion(ipywidgets.__version__) >= LooseVersion(\"7.0.0\"):\n",
      "/project/nicho/environments/spyder/lib/python3.9/site-packages/plotly/graph_objects/__init__.py:288: DeprecationWarning: distutils Version classes are deprecated. Use packaging.version instead.\n",
      "  if LooseVersion(ipywidgets.__version__) >= LooseVersion(\"7.0.0\"):\n",
      "/project/nicho/environments/spyder/lib/python3.9/site-packages/plotly/graph_objects/__init__.py:288: DeprecationWarning: distutils Version classes are deprecated. Use packaging.version instead.\n",
      "  if LooseVersion(ipywidgets.__version__) >= LooseVersion(\"7.0.0\"):\n",
      "/project/nicho/environments/spyder/lib/python3.9/site-packages/plotly/graph_objects/__init__.py:288: DeprecationWarning: distutils Version classes are deprecated. Use packaging.version instead.\n",
      "  if LooseVersion(ipywidgets.__version__) >= LooseVersion(\"7.0.0\"):\n",
      "/project/nicho/environments/spyder/lib/python3.9/site-packages/plotly/graph_objects/__init__.py:288: DeprecationWarning: distutils Version classes are deprecated. Use packaging.version instead.\n",
      "  if LooseVersion(ipywidgets.__version__) >= LooseVersion(\"7.0.0\"):\n",
      "/project/nicho/environments/spyder/lib/python3.9/site-packages/traittypes/traittypes.py:20: DeprecationWarning: \n",
      "            Sentinel is not a public part of the traitlets API.\n",
      "            It was published by mistake, and may be removed in the future.\n",
      "            \n",
      "  Empty = Sentinel('Empty', 'traittypes',\n"
     ]
    }
   ],
   "source": [
    "# import needed toolboxes\n",
    "from HatLabNWBConverters_with_neuroconv import MarmForageNWBConverter, MarmVideoNWBConverter\n",
    "from pprint import pprint\n",
    "from pathlib import Path\n",
    "from neuroconv.utils import load_dict_from_file\n",
    "from neuroconv.utils.json_schema import dict_deep_update\n",
    "from neuroconv.tools.spikeinterface import add_devices, add_electrode_groups\n",
    "from pynwb import NWBFile, NWBHDF5IO\n",
    "from pynwb.image import ImageSeries \n",
    "from nwbwidgets import nwb2widget\n",
    "from os.path import join as pjoin\n",
    "from importlib import reload, sys\n",
    "import glob\n",
    "import yaml\n",
    "import numpy as np\n",
    "import pandas as pd\n",
    "import os\n",
    "\n",
    "sys.path.insert(0, '/project/nicho/projects/marmosets/code_database/data_processing/nwb_tools/hatlab_nwb_tools/')\n",
    "from hatlab_nwb_functions import *"
   ]
  },
  {
   "cell_type": "code",
   "execution_count": 2,
   "id": "eef53ca0",
   "metadata": {},
   "outputs": [],
   "source": [
    "reload(sys.modules['HatLabNWBConverters_with_neuroconv'])\n",
    "from HatLabNWBConverters_with_neuroconv import MarmForageNWBConverter, MarmVideoNWBConverter\n",
    "reload(sys.modules['hatlab_nwb_functions'])\n",
    "from hatlab_nwb_functions import *"
   ]
  },
  {
   "cell_type": "code",
   "execution_count": 3,
   "id": "bb83aea9",
   "metadata": {},
   "outputs": [],
   "source": [
    "# User defined inputs\n",
    "dpath = '/project/nicho/data/marmosets/electrophys_data_for_processing/'\n",
    "app_path = '/project/nicho/data/marmosets/kinematics_videos/test/TYJL/2022_10_24/avi_videos/'\n",
    "enc_path = '/project/nicho/data/marmosets/kinematics_videos/test_free/TYJL/2022_10_24/avi_videos/'\n",
    "sess = 'TY20221024_testbattery'\n",
    "rfile = 'TY20221024_testbattery_001.ns6'\n",
    "nfile = 'TY20221024_testbattery_001.nev'\n",
    "mfile = 'all_metadata_test.yml'\n",
    "sfile = 'tony.yml'\n",
    "ofile = 'TY20221024_testbattery_001_NWBTEST_only_neural_converters.nwb'\n",
    "prbfile = '/project/nicho/data/marmosets/prbfiles/TY_array.prb' # name of probe (.prb) file\n",
    "\n",
    "nwbfile_path = pjoin(dpath, sess, ofile)\n",
    "\n",
    "filter_dict = {'6': 'None'}\n",
    "stub_test= False"
   ]
  },
  {
   "cell_type": "code",
   "execution_count": 4,
   "id": "04b64f2c",
   "metadata": {},
   "outputs": [
    {
     "data": {
      "text/plain": [
       "{'required': [],\n",
       " 'properties': {'ApparatusBehaviorVideos': {'required': ['file_paths'],\n",
       "   'properties': {'file_paths': {'type': 'array'}},\n",
       "   'type': 'object',\n",
       "   'additionalProperties': False}},\n",
       " 'type': 'object',\n",
       " 'additionalProperties': False,\n",
       " '$schema': 'http://json-schema.org/draft-07/schema#',\n",
       " '$id': 'source.schema.json',\n",
       " 'title': 'Source data schema',\n",
       " 'description': 'Schema for the source data, files and directories',\n",
       " 'version': '0.1.0'}"
      ]
     },
     "execution_count": 4,
     "metadata": {},
     "output_type": "execute_result"
    }
   ],
   "source": [
    "# Get source_schema\n",
    "source_schema = MarmVideoNWBConverter.get_source_schema()\n",
    "source_schema"
   ]
  },
  {
   "cell_type": "code",
   "execution_count": 5,
   "id": "af62c38d",
   "metadata": {},
   "outputs": [],
   "source": [
    "# Construct the source data\n",
    "base_path          = pjoin(dpath, sess)\n",
    "file_recording_raw = pjoin(base_path, rfile)\n",
    "file_sorting       = pjoin(base_path, nfile)\n",
    "app_video_files    = sorted(glob.glob(pjoin(app_path, '*s1*.avi')))[:2]\n",
    "enc_video_files    = sorted(glob.glob(pjoin(enc_path, '*s1*.avi')))[0]\n",
    "\n",
    "source_data = dict(ApparatusBehaviorVideos=dict(file_paths=app_video_files))\n",
    "\n",
    "# if len(app_video_files)>0:\n",
    "#     source_data.update(ApparatusBehaviorVideos=dict(file_paths=app_video_files))    \n",
    "# if len(enc_video_files)>0:\n",
    "#     source_data.update(EnclosureBehaviorVideos=dict(file_paths=enc_video_files))  \n",
    "    \n",
    "# len(source_data['ApparatusBehaviorVideos']['file_paths'])\n"
   ]
  },
  {
   "cell_type": "code",
   "execution_count": 6,
   "id": "27500a16",
   "metadata": {},
   "outputs": [
    {
     "name": "stdout",
     "output_type": "stream",
     "text": [
      "Source data is valid!\n",
      "Data interfaces for this converter:\n",
      "{'ApparatusBehaviorVideos': <neuroconv.datainterfaces.behavior.movie.moviedatainterface.MovieInterface object at 0x7f6a678eabb0>}\n"
     ]
    }
   ],
   "source": [
    "# Initialize converter\n",
    "converter = MarmVideoNWBConverter(source_data=source_data)\n",
    "\n",
    "print('Data interfaces for this converter:')\n",
    "pprint(converter.data_interface_objects, width=120)"
   ]
  },
  {
   "cell_type": "code",
   "execution_count": 7,
   "id": "36c1ca10",
   "metadata": {},
   "outputs": [],
   "source": [
    "# # Get metadata_schema\n",
    "# metadata_schema = converter.get_metadata_schema()\n",
    "# #pprint(metadata_schema, width=120)\n",
    "# metadata_schema['properties']['Behavior']['properties']['Movies']\n",
    "# # for key in metadata_schema['properties']['Behavior'].keys():\n",
    "# #     print('%s:' %key)"
   ]
  },
  {
   "cell_type": "code",
   "execution_count": 8,
   "id": "bea17b75",
   "metadata": {},
   "outputs": [],
   "source": [
    "io = NWBHDF5IO(nwbfile_path, 'r+')\n",
    "nwbfile = io.read()\n"
   ]
  },
  {
   "cell_type": "code",
   "execution_count": 9,
   "id": "916b9cf4",
   "metadata": {},
   "outputs": [
    {
     "data": {
      "text/plain": [
       "['session_start_time']"
      ]
     },
     "execution_count": 9,
     "metadata": {},
     "output_type": "execute_result"
    }
   ],
   "source": [
    "nwbmeta = nwbfile.fields\n",
    "meta_keys = [key for key in nwbmeta.keys() if key in ['session_start_time']]\n",
    "meta_keys"
   ]
  },
  {
   "cell_type": "code",
   "execution_count": 10,
   "id": "cd55adae",
   "metadata": {},
   "outputs": [
    {
     "name": "stdout",
     "output_type": "stream",
     "text": [
      "Metadata is valid!\n"
     ]
    }
   ],
   "source": [
    "# Get metadata from source data and from file\n",
    "metadata = converter.get_metadata()\n",
    "\n",
    "# load exp metadata\n",
    "#m = load_dict_from_file('/project/nicho/projects/marmosets/code_database/data_processing/nwb_tools/session_metadata.yml')\n",
    "# m = load_dict_from_file(mfile)\n",
    "for key in meta_keys:\n",
    "    metadata = dict_deep_update(metadata, {'NWBFile': {key : nwbmeta[key]}}, append_list=False, remove_repeats=True)\n",
    "\n",
    "# load subject metadata\n",
    "# s = load_dict_from_file(sfile)\n",
    "# metadata = dict_deep_update(metadata, s)\n",
    "# convert \n",
    "converter.validate_metadata(metadata)"
   ]
  },
  {
   "cell_type": "code",
   "execution_count": 11,
   "id": "45ca9646",
   "metadata": {},
   "outputs": [],
   "source": [
    "# conversion schema\n",
    "conversion_options_schema = converter.get_conversion_options_schema()\n",
    "conversion_options = converter.get_conversion_options()\n",
    "# conversion_options"
   ]
  },
  {
   "cell_type": "code",
   "execution_count": 12,
   "id": "3c03021d",
   "metadata": {},
   "outputs": [],
   "source": [
    "# build conversion options\n",
    "conversion_options = converter.get_conversion_options()\n",
    "conversion_options['ApparatusBehaviorVideos']=dict(stub_test=stub_test, \n",
    "                                                   starting_times=[855.66, 900.0],\n",
    "                                                  )\n",
    "# get video start times\n",
    "#conversion_options['KinematicVideos'] = dict(starting_times=kstart_times)"
   ]
  },
  {
   "cell_type": "code",
   "execution_count": 99,
   "id": "ffeaea2c",
   "metadata": {},
   "outputs": [
    {
     "name": "stdout",
     "output_type": "stream",
     "text": [
      "Metadata is valid!\n",
      "conversion_options is valid!\n"
     ]
    },
    {
     "name": "stderr",
     "output_type": "stream",
     "text": [
      "retrieving timestamps: 100%|████████████████| 2564/2564 [00:33<00:00, 76.99it/s]\n"
     ]
    }
   ],
   "source": [
    "converter.run_conversion(\n",
    "    metadata=metadata,  \n",
    "    nwbfile = nwbfile,\n",
    "    conversion_options=conversion_options,\n",
    ")\n",
    "io.write(nwbfile)\n",
    "io.close()"
   ]
  },
  {
   "cell_type": "code",
   "execution_count": 100,
   "id": "f5ea9cf5",
   "metadata": {},
   "outputs": [
    {
     "data": {
      "application/vnd.jupyter.widget-view+json": {
       "model_id": "d3cb69f374ba4c78bf0fd8ec385d48d6",
       "version_major": 2,
       "version_minor": 0
      },
      "text/plain": [
       "VBox(children=(HBox(children=(Label(value='session_description:', layout=Layout(max_height='40px', max_width='…"
      ]
     },
     "metadata": {},
     "output_type": "display_data"
    },
    {
     "ename": "ValueError",
     "evalue": "tmax and tmin were probably entered in the wrong order. tmax should be first",
     "output_type": "error",
     "traceback": [
      "\u001b[0;31m---------------------------------------------------------------------------\u001b[0m",
      "\u001b[0;31mValueError\u001b[0m                                Traceback (most recent call last)",
      "\u001b[0;32m/project/nicho/environments/spyder/lib/python3.9/site-packages/ipywidgets/widgets/widget.py\u001b[0m in \u001b[0;36m_handle_msg\u001b[0;34m(self, msg)\u001b[0m\n\u001b[1;32m    674\u001b[0m                 \u001b[0;32mif\u001b[0m \u001b[0;34m'buffer_paths'\u001b[0m \u001b[0;32min\u001b[0m \u001b[0mdata\u001b[0m\u001b[0;34m:\u001b[0m\u001b[0;34m\u001b[0m\u001b[0;34m\u001b[0m\u001b[0m\n\u001b[1;32m    675\u001b[0m                     \u001b[0m_put_buffers\u001b[0m\u001b[0;34m(\u001b[0m\u001b[0mstate\u001b[0m\u001b[0;34m,\u001b[0m \u001b[0mdata\u001b[0m\u001b[0;34m[\u001b[0m\u001b[0;34m'buffer_paths'\u001b[0m\u001b[0;34m]\u001b[0m\u001b[0;34m,\u001b[0m \u001b[0mmsg\u001b[0m\u001b[0;34m[\u001b[0m\u001b[0;34m'buffers'\u001b[0m\u001b[0;34m]\u001b[0m\u001b[0;34m)\u001b[0m\u001b[0;34m\u001b[0m\u001b[0;34m\u001b[0m\u001b[0m\n\u001b[0;32m--> 676\u001b[0;31m                 \u001b[0mself\u001b[0m\u001b[0;34m.\u001b[0m\u001b[0mset_state\u001b[0m\u001b[0;34m(\u001b[0m\u001b[0mstate\u001b[0m\u001b[0;34m)\u001b[0m\u001b[0;34m\u001b[0m\u001b[0;34m\u001b[0m\u001b[0m\n\u001b[0m\u001b[1;32m    677\u001b[0m \u001b[0;34m\u001b[0m\u001b[0m\n\u001b[1;32m    678\u001b[0m         \u001b[0;31m# Handle a state request.\u001b[0m\u001b[0;34m\u001b[0m\u001b[0;34m\u001b[0m\u001b[0m\n",
      "\u001b[0;32m/project/nicho/environments/spyder/lib/python3.9/site-packages/ipywidgets/widgets/widget.py\u001b[0m in \u001b[0;36mset_state\u001b[0;34m(self, sync_data)\u001b[0m\n\u001b[1;32m    543\u001b[0m                     from_json = self.trait_metadata(name, 'from_json',\n\u001b[1;32m    544\u001b[0m                                                     self._trait_from_json)\n\u001b[0;32m--> 545\u001b[0;31m                     \u001b[0mself\u001b[0m\u001b[0;34m.\u001b[0m\u001b[0mset_trait\u001b[0m\u001b[0;34m(\u001b[0m\u001b[0mname\u001b[0m\u001b[0;34m,\u001b[0m \u001b[0mfrom_json\u001b[0m\u001b[0;34m(\u001b[0m\u001b[0msync_data\u001b[0m\u001b[0;34m[\u001b[0m\u001b[0mname\u001b[0m\u001b[0;34m]\u001b[0m\u001b[0;34m,\u001b[0m \u001b[0mself\u001b[0m\u001b[0;34m)\u001b[0m\u001b[0;34m)\u001b[0m\u001b[0;34m\u001b[0m\u001b[0;34m\u001b[0m\u001b[0m\n\u001b[0m\u001b[1;32m    546\u001b[0m \u001b[0;34m\u001b[0m\u001b[0m\n\u001b[1;32m    547\u001b[0m     \u001b[0;32mdef\u001b[0m \u001b[0msend\u001b[0m\u001b[0;34m(\u001b[0m\u001b[0mself\u001b[0m\u001b[0;34m,\u001b[0m \u001b[0mcontent\u001b[0m\u001b[0;34m,\u001b[0m \u001b[0mbuffers\u001b[0m\u001b[0;34m=\u001b[0m\u001b[0;32mNone\u001b[0m\u001b[0;34m)\u001b[0m\u001b[0;34m:\u001b[0m\u001b[0;34m\u001b[0m\u001b[0;34m\u001b[0m\u001b[0m\n",
      "\u001b[0;32m/project/nicho/environments/spyder/lib/python3.9/contextlib.py\u001b[0m in \u001b[0;36m__exit__\u001b[0;34m(self, typ, value, traceback)\u001b[0m\n\u001b[1;32m    124\u001b[0m         \u001b[0;32mif\u001b[0m \u001b[0mtyp\u001b[0m \u001b[0;32mis\u001b[0m \u001b[0;32mNone\u001b[0m\u001b[0;34m:\u001b[0m\u001b[0;34m\u001b[0m\u001b[0;34m\u001b[0m\u001b[0m\n\u001b[1;32m    125\u001b[0m             \u001b[0;32mtry\u001b[0m\u001b[0;34m:\u001b[0m\u001b[0;34m\u001b[0m\u001b[0;34m\u001b[0m\u001b[0m\n\u001b[0;32m--> 126\u001b[0;31m                 \u001b[0mnext\u001b[0m\u001b[0;34m(\u001b[0m\u001b[0mself\u001b[0m\u001b[0;34m.\u001b[0m\u001b[0mgen\u001b[0m\u001b[0;34m)\u001b[0m\u001b[0;34m\u001b[0m\u001b[0;34m\u001b[0m\u001b[0m\n\u001b[0m\u001b[1;32m    127\u001b[0m             \u001b[0;32mexcept\u001b[0m \u001b[0mStopIteration\u001b[0m\u001b[0;34m:\u001b[0m\u001b[0;34m\u001b[0m\u001b[0;34m\u001b[0m\u001b[0m\n\u001b[1;32m    128\u001b[0m                 \u001b[0;32mreturn\u001b[0m \u001b[0;32mFalse\u001b[0m\u001b[0;34m\u001b[0m\u001b[0;34m\u001b[0m\u001b[0m\n",
      "\u001b[0;32m/project/nicho/environments/spyder/lib/python3.9/site-packages/traitlets/traitlets.py\u001b[0m in \u001b[0;36mhold_trait_notifications\u001b[0;34m(self)\u001b[0m\n\u001b[1;32m   1214\u001b[0m                 \u001b[0;32mfor\u001b[0m \u001b[0mchanges\u001b[0m \u001b[0;32min\u001b[0m \u001b[0mcache\u001b[0m\u001b[0;34m.\u001b[0m\u001b[0mvalues\u001b[0m\u001b[0;34m(\u001b[0m\u001b[0;34m)\u001b[0m\u001b[0;34m:\u001b[0m\u001b[0;34m\u001b[0m\u001b[0;34m\u001b[0m\u001b[0m\n\u001b[1;32m   1215\u001b[0m                     \u001b[0;32mfor\u001b[0m \u001b[0mchange\u001b[0m \u001b[0;32min\u001b[0m \u001b[0mchanges\u001b[0m\u001b[0;34m:\u001b[0m\u001b[0;34m\u001b[0m\u001b[0;34m\u001b[0m\u001b[0m\n\u001b[0;32m-> 1216\u001b[0;31m                         \u001b[0mself\u001b[0m\u001b[0;34m.\u001b[0m\u001b[0mnotify_change\u001b[0m\u001b[0;34m(\u001b[0m\u001b[0mchange\u001b[0m\u001b[0;34m)\u001b[0m\u001b[0;34m\u001b[0m\u001b[0;34m\u001b[0m\u001b[0m\n\u001b[0m\u001b[1;32m   1217\u001b[0m \u001b[0;34m\u001b[0m\u001b[0m\n\u001b[1;32m   1218\u001b[0m     \u001b[0;32mdef\u001b[0m \u001b[0m_notify_trait\u001b[0m\u001b[0;34m(\u001b[0m\u001b[0mself\u001b[0m\u001b[0;34m,\u001b[0m \u001b[0mname\u001b[0m\u001b[0;34m,\u001b[0m \u001b[0mold_value\u001b[0m\u001b[0;34m,\u001b[0m \u001b[0mnew_value\u001b[0m\u001b[0;34m)\u001b[0m\u001b[0;34m:\u001b[0m\u001b[0;34m\u001b[0m\u001b[0;34m\u001b[0m\u001b[0m\n",
      "\u001b[0;32m/project/nicho/environments/spyder/lib/python3.9/site-packages/ipywidgets/widgets/widget.py\u001b[0m in \u001b[0;36mnotify_change\u001b[0;34m(self, change)\u001b[0m\n\u001b[1;32m    604\u001b[0m                 \u001b[0;31m# Send new state to front-end\u001b[0m\u001b[0;34m\u001b[0m\u001b[0;34m\u001b[0m\u001b[0m\n\u001b[1;32m    605\u001b[0m                 \u001b[0mself\u001b[0m\u001b[0;34m.\u001b[0m\u001b[0msend_state\u001b[0m\u001b[0;34m(\u001b[0m\u001b[0mkey\u001b[0m\u001b[0;34m=\u001b[0m\u001b[0mname\u001b[0m\u001b[0;34m)\u001b[0m\u001b[0;34m\u001b[0m\u001b[0;34m\u001b[0m\u001b[0m\n\u001b[0;32m--> 606\u001b[0;31m         \u001b[0msuper\u001b[0m\u001b[0;34m(\u001b[0m\u001b[0mWidget\u001b[0m\u001b[0;34m,\u001b[0m \u001b[0mself\u001b[0m\u001b[0;34m)\u001b[0m\u001b[0;34m.\u001b[0m\u001b[0mnotify_change\u001b[0m\u001b[0;34m(\u001b[0m\u001b[0mchange\u001b[0m\u001b[0;34m)\u001b[0m\u001b[0;34m\u001b[0m\u001b[0;34m\u001b[0m\u001b[0m\n\u001b[0m\u001b[1;32m    607\u001b[0m \u001b[0;34m\u001b[0m\u001b[0m\n\u001b[1;32m    608\u001b[0m     \u001b[0;32mdef\u001b[0m \u001b[0m__repr__\u001b[0m\u001b[0;34m(\u001b[0m\u001b[0mself\u001b[0m\u001b[0;34m)\u001b[0m\u001b[0;34m:\u001b[0m\u001b[0;34m\u001b[0m\u001b[0;34m\u001b[0m\u001b[0m\n",
      "\u001b[0;32m/project/nicho/environments/spyder/lib/python3.9/site-packages/traitlets/traitlets.py\u001b[0m in \u001b[0;36mnotify_change\u001b[0;34m(self, change)\u001b[0m\n\u001b[1;32m   1227\u001b[0m     \u001b[0;32mdef\u001b[0m \u001b[0mnotify_change\u001b[0m\u001b[0;34m(\u001b[0m\u001b[0mself\u001b[0m\u001b[0;34m,\u001b[0m \u001b[0mchange\u001b[0m\u001b[0;34m)\u001b[0m\u001b[0;34m:\u001b[0m\u001b[0;34m\u001b[0m\u001b[0;34m\u001b[0m\u001b[0m\n\u001b[1;32m   1228\u001b[0m         \u001b[0;34m\"\"\"Notify observers of a change event\"\"\"\u001b[0m\u001b[0;34m\u001b[0m\u001b[0;34m\u001b[0m\u001b[0m\n\u001b[0;32m-> 1229\u001b[0;31m         \u001b[0;32mreturn\u001b[0m \u001b[0mself\u001b[0m\u001b[0;34m.\u001b[0m\u001b[0m_notify_observers\u001b[0m\u001b[0;34m(\u001b[0m\u001b[0mchange\u001b[0m\u001b[0;34m)\u001b[0m\u001b[0;34m\u001b[0m\u001b[0;34m\u001b[0m\u001b[0m\n\u001b[0m\u001b[1;32m   1230\u001b[0m \u001b[0;34m\u001b[0m\u001b[0m\n\u001b[1;32m   1231\u001b[0m     \u001b[0;32mdef\u001b[0m \u001b[0m_notify_observers\u001b[0m\u001b[0;34m(\u001b[0m\u001b[0mself\u001b[0m\u001b[0;34m,\u001b[0m \u001b[0mevent\u001b[0m\u001b[0;34m)\u001b[0m\u001b[0;34m:\u001b[0m\u001b[0;34m\u001b[0m\u001b[0;34m\u001b[0m\u001b[0m\n",
      "\u001b[0;32m/project/nicho/environments/spyder/lib/python3.9/site-packages/traitlets/traitlets.py\u001b[0m in \u001b[0;36m_notify_observers\u001b[0;34m(self, event)\u001b[0m\n\u001b[1;32m   1264\u001b[0m                 \u001b[0mc\u001b[0m \u001b[0;34m=\u001b[0m \u001b[0mgetattr\u001b[0m\u001b[0;34m(\u001b[0m\u001b[0mself\u001b[0m\u001b[0;34m,\u001b[0m \u001b[0mc\u001b[0m\u001b[0;34m.\u001b[0m\u001b[0mname\u001b[0m\u001b[0;34m)\u001b[0m\u001b[0;34m\u001b[0m\u001b[0;34m\u001b[0m\u001b[0m\n\u001b[1;32m   1265\u001b[0m \u001b[0;34m\u001b[0m\u001b[0m\n\u001b[0;32m-> 1266\u001b[0;31m             \u001b[0mc\u001b[0m\u001b[0;34m(\u001b[0m\u001b[0mevent\u001b[0m\u001b[0;34m)\u001b[0m\u001b[0;34m\u001b[0m\u001b[0;34m\u001b[0m\u001b[0m\n\u001b[0m\u001b[1;32m   1267\u001b[0m \u001b[0;34m\u001b[0m\u001b[0m\n\u001b[1;32m   1268\u001b[0m     \u001b[0;32mdef\u001b[0m \u001b[0m_add_notifiers\u001b[0m\u001b[0;34m(\u001b[0m\u001b[0mself\u001b[0m\u001b[0;34m,\u001b[0m \u001b[0mhandler\u001b[0m\u001b[0;34m,\u001b[0m \u001b[0mname\u001b[0m\u001b[0;34m,\u001b[0m \u001b[0mtype\u001b[0m\u001b[0;34m)\u001b[0m\u001b[0;34m:\u001b[0m\u001b[0;34m\u001b[0m\u001b[0;34m\u001b[0m\u001b[0m\n",
      "\u001b[0;32m/project/nicho/environments/spyder/lib/python3.9/site-packages/nwbwidgets/base.py\u001b[0m in \u001b[0;36mon_selected_index\u001b[0;34m(change)\u001b[0m\n\u001b[1;32m    117\u001b[0m             \u001b[0mchange\u001b[0m\u001b[0;34m.\u001b[0m\u001b[0mowner\u001b[0m\u001b[0;34m.\u001b[0m\u001b[0mchildren\u001b[0m\u001b[0;34m[\u001b[0m\u001b[0mchange\u001b[0m\u001b[0;34m.\u001b[0m\u001b[0mnew\u001b[0m\u001b[0;34m]\u001b[0m\u001b[0;34m,\u001b[0m \u001b[0mwidgets\u001b[0m\u001b[0;34m.\u001b[0m\u001b[0mHTML\u001b[0m\u001b[0;34m\u001b[0m\u001b[0;34m\u001b[0m\u001b[0m\n\u001b[1;32m    118\u001b[0m         ):\n\u001b[0;32m--> 119\u001b[0;31m             children[change.new] = nwb2widget(\n\u001b[0m\u001b[1;32m    120\u001b[0m                 \u001b[0mlist\u001b[0m\u001b[0;34m(\u001b[0m\u001b[0md\u001b[0m\u001b[0;34m.\u001b[0m\u001b[0mvalues\u001b[0m\u001b[0;34m(\u001b[0m\u001b[0;34m)\u001b[0m\u001b[0;34m)\u001b[0m\u001b[0;34m[\u001b[0m\u001b[0mchange\u001b[0m\u001b[0;34m.\u001b[0m\u001b[0mnew\u001b[0m\u001b[0;34m]\u001b[0m\u001b[0;34m,\u001b[0m\u001b[0;34m\u001b[0m\u001b[0;34m\u001b[0m\u001b[0m\n\u001b[1;32m    121\u001b[0m                 \u001b[0mneurodata_vis_spec\u001b[0m\u001b[0;34m=\u001b[0m\u001b[0mneurodata_vis_spec\u001b[0m\u001b[0;34m,\u001b[0m\u001b[0;34m\u001b[0m\u001b[0;34m\u001b[0m\u001b[0m\n",
      "\u001b[0;32m/project/nicho/environments/spyder/lib/python3.9/site-packages/nwbwidgets/base.py\u001b[0m in \u001b[0;36mnwb2widget\u001b[0;34m(node, neurodata_vis_spec, **pass_kwargs)\u001b[0m\n\u001b[1;32m    242\u001b[0m             \u001b[0;32melif\u001b[0m \u001b[0mcallable\u001b[0m\u001b[0;34m(\u001b[0m\u001b[0mspec\u001b[0m\u001b[0;34m)\u001b[0m\u001b[0;34m:\u001b[0m\u001b[0;34m\u001b[0m\u001b[0;34m\u001b[0m\u001b[0m\n\u001b[1;32m    243\u001b[0m                 return vis2widget(\n\u001b[0;32m--> 244\u001b[0;31m                     \u001b[0mspec\u001b[0m\u001b[0;34m(\u001b[0m\u001b[0mnode\u001b[0m\u001b[0;34m,\u001b[0m \u001b[0mneurodata_vis_spec\u001b[0m\u001b[0;34m=\u001b[0m\u001b[0mneurodata_vis_spec\u001b[0m\u001b[0;34m,\u001b[0m \u001b[0;34m**\u001b[0m\u001b[0mpass_kwargs\u001b[0m\u001b[0;34m)\u001b[0m\u001b[0;34m\u001b[0m\u001b[0;34m\u001b[0m\u001b[0m\n\u001b[0m\u001b[1;32m    245\u001b[0m                 )\n\u001b[1;32m    246\u001b[0m     \u001b[0mout1\u001b[0m \u001b[0;34m=\u001b[0m \u001b[0mwidgets\u001b[0m\u001b[0;34m.\u001b[0m\u001b[0mOutput\u001b[0m\u001b[0;34m(\u001b[0m\u001b[0;34m)\u001b[0m\u001b[0;34m\u001b[0m\u001b[0;34m\u001b[0m\u001b[0m\n",
      "\u001b[0;32m/project/nicho/environments/spyder/lib/python3.9/site-packages/nwbwidgets/image.py\u001b[0m in \u001b[0;36m__init__\u001b[0;34m(self, imageseries, foreign_time_window_controller, **kwargs)\u001b[0m\n\u001b[1;32m     40\u001b[0m             \u001b[0;32melse\u001b[0m\u001b[0;34m:\u001b[0m\u001b[0;34m\u001b[0m\u001b[0;34m\u001b[0m\u001b[0m\n\u001b[1;32m     41\u001b[0m                 \u001b[0mtmax\u001b[0m \u001b[0;34m=\u001b[0m \u001b[0mget_timeseries_maxt\u001b[0m\u001b[0;34m(\u001b[0m\u001b[0mimageseries\u001b[0m\u001b[0;34m)\u001b[0m\u001b[0;34m\u001b[0m\u001b[0;34m\u001b[0m\u001b[0m\n\u001b[0;32m---> 42\u001b[0;31m             \u001b[0mself\u001b[0m\u001b[0;34m.\u001b[0m\u001b[0mtime_window_controller\u001b[0m \u001b[0;34m=\u001b[0m \u001b[0mStartAndDurationController\u001b[0m\u001b[0;34m(\u001b[0m\u001b[0mtmax\u001b[0m\u001b[0;34m,\u001b[0m \u001b[0mtmin\u001b[0m\u001b[0;34m)\u001b[0m\u001b[0;34m\u001b[0m\u001b[0;34m\u001b[0m\u001b[0m\n\u001b[0m\u001b[1;32m     43\u001b[0m         \u001b[0;32melse\u001b[0m\u001b[0;34m:\u001b[0m\u001b[0;34m\u001b[0m\u001b[0;34m\u001b[0m\u001b[0m\n\u001b[1;32m     44\u001b[0m             \u001b[0mself\u001b[0m\u001b[0;34m.\u001b[0m\u001b[0mtime_window_controller\u001b[0m \u001b[0;34m=\u001b[0m \u001b[0mforeign_time_window_controller\u001b[0m\u001b[0;34m\u001b[0m\u001b[0;34m\u001b[0m\u001b[0m\n",
      "\u001b[0;32m/project/nicho/environments/spyder/lib/python3.9/site-packages/nwbwidgets/controllers/time_window_controllers.py\u001b[0m in \u001b[0;36m__init__\u001b[0;34m(self, tmax, tmin, start_value, description, **kwargs)\u001b[0m\n\u001b[1;32m    220\u001b[0m \u001b[0;34m\u001b[0m\u001b[0m\n\u001b[1;32m    221\u001b[0m         \u001b[0;32mif\u001b[0m \u001b[0mtmin\u001b[0m \u001b[0;34m>\u001b[0m \u001b[0mtmax\u001b[0m\u001b[0;34m:\u001b[0m\u001b[0;34m\u001b[0m\u001b[0;34m\u001b[0m\u001b[0m\n\u001b[0;32m--> 222\u001b[0;31m             raise ValueError(\n\u001b[0m\u001b[1;32m    223\u001b[0m                 \u001b[0;34m\"tmax and tmin were probably entered in the wrong order. tmax should be first\"\u001b[0m\u001b[0;34m\u001b[0m\u001b[0;34m\u001b[0m\u001b[0m\n\u001b[1;32m    224\u001b[0m             )\n",
      "\u001b[0;31mValueError\u001b[0m: tmax and tmin were probably entered in the wrong order. tmax should be first"
     ]
    }
   ],
   "source": [
    "io = NWBHDF5IO(nwbfile_path, 'r')\n",
    "nwbfile = io.read()\n",
    "nwb2widget(nwbfile)"
   ]
  },
  {
   "cell_type": "code",
   "execution_count": 101,
   "id": "3d7b2584",
   "metadata": {},
   "outputs": [],
   "source": [
    "io.close()"
   ]
  }
 ],
 "metadata": {
  "kernelspec": {
   "display_name": "Python 3 (ipykernel)",
   "language": "python",
   "name": "python3"
  },
  "language_info": {
   "codemirror_mode": {
    "name": "ipython",
    "version": 3
   },
   "file_extension": ".py",
   "mimetype": "text/x-python",
   "name": "python",
   "nbconvert_exporter": "python",
   "pygments_lexer": "ipython3",
   "version": "3.9.13"
  }
 },
 "nbformat": 4,
 "nbformat_minor": 5
}
