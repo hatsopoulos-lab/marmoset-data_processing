{
 "cells": [
  {
   "cell_type": "markdown",
   "id": "e9bf42b7",
   "metadata": {},
   "source": [
    "# Notes\n",
    "    1) Check if ns6 data is automatically adjusted by gain and offset\n",
    "    2) Add 0's to z property in electrodes table\n",
    "    3) Ask how to set Location information"
   ]
  },
  {
   "cell_type": "code",
   "execution_count": 1,
   "id": "d3708c2c",
   "metadata": {},
   "outputs": [
    {
     "name": "stderr",
     "output_type": "stream",
     "text": [
      "/project/nicho/environments/spyder/lib/python3.9/site-packages/plotly/graph_objects/__init__.py:288: DeprecationWarning: distutils Version classes are deprecated. Use packaging.version instead.\n",
      "  if LooseVersion(ipywidgets.__version__) >= LooseVersion(\"7.0.0\"):\n",
      "/project/nicho/environments/spyder/lib/python3.9/site-packages/plotly/graph_objects/__init__.py:288: DeprecationWarning: distutils Version classes are deprecated. Use packaging.version instead.\n",
      "  if LooseVersion(ipywidgets.__version__) >= LooseVersion(\"7.0.0\"):\n",
      "/project/nicho/environments/spyder/lib/python3.9/site-packages/plotly/graph_objects/__init__.py:288: DeprecationWarning: distutils Version classes are deprecated. Use packaging.version instead.\n",
      "  if LooseVersion(ipywidgets.__version__) >= LooseVersion(\"7.0.0\"):\n",
      "/project/nicho/environments/spyder/lib/python3.9/site-packages/plotly/graph_objects/__init__.py:288: DeprecationWarning: distutils Version classes are deprecated. Use packaging.version instead.\n",
      "  if LooseVersion(ipywidgets.__version__) >= LooseVersion(\"7.0.0\"):\n",
      "/project/nicho/environments/spyder/lib/python3.9/site-packages/plotly/graph_objects/__init__.py:288: DeprecationWarning: distutils Version classes are deprecated. Use packaging.version instead.\n",
      "  if LooseVersion(ipywidgets.__version__) >= LooseVersion(\"7.0.0\"):\n",
      "/project/nicho/environments/spyder/lib/python3.9/site-packages/plotly/graph_objects/__init__.py:288: DeprecationWarning: distutils Version classes are deprecated. Use packaging.version instead.\n",
      "  if LooseVersion(ipywidgets.__version__) >= LooseVersion(\"7.0.0\"):\n",
      "/project/nicho/environments/spyder/lib/python3.9/site-packages/plotly/graph_objects/__init__.py:288: DeprecationWarning: distutils Version classes are deprecated. Use packaging.version instead.\n",
      "  if LooseVersion(ipywidgets.__version__) >= LooseVersion(\"7.0.0\"):\n",
      "/project/nicho/environments/spyder/lib/python3.9/site-packages/plotly/graph_objects/__init__.py:288: DeprecationWarning: distutils Version classes are deprecated. Use packaging.version instead.\n",
      "  if LooseVersion(ipywidgets.__version__) >= LooseVersion(\"7.0.0\"):\n",
      "/project/nicho/environments/spyder/lib/python3.9/site-packages/traittypes/traittypes.py:20: DeprecationWarning: \n",
      "            Sentinel is not a public part of the traitlets API.\n",
      "            It was published by mistake, and may be removed in the future.\n",
      "            \n",
      "  Empty = Sentinel('Empty', 'traittypes',\n"
     ]
    }
   ],
   "source": [
    "# import needed toolboxes\n",
    "from HatLabNWBConverters_with_neuroconv import MarmForageNWBConverter\n",
    "from pprint import pprint\n",
    "from pathlib import Path\n",
    "from neuroconv.utils import load_dict_from_file\n",
    "from neuroconv.utils.json_schema import dict_deep_update\n",
    "from neuroconv.tools.spikeinterface import add_devices, add_electrode_groups\n",
    "from pynwb import NWBFile, NWBHDF5IO\n",
    "from pynwb.image import ImageSeries, RGBImage\n",
    "from pynwb.base import Images\n",
    "from nwbwidgets import nwb2widget\n",
    "from os.path import join as pjoin\n",
    "from importlib import reload, sys\n",
    "import glob\n",
    "import yaml\n",
    "import numpy as np\n",
    "import pandas as pd\n",
    "import os\n",
    "\n",
    "sys.path.insert(0, '/project/nicho/projects/marmosets/code_database/data_processing/nwb_tools/hatlab_nwb_tools/')\n",
    "from hatlab_nwb_functions import *"
   ]
  },
  {
   "cell_type": "code",
   "execution_count": 2,
   "id": "eef53ca0",
   "metadata": {},
   "outputs": [],
   "source": [
    "reload(sys.modules['HatLabNWBConverters_with_neuroconv'])\n",
    "from HatLabNWBConverters_with_neuroconv import MarmForageNWBConverter\n",
    "reload(sys.modules['hatlab_nwb_functions'])\n",
    "from hatlab_nwb_functions import *"
   ]
  },
  {
   "cell_type": "code",
   "execution_count": 4,
   "id": "bb83aea9",
   "metadata": {},
   "outputs": [],
   "source": [
    "# User defined inputs\n",
    "dpath = '/project/nicho/data/marmosets/electrophys_data_for_processing/'\n",
    "#app_path = '/project/nicho/data/marmosets/kinematics_videos/test/TYJL/2022_10_24/avi_videos/'\n",
    "#enc_path = '/project/nicho/data/marmosets/kinematics_videos/test_free/TYJL/2022_10_24/avi_videos/'\n",
    "sess = 'MG20230317_1353_mothsAndFree'\n",
    "rfile = 'MG20230317_1353_mothsAndFree001.ns6'\n",
    "nfile = 'MG20230317_1353_mothsAndFree001.nev'\n",
    "mfile = 'MG_complete_metadata.yml'\n",
    "sfile = 'tony.yml'\n",
    "ofile = 'MG20230317_1353_mothsAndFree001_TESTING.nwb'\n",
    "prbfile = '/project/nicho/data/marmosets/prbfiles/MG_01.prb' # name of probe (.prb) file\n",
    "\n",
    "nwbfile_path = pjoin(dpath, sess, ofile)\n",
    "\n",
    "filter_dict = {'6': 'None'}\n",
    "stub_test= False"
   ]
  },
  {
   "cell_type": "code",
   "execution_count": 4,
   "id": "04b64f2c",
   "metadata": {},
   "outputs": [],
   "source": [
    "# Get source_schema\n",
    "source_schema = MarmForageNWBConverter.get_source_schema()"
   ]
  },
  {
   "cell_type": "code",
   "execution_count": 5,
   "id": "af62c38d",
   "metadata": {},
   "outputs": [],
   "source": [
    "# Construct the source data\n",
    "base_path          = pjoin(dpath, sess)\n",
    "file_recording_raw = pjoin(base_path, rfile)\n",
    "file_sorting       = pjoin(base_path, nfile)\n",
    "#app_video_files    = sorted(glob.glob(pjoin(app_path, '*s1*.avi')))[:2]\n",
    "#enc_video_files    = sorted(glob.glob(pjoin(enc_path, '*s1*.avi')))[0]\n",
    "\n",
    "source_data = dict(BlackrockRecordingInterfaceRaw=dict(file_path=file_recording_raw),\n",
    "                   BlackrockSortingInterface=dict(file_path=file_sorting))\n",
    "\n",
    "# if len(app_video_files)>0:\n",
    "#     source_data.update(ApparatusBehaviorVideos=dict(file_paths=app_video_files))    \n",
    "# if len(enc_video_files)>0:\n",
    "#     source_data.update(EnclosureBehaviorVideos=dict(file_paths=enc_video_files))  \n",
    "    \n",
    "# len(source_data['ApparatusBehaviorVideos']['file_paths'])\n"
   ]
  },
  {
   "cell_type": "code",
   "execution_count": 6,
   "id": "27500a16",
   "metadata": {},
   "outputs": [
    {
     "name": "stdout",
     "output_type": "stream",
     "text": [
      "Source data is valid!\n",
      "Data interfaces for this converter:\n",
      "{'BlackrockRecordingInterfaceRaw': <neuroconv.datainterfaces.ecephys.blackrock.blackrockdatainterface.BlackrockRecordingInterface object at 0x7f12c40ff610>,\n",
      " 'BlackrockSortingInterface': <neuroconv.datainterfaces.ecephys.blackrock.blackrockdatainterface.BlackrockSortingInterface object at 0x7f12c4150d00>}\n"
     ]
    }
   ],
   "source": [
    "# Initialize converter\n",
    "converter = MarmForageNWBConverter(source_data=source_data)\n",
    "\n",
    "print('Data interfaces for this converter:')\n",
    "pprint(converter.data_interface_objects, width=120)"
   ]
  },
  {
   "cell_type": "code",
   "execution_count": 7,
   "id": "36c1ca10",
   "metadata": {},
   "outputs": [],
   "source": [
    "# # Get metadata_schema\n",
    "# metadata_schema = converter.get_metadata_schema()\n",
    "# #pprint(metadata_schema, width=120)\n",
    "# metadata_schema['properties']['Behavior']['properties']['Movies']\n",
    "# # for key in metadata_schema['properties']['Behavior'].keys():\n",
    "# #     print('%s:' %key)"
   ]
  },
  {
   "cell_type": "code",
   "execution_count": 8,
   "id": "cd55adae",
   "metadata": {},
   "outputs": [
    {
     "name": "stdout",
     "output_type": "stream",
     "text": [
      "Metadata is valid!\n"
     ]
    }
   ],
   "source": [
    "# Get metadata from source data and from file\n",
    "metadata = converter.get_metadata()\n",
    "# load exp metadata\n",
    "#m = load_dict_from_file('/project/nicho/projects/marmosets/code_database/data_processing/nwb_tools/session_metadata.yml')\n",
    "m = load_dict_from_file(mfile)\n",
    "metadata = dict_deep_update(metadata, m, append_list=False, remove_repeats=True)\n",
    "\n",
    "# add session description and notes\n",
    "try:\n",
    "    text_file = glob.glob(pjoin(os.path.dirname(file_recording_raw), '*.txt'))[0]\n",
    "    with open(text_file) as f:\n",
    "        text  = f.read()\n",
    "    with open(text_file) as f:\n",
    "        lines = f.readlines() \n",
    "    metadata['NWBFile']['session_description'] = lines[0].replace('\\n', '')\n",
    "    metadata['NWBFile']['notes'] = text\n",
    "\n",
    "except:\n",
    "    print('could not find a notes file in %s' % os.path.dirname(file_recording_raw))\n",
    "\n",
    "# add identifier\n",
    "metadata['NWBFile']['identifier'] = os.path.basename(file_recording_raw).split('.')[0]\n",
    "\n",
    "\n",
    "converter.validate_metadata(metadata)\n"
   ]
  },
  {
   "cell_type": "code",
   "execution_count": 9,
   "id": "91042c8c",
   "metadata": {},
   "outputs": [
    {
     "data": {
      "text/plain": [
       "{'NWBFile': {'session_description': 'REAL test recording session for Midge array with Moths.',\n",
       "  'identifier': 'MG20230317_1353_mothsAndFree001',\n",
       "  'session_start_time': '2023-03-17T19:01:59',\n",
       "  'experimenter': ['Jeff Walker'],\n",
       "  'institution': 'University of Chicago',\n",
       "  'lab': 'Hatsopoulos Lab',\n",
       "  'notes': 'REAL test recording session for Midge array with Moths.\\n\\n1:53 PM 3/17/2023\\n\\nall setup for moths and free session\\n\\n2:00 PM 3/17/2023\\nturning on the exilis\\n2:02 PM 3/17/2023]\\nstarted the recording 001\\n2:02 PM 3/17/2023\\nstartede camera scripts\\n2:04 PM 3/17/2023\\nissue with camera triggering\\n2:05 PM 3/17/2023\\nstopped recording 001. turing off exilis\\n\\n2:15 PM 3/17/2023cameras ready.  going to turn on exilis. \\n2:16 PM 3/17/2023\\nstarting neural data file 002. camera session will be #1\\nstarted recording.  goingto open the apparattus to trigger cam\\n\\n2:56 PM 3/17/2023\\ntaking a break after a series of decent moth capture episodes, moths are not expressing dynamic behavior.  likely too old. but MG is doing well captureing them.  many bimanual some right hand reaches.\\n\\n3:05 PM 3/17/2023\\nstarting up again\\n\\n3:28 PM 3/17/2023\\nfinished second productivesequenc of prey capture.  event 52-54 somewhat dynamic.  leaving them to settle.\\n\\n3:50 PM 3/17/2023\\nbattery died. stopped recording.  probably a bunch of dead time at end of recording as we left the room in hopes that they might relax and do a bit of grooming.\\n\\n4:03 PM 3/17/2023\\ncleaned up a bit.  did not recalibrate. decent firsdt session about 60 episodes. only a few dynamic pursuits.  moths too old.  MG behavior was good.\\n\\n\\n',\n",
       "  'protocol': 'IACUC 72339-07',\n",
       "  'related_publications': 'None'},\n",
       " 'Ecephys': {'Device': [{'name': 'Utah Array (M1)',\n",
       "    'description': '96 channel utah array',\n",
       "    'manufacturer': 'Blackrock Microsystems'},\n",
       "   {'name': 'Cerebus AnalogIn',\n",
       "    'description': 'analog inputs on Cerebus',\n",
       "    'manufacturer': 'Blackrock Microsystems'}],\n",
       "  'ElectrodeGroup': [{'name': 'MG_array_1',\n",
       "    'description': 'array implanted in left forelimb sensorimotor cortex',\n",
       "    'location': 'Left Forelimb M1',\n",
       "    'device': 'Utah Array (M1)'},\n",
       "   {'name': 'ainp',\n",
       "    'description': 'analog inputs from cameras and touchscreen, with ainp1 thru ainp3 corresponding to apparatus cams, enclosure cams, and touchscreen, respectively',\n",
       "    'location': 'none',\n",
       "    'device': 'Cerebus AnalogIn'}],\n",
       "  'ElectricalSeriesRaw': {'name': 'ElectricalSeriesRaw'}},\n",
       " 'Subject': {'sex': 'female',\n",
       "  'description': 'Marmoset Midge with 96ch utah array in left M1',\n",
       "  'species': 'Callithrix jacchus',\n",
       "  'subject_id': 'MG',\n",
       "  'weight': 350.0,\n",
       "  'date_of_birth': '2015-06-08'}}"
      ]
     },
     "execution_count": 9,
     "metadata": {},
     "output_type": "execute_result"
    }
   ],
   "source": [
    "metadata"
   ]
  },
  {
   "cell_type": "code",
   "execution_count": 5,
   "id": "886a4078",
   "metadata": {},
   "outputs": [
    {
     "data": {
      "image/png": "[encoded data removed]",
      "text/plain": [
       "<Figure size 640x480 with 1 Axes>"
      ]
     },
     "metadata": {},
     "output_type": "display_data"
    },
    {
     "data": {
      "text/html": [
       "<div>\n",
       "<style scoped>\n",
       "    .dataframe tbody tr th:only-of-type {\n",
       "        vertical-align: middle;\n",
       "    }\n",
       "\n",
       "    .dataframe tbody tr th {\n",
       "        vertical-align: top;\n",
       "    }\n",
       "\n",
       "    .dataframe thead th {\n",
       "        text-align: right;\n",
       "    }\n",
       "</style>\n",
       "<table border=\"1\" class=\"dataframe\">\n",
       "  <thead>\n",
       "    <tr style=\"text-align: right;\">\n",
       "      <th></th>\n",
       "      <th>probe_index</th>\n",
       "      <th>x</th>\n",
       "      <th>y</th>\n",
       "      <th>contact_shapes</th>\n",
       "      <th>radius</th>\n",
       "      <th>shank_ids</th>\n",
       "      <th>contact_ids</th>\n",
       "      <th>imp</th>\n",
       "      <th>z</th>\n",
       "    </tr>\n",
       "  </thead>\n",
       "  <tbody>\n",
       "    <tr>\n",
       "      <th>0</th>\n",
       "      <td>0</td>\n",
       "      <td>3600.0</td>\n",
       "      <td>1600.0</td>\n",
       "      <td>circle</td>\n",
       "      <td>100.0</td>\n",
       "      <td>elec49</td>\n",
       "      <td></td>\n",
       "      <td>&lt;=50</td>\n",
       "      <td>-1000.0</td>\n",
       "    </tr>\n",
       "    <tr>\n",
       "      <th>1</th>\n",
       "      <td>1</td>\n",
       "      <td>2000.0</td>\n",
       "      <td>2400.0</td>\n",
       "      <td>circle</td>\n",
       "      <td>100.0</td>\n",
       "      <td>elec33</td>\n",
       "      <td></td>\n",
       "      <td>&lt;=50</td>\n",
       "      <td>-1000.0</td>\n",
       "    </tr>\n",
       "    <tr>\n",
       "      <th>2</th>\n",
       "      <td>2</td>\n",
       "      <td>3200.0</td>\n",
       "      <td>1600.0</td>\n",
       "      <td>circle</td>\n",
       "      <td>100.0</td>\n",
       "      <td>elec50</td>\n",
       "      <td></td>\n",
       "      <td>&lt;=50</td>\n",
       "      <td>-1000.0</td>\n",
       "    </tr>\n",
       "    <tr>\n",
       "      <th>3</th>\n",
       "      <td>3</td>\n",
       "      <td>1600.0</td>\n",
       "      <td>2400.0</td>\n",
       "      <td>circle</td>\n",
       "      <td>100.0</td>\n",
       "      <td>elec34</td>\n",
       "      <td></td>\n",
       "      <td>&lt;=50</td>\n",
       "      <td>-1000.0</td>\n",
       "    </tr>\n",
       "    <tr>\n",
       "      <th>4</th>\n",
       "      <td>4</td>\n",
       "      <td>2800.0</td>\n",
       "      <td>1600.0</td>\n",
       "      <td>circle</td>\n",
       "      <td>100.0</td>\n",
       "      <td>elec51</td>\n",
       "      <td></td>\n",
       "      <td>&lt;=50</td>\n",
       "      <td>-1000.0</td>\n",
       "    </tr>\n",
       "    <tr>\n",
       "      <th>...</th>\n",
       "      <td>...</td>\n",
       "      <td>...</td>\n",
       "      <td>...</td>\n",
       "      <td>...</td>\n",
       "      <td>...</td>\n",
       "      <td>...</td>\n",
       "      <td>...</td>\n",
       "      <td>...</td>\n",
       "      <td>...</td>\n",
       "    </tr>\n",
       "    <tr>\n",
       "      <th>91</th>\n",
       "      <td>91</td>\n",
       "      <td>0.0</td>\n",
       "      <td>800.0</td>\n",
       "      <td>circle</td>\n",
       "      <td>100.0</td>\n",
       "      <td>elec78</td>\n",
       "      <td></td>\n",
       "      <td>&lt;=50</td>\n",
       "      <td>-1000.0</td>\n",
       "    </tr>\n",
       "    <tr>\n",
       "      <th>92</th>\n",
       "      <td>92</td>\n",
       "      <td>800.0</td>\n",
       "      <td>0.0</td>\n",
       "      <td>circle</td>\n",
       "      <td>100.0</td>\n",
       "      <td>elec95</td>\n",
       "      <td></td>\n",
       "      <td>51</td>\n",
       "      <td>-1000.0</td>\n",
       "    </tr>\n",
       "    <tr>\n",
       "      <th>93</th>\n",
       "      <td>93</td>\n",
       "      <td>3600.0</td>\n",
       "      <td>400.0</td>\n",
       "      <td>circle</td>\n",
       "      <td>100.0</td>\n",
       "      <td>elec79</td>\n",
       "      <td></td>\n",
       "      <td>&lt;=50</td>\n",
       "      <td>-1000.0</td>\n",
       "    </tr>\n",
       "    <tr>\n",
       "      <th>94</th>\n",
       "      <td>94</td>\n",
       "      <td>400.0</td>\n",
       "      <td>0.0</td>\n",
       "      <td>circle</td>\n",
       "      <td>100.0</td>\n",
       "      <td>elec96</td>\n",
       "      <td></td>\n",
       "      <td>&lt;=50</td>\n",
       "      <td>-1000.0</td>\n",
       "    </tr>\n",
       "    <tr>\n",
       "      <th>95</th>\n",
       "      <td>95</td>\n",
       "      <td>3200.0</td>\n",
       "      <td>400.0</td>\n",
       "      <td>circle</td>\n",
       "      <td>100.0</td>\n",
       "      <td>elec80</td>\n",
       "      <td></td>\n",
       "      <td>53</td>\n",
       "      <td>-1000.0</td>\n",
       "    </tr>\n",
       "  </tbody>\n",
       "</table>\n",
       "<p>96 rows × 9 columns</p>\n",
       "</div>"
      ],
      "text/plain": [
       "    probe_index       x       y contact_shapes  radius shank_ids contact_ids  \\\n",
       "0             0  3600.0  1600.0         circle   100.0    elec49               \n",
       "1             1  2000.0  2400.0         circle   100.0    elec33               \n",
       "2             2  3200.0  1600.0         circle   100.0    elec50               \n",
       "3             3  1600.0  2400.0         circle   100.0    elec34               \n",
       "4             4  2800.0  1600.0         circle   100.0    elec51               \n",
       "..          ...     ...     ...            ...     ...       ...         ...   \n",
       "91           91     0.0   800.0         circle   100.0    elec78               \n",
       "92           92   800.0     0.0         circle   100.0    elec95               \n",
       "93           93  3600.0   400.0         circle   100.0    elec79               \n",
       "94           94   400.0     0.0         circle   100.0    elec96               \n",
       "95           95  3200.0   400.0         circle   100.0    elec80               \n",
       "\n",
       "     imp       z  \n",
       "0   <=50 -1000.0  \n",
       "1   <=50 -1000.0  \n",
       "2   <=50 -1000.0  \n",
       "3   <=50 -1000.0  \n",
       "4   <=50 -1000.0  \n",
       "..   ...     ...  \n",
       "91  <=50 -1000.0  \n",
       "92    51 -1000.0  \n",
       "93  <=50 -1000.0  \n",
       "94  <=50 -1000.0  \n",
       "95    53 -1000.0  \n",
       "\n",
       "[96 rows x 9 columns]"
      ]
     },
     "execution_count": 5,
     "metadata": {},
     "output_type": "execute_result"
    }
   ],
   "source": [
    "reload(sys.modules['hatlab_nwb_functions'])\n",
    "from hatlab_nwb_functions import *\n",
    "\n",
    "arraymap, impedances = read_prb_hatlab(prbfile)\n",
    "plot_prb(arraymap)\n",
    "map_df=arraymap.to_dataframe()\n",
    "map_df['imp'] = [imp for imp in impedances]\n",
    "if 'z' not in map_df.keys():\n",
    "    map_df['z'] = np.repeat(-1000.0, map_df.shape[0])\n",
    "map_df"
   ]
  },
  {
   "cell_type": "code",
   "execution_count": 11,
   "id": "6be55361",
   "metadata": {},
   "outputs": [],
   "source": [
    "array_group = [group for group in metadata['Ecephys']['ElectrodeGroup'] if 'ainp' not in group['name'].lower()][0]\n",
    "analog_group = [group for group in metadata['Ecephys']['ElectrodeGroup'] if 'ainp' in group['name'].lower()][0]\n",
    "# analog_group"
   ]
  },
  {
   "cell_type": "code",
   "execution_count": 12,
   "id": "432d9471",
   "metadata": {},
   "outputs": [
    {
     "data": {
      "text/plain": [
       "{'gain_to_uV': array([  0.25      ,   0.25      ,   0.25      ,   0.25      ,\n",
       "          0.25      ,   0.25      ,   0.25      ,   0.25      ,\n",
       "          0.25      ,   0.25      ,   0.25      ,   0.25      ,\n",
       "          0.25      ,   0.25      ,   0.25      ,   0.25      ,\n",
       "          0.25      ,   0.25      ,   0.25      ,   0.25      ,\n",
       "          0.25      ,   0.25      ,   0.25      ,   0.25      ,\n",
       "          0.25      ,   0.25      ,   0.25      ,   0.25      ,\n",
       "          0.25      ,   0.25      ,   0.25      ,   0.25      ,\n",
       "          0.25      ,   0.25      ,   0.25      ,   0.25      ,\n",
       "          0.25      ,   0.25      ,   0.25      ,   0.25      ,\n",
       "          0.25      ,   0.25      ,   0.25      ,   0.25      ,\n",
       "          0.25      ,   0.25      ,   0.25      ,   0.25      ,\n",
       "          0.25      ,   0.25      ,   0.25      ,   0.25      ,\n",
       "          0.25      ,   0.25      ,   0.25      ,   0.25      ,\n",
       "          0.25      ,   0.25      ,   0.25      ,   0.25      ,\n",
       "          0.25      ,   0.25      ,   0.25      ,   0.25      ,\n",
       "          0.25      ,   0.25      ,   0.25      ,   0.25      ,\n",
       "          0.25      ,   0.25      ,   0.25      ,   0.25      ,\n",
       "          0.25      ,   0.25      ,   0.25      ,   0.25      ,\n",
       "          0.25      ,   0.25      ,   0.25      ,   0.25      ,\n",
       "          0.25      ,   0.25      ,   0.25      ,   0.25      ,\n",
       "          0.25      ,   0.25      ,   0.25      ,   0.25      ,\n",
       "          0.25      ,   0.25      ,   0.25      ,   0.25      ,\n",
       "          0.25      ,   0.25      ,   0.25      ,   0.25      ,\n",
       "        152.59254738, 152.59254738, 152.59254738]),\n",
       " 'offset_to_uV': array([0., 0., 0., 0., 0., 0., 0., 0., 0., 0., 0., 0., 0., 0., 0., 0., 0.,\n",
       "        0., 0., 0., 0., 0., 0., 0., 0., 0., 0., 0., 0., 0., 0., 0., 0., 0.,\n",
       "        0., 0., 0., 0., 0., 0., 0., 0., 0., 0., 0., 0., 0., 0., 0., 0., 0.,\n",
       "        0., 0., 0., 0., 0., 0., 0., 0., 0., 0., 0., 0., 0., 0., 0., 0., 0.,\n",
       "        0., 0., 0., 0., 0., 0., 0., 0., 0., 0., 0., 0., 0., 0., 0., 0., 0.,\n",
       "        0., 0., 0., 0., 0., 0., 0., 0., 0., 0., 0., 0., 0., 0.]),\n",
       " 'channel_name': array(['elec49', 'elec33', 'elec50', 'elec34', 'elec51', 'elec35',\n",
       "        'elec52', 'elec36', 'elec53', 'elec37', 'elec54', 'elec38',\n",
       "        'elec55', 'elec39', 'elec56', 'elec40', 'elec57', 'elec41',\n",
       "        'elec58', 'elec42', 'elec59', 'elec43', 'elec60', 'elec44',\n",
       "        'elec61', 'elec45', 'elec62', 'elec46', 'elec63', 'elec47',\n",
       "        'elec64', 'elec48', 'elec17', 'elec1', 'elec18', 'elec2', 'elec19',\n",
       "        'elec3', 'elec20', 'elec4', 'elec21', 'elec5', 'elec22', 'elec6',\n",
       "        'elec23', 'elec7', 'elec24', 'elec8', 'elec25', 'elec9', 'elec26',\n",
       "        'elec10', 'elec27', 'elec11', 'elec28', 'elec12', 'elec29',\n",
       "        'elec13', 'elec30', 'elec14', 'elec31', 'elec15', 'elec32',\n",
       "        'elec16', 'elec81', 'elec65', 'elec82', 'elec66', 'elec83',\n",
       "        'elec67', 'elec84', 'elec68', 'elec85', 'elec69', 'elec86',\n",
       "        'elec70', 'elec87', 'elec71', 'elec88', 'elec72', 'elec89',\n",
       "        'elec73', 'elec90', 'elec74', 'elec91', 'elec75', 'elec92',\n",
       "        'elec76', 'elec93', 'elec77', 'elec94', 'elec78', 'elec95',\n",
       "        'elec79', 'elec96', 'elec80', 'ainp1', 'ainp2', 'ainp3'],\n",
       "       dtype='<U64')}"
      ]
     },
     "execution_count": 12,
     "metadata": {},
     "output_type": "execute_result"
    }
   ],
   "source": [
    "raw_extractor = converter.data_interface_objects['BlackrockRecordingInterfaceRaw'].recording_extractor \n",
    "raw_extractor._properties"
   ]
  },
  {
   "cell_type": "code",
   "execution_count": 21,
   "id": "061d5d7e",
   "metadata": {},
   "outputs": [
    {
     "data": {
      "text/plain": [
       "array(['elec49', 'elec33', 'elec50', 'elec34', 'elec51', 'elec35',\n",
       "       'elec52', 'elec36', 'elec53', 'elec37', 'elec54', 'elec38',\n",
       "       'elec55', 'elec39', 'elec56', 'elec40', 'elec57', 'elec41',\n",
       "       'elec58', 'elec42', 'elec59', 'elec43', 'elec60', 'elec44',\n",
       "       'elec61', 'elec45', 'elec62', 'elec46', 'elec63', 'elec47',\n",
       "       'elec64', 'elec48', 'elec17', 'elec1', 'elec18', 'elec2', 'elec19',\n",
       "       'elec3', 'elec20', 'elec4', 'elec21', 'elec5', 'elec22', 'elec6',\n",
       "       'elec23', 'elec7', 'elec24', 'elec8', 'elec25', 'elec9', 'elec26',\n",
       "       'elec10', 'elec27', 'elec11', 'elec28', 'elec12', 'elec29',\n",
       "       'elec13', 'elec30', 'elec14', 'elec31', 'elec15', 'elec32',\n",
       "       'elec16', 'elec81', 'elec65', 'elec82', 'elec66', 'elec83',\n",
       "       'elec67', 'elec84', 'elec68', 'elec85', 'elec69', 'elec86',\n",
       "       'elec70', 'elec87', 'elec71', 'elec88', 'elec72', 'elec89',\n",
       "       'elec73', 'elec90', 'elec74', 'elec91', 'elec75', 'elec92',\n",
       "       'elec76', 'elec93', 'elec77', 'elec94', 'elec78', 'elec95',\n",
       "       'elec79', 'elec96', 'elec80', 'ainp1', 'ainp2', 'ainp3'],\n",
       "      dtype='<U64')"
      ]
     },
     "execution_count": 21,
     "metadata": {},
     "output_type": "execute_result"
    }
   ],
   "source": [
    "chNames"
   ]
  },
  {
   "cell_type": "code",
   "execution_count": 25,
   "id": "846b9f6c",
   "metadata": {},
   "outputs": [
    {
     "data": {
      "text/plain": [
       "{'gain_to_uV': array([  0.25      ,   0.25      ,   0.25      ,   0.25      ,\n",
       "          0.25      ,   0.25      ,   0.25      ,   0.25      ,\n",
       "          0.25      ,   0.25      ,   0.25      ,   0.25      ,\n",
       "          0.25      ,   0.25      ,   0.25      ,   0.25      ,\n",
       "          0.25      ,   0.25      ,   0.25      ,   0.25      ,\n",
       "          0.25      ,   0.25      ,   0.25      ,   0.25      ,\n",
       "          0.25      ,   0.25      ,   0.25      ,   0.25      ,\n",
       "          0.25      ,   0.25      ,   0.25      ,   0.25      ,\n",
       "          0.25      ,   0.25      ,   0.25      ,   0.25      ,\n",
       "          0.25      ,   0.25      ,   0.25      ,   0.25      ,\n",
       "          0.25      ,   0.25      ,   0.25      ,   0.25      ,\n",
       "          0.25      ,   0.25      ,   0.25      ,   0.25      ,\n",
       "          0.25      ,   0.25      ,   0.25      ,   0.25      ,\n",
       "          0.25      ,   0.25      ,   0.25      ,   0.25      ,\n",
       "          0.25      ,   0.25      ,   0.25      ,   0.25      ,\n",
       "          0.25      ,   0.25      ,   0.25      ,   0.25      ,\n",
       "          0.25      ,   0.25      ,   0.25      ,   0.25      ,\n",
       "          0.25      ,   0.25      ,   0.25      ,   0.25      ,\n",
       "          0.25      ,   0.25      ,   0.25      ,   0.25      ,\n",
       "          0.25      ,   0.25      ,   0.25      ,   0.25      ,\n",
       "          0.25      ,   0.25      ,   0.25      ,   0.25      ,\n",
       "          0.25      ,   0.25      ,   0.25      ,   0.25      ,\n",
       "          0.25      ,   0.25      ,   0.25      ,   0.25      ,\n",
       "          0.25      ,   0.25      ,   0.25      ,   0.25      ,\n",
       "        152.59254738, 152.59254738, 152.59254738]),\n",
       " 'offset_to_uV': array([0., 0., 0., 0., 0., 0., 0., 0., 0., 0., 0., 0., 0., 0., 0., 0., 0.,\n",
       "        0., 0., 0., 0., 0., 0., 0., 0., 0., 0., 0., 0., 0., 0., 0., 0., 0.,\n",
       "        0., 0., 0., 0., 0., 0., 0., 0., 0., 0., 0., 0., 0., 0., 0., 0., 0.,\n",
       "        0., 0., 0., 0., 0., 0., 0., 0., 0., 0., 0., 0., 0., 0., 0., 0., 0.,\n",
       "        0., 0., 0., 0., 0., 0., 0., 0., 0., 0., 0., 0., 0., 0., 0., 0., 0.,\n",
       "        0., 0., 0., 0., 0., 0., 0., 0., 0., 0., 0., 0., 0., 0.]),\n",
       " 'channel_name': array(['elec17', 'elec1', 'elec18', 'elec2', 'elec19', 'elec3', 'elec20',\n",
       "        'elec4', 'elec21', 'elec5', 'elec22', 'elec6', 'elec23', 'elec7',\n",
       "        'elec24', 'elec8', 'elec25', 'elec9', 'elec26', 'elec10', 'elec27',\n",
       "        'elec11', 'elec28', 'elec12', 'elec29', 'elec13', 'elec30',\n",
       "        'elec14', 'elec31', 'elec15', 'elec32', 'elec16', 'elec49',\n",
       "        'elec33', 'elec50', 'elec34', 'elec51', 'elec35', 'elec52',\n",
       "        'elec36', 'elec53', 'elec37', 'elec54', 'elec38', 'elec55',\n",
       "        'elec39', 'elec56', 'elec40', 'elec57', 'elec41', 'elec58',\n",
       "        'elec42', 'elec59', 'elec43', 'elec60', 'elec44', 'elec61',\n",
       "        'elec45', 'elec62', 'elec46', 'elec63', 'elec47', 'elec64',\n",
       "        'elec48', 'elec81', 'elec65', 'elec82', 'elec66', 'elec83',\n",
       "        'elec67', 'elec84', 'elec68', 'elec85', 'elec69', 'elec86',\n",
       "        'elec70', 'elec87', 'elec71', 'elec88', 'elec72', 'elec89',\n",
       "        'elec73', 'elec90', 'elec74', 'elec91', 'elec75', 'elec92',\n",
       "        'elec76', 'elec93', 'elec77', 'elec94', 'elec78', 'elec95',\n",
       "        'elec79', 'elec96', 'elec80', 'ainp1', 'ainp2', 'ainp3'],\n",
       "       dtype='<U6')}"
      ]
     },
     "execution_count": 25,
     "metadata": {},
     "output_type": "execute_result"
    }
   ],
   "source": [
    "swap_ab=False\n",
    "if swap_ab:\n",
    "    chIDs = raw_extractor.get_channel_ids()\n",
    "    chNames = raw_extractor._properties['channel_name']\n",
    "    reorder = list(range(32, 64)) + list(range(0, 32)) + list(range(64, 99))\n",
    "    chNames = np.array([chNames[idx] for idx in reorder])\n",
    "    chNames\n",
    "    raw_extractor.set_property('channel_name', chNames)\n",
    "    raw_extractor._properties"
   ]
  },
  {
   "cell_type": "code",
   "execution_count": 195,
   "id": "48ca9331",
   "metadata": {},
   "outputs": [
    {
     "data": {
      "text/plain": [
       "{'gain_to_uV': array([  0.25      ,   0.25      ,   0.25      ,   0.25      ,\n",
       "          0.25      ,   0.25      ,   0.25      ,   0.25      ,\n",
       "          0.25      ,   0.25      ,   0.25      ,   0.25      ,\n",
       "          0.25      ,   0.25      ,   0.25      ,   0.25      ,\n",
       "          0.25      ,   0.25      ,   0.25      ,   0.25      ,\n",
       "          0.25      ,   0.25      ,   0.25      ,   0.25      ,\n",
       "          0.25      ,   0.25      ,   0.25      ,   0.25      ,\n",
       "          0.25      ,   0.25      ,   0.25      ,   0.25      ,\n",
       "          0.25      ,   0.25      ,   0.25      ,   0.25      ,\n",
       "          0.25      ,   0.25      ,   0.25      ,   0.25      ,\n",
       "          0.25      ,   0.25      ,   0.25      ,   0.25      ,\n",
       "          0.25      ,   0.25      ,   0.25      ,   0.25      ,\n",
       "          0.25      ,   0.25      ,   0.25      ,   0.25      ,\n",
       "          0.25      ,   0.25      ,   0.25      ,   0.25      ,\n",
       "          0.25      ,   0.25      ,   0.25      ,   0.25      ,\n",
       "          0.25      ,   0.25      ,   0.25      ,   0.25      ,\n",
       "          0.25      ,   0.25      ,   0.25      ,   0.25      ,\n",
       "          0.25      ,   0.25      ,   0.25      ,   0.25      ,\n",
       "          0.25      ,   0.25      ,   0.25      ,   0.25      ,\n",
       "          0.25      ,   0.25      ,   0.25      ,   0.25      ,\n",
       "          0.25      ,   0.25      ,   0.25      ,   0.25      ,\n",
       "          0.25      ,   0.25      ,   0.25      ,   0.25      ,\n",
       "          0.25      ,   0.25      ,   0.25      ,   0.25      ,\n",
       "          0.25      ,   0.25      ,   0.25      ,   0.25      ,\n",
       "        152.59254738, 152.59254738, 152.59254738]),\n",
       " 'offset_to_uV': array([0., 0., 0., 0., 0., 0., 0., 0., 0., 0., 0., 0., 0., 0., 0., 0., 0.,\n",
       "        0., 0., 0., 0., 0., 0., 0., 0., 0., 0., 0., 0., 0., 0., 0., 0., 0.,\n",
       "        0., 0., 0., 0., 0., 0., 0., 0., 0., 0., 0., 0., 0., 0., 0., 0., 0.,\n",
       "        0., 0., 0., 0., 0., 0., 0., 0., 0., 0., 0., 0., 0., 0., 0., 0., 0.,\n",
       "        0., 0., 0., 0., 0., 0., 0., 0., 0., 0., 0., 0., 0., 0., 0., 0., 0.,\n",
       "        0., 0., 0., 0., 0., 0., 0., 0., 0., 0., 0., 0., 0., 0.]),\n",
       " 'channel_name': array(['elec49', 'elec33', 'elec50', 'elec34', 'elec51', 'elec35',\n",
       "        'elec52', 'elec36', 'elec53', 'elec37', 'elec54', 'elec38',\n",
       "        'elec55', 'elec39', 'elec56', 'elec40', 'elec57', 'elec41',\n",
       "        'elec58', 'elec42', 'elec59', 'elec43', 'elec60', 'elec44',\n",
       "        'elec61', 'elec45', 'elec62', 'elec46', 'elec63', 'elec47',\n",
       "        'elec64', 'elec48', 'elec17', 'elec1', 'elec18', 'elec2', 'elec19',\n",
       "        'elec3', 'elec20', 'elec4', 'elec21', 'elec5', 'elec22', 'elec6',\n",
       "        'elec23', 'elec7', 'elec24', 'elec8', 'elec25', 'elec9', 'elec26',\n",
       "        'elec10', 'elec27', 'elec11', 'elec28', 'elec12', 'elec29',\n",
       "        'elec13', 'elec30', 'elec14', 'elec31', 'elec15', 'elec32',\n",
       "        'elec16', 'elec81', 'elec65', 'elec82', 'elec66', 'elec83',\n",
       "        'elec67', 'elec84', 'elec68', 'elec85', 'elec69', 'elec86',\n",
       "        'elec70', 'elec87', 'elec71', 'elec88', 'elec72', 'elec89',\n",
       "        'elec73', 'elec90', 'elec74', 'elec91', 'elec75', 'elec92',\n",
       "        'elec76', 'elec93', 'elec77', 'elec94', 'elec78', 'elec95',\n",
       "        'elec79', 'elec96', 'elec80', 'ainp1', 'ainp2', 'ainp3'],\n",
       "       dtype='<U64'),\n",
       " 'x': array([3600., 2000., 3200., 1600., 2800., 1200., 2400.,  800., 2000.,\n",
       "         400., 1600.,    0., 1200., 3600.,  800., 3200.,  400., 2800.,\n",
       "           0., 2400., 3600., 2000., 3200., 1600., 2800., 1200., 2400.,\n",
       "         800., 2000.,  400., 1600.,    0.,  400., 3200.,    0., 2800.,\n",
       "        3600., 2400., 3200., 2000., 2800.,    0., 2400., 1200., 2000.,\n",
       "         800., 1600.,  400., 1200., 3600.,  800., 3200.,  400., 2800.,\n",
       "           0., 2400., 3600., 2000., 3200., 1600., 2800., 1200., 2400.,\n",
       "         800., 2800., 1200., 2400.,  800., 2000.,  400., 1600.,    0.,\n",
       "        1200., 3600.,  800., 3200.,  400., 2800.,    0., 2400., 3200.,\n",
       "        2000., 2800., 1600., 2400., 1200., 2000.,  800., 1600.,  400.,\n",
       "        1200.,    0.,  800., 3600.,  400., 3200.,   nan,   nan,   nan]),\n",
       " 'y': array([1600., 2400., 1600., 2400., 1600., 2400., 1600., 2400., 1600.,\n",
       "        2400., 1600., 2400., 1600., 2000., 1600., 2000., 1600., 2000.,\n",
       "        1600., 2000., 1200., 2000., 1200., 2000., 1200., 2000., 1200.,\n",
       "        2000., 1200., 2000., 1200., 2000., 3200., 3600., 3200., 3600.,\n",
       "        2800., 3600., 2800., 3600., 2800., 3600., 2800., 3600., 2800.,\n",
       "        3600., 2800., 3600., 2800., 3200., 2800., 3200., 2800., 3200.,\n",
       "        2800., 3200., 2400., 3200., 2400., 3200., 2400., 3200., 2400.,\n",
       "        3200.,  400., 1200.,  400., 1200.,  400., 1200.,  400., 1200.,\n",
       "         400.,  800.,  400.,  800.,  400.,  800.,  400.,  800.,    0.,\n",
       "         800.,    0.,  800.,    0.,  800.,    0.,  800.,    0.,  800.,\n",
       "           0.,  800.,    0.,  400.,    0.,  400.,   nan,   nan,   nan]),\n",
       " 'z': array([-1000., -1000., -1000., -1000., -1000., -1000., -1000., -1000.,\n",
       "        -1000., -1000., -1000., -1000., -1000., -1000., -1000., -1000.,\n",
       "        -1000., -1000., -1000., -1000., -1000., -1000., -1000., -1000.,\n",
       "        -1000., -1000., -1000., -1000., -1000., -1000., -1000., -1000.,\n",
       "        -1000., -1000., -1000., -1000., -1000., -1000., -1000., -1000.,\n",
       "        -1000., -1000., -1000., -1000., -1000., -1000., -1000., -1000.,\n",
       "        -1000., -1000., -1000., -1000., -1000., -1000., -1000., -1000.,\n",
       "        -1000., -1000., -1000., -1000., -1000., -1000., -1000., -1000.,\n",
       "        -1000., -1000., -1000., -1000., -1000., -1000., -1000., -1000.,\n",
       "        -1000., -1000., -1000., -1000., -1000., -1000., -1000., -1000.,\n",
       "        -1000., -1000., -1000., -1000., -1000., -1000., -1000., -1000.,\n",
       "        -1000., -1000., -1000., -1000., -1000., -1000., -1000., -1000.,\n",
       "           nan,    nan,    nan]),\n",
       " 'group': array(['MG_array_1', 'MG_array_1', 'MG_array_1', 'MG_array_1',\n",
       "        'MG_array_1', 'MG_array_1', 'MG_array_1', 'MG_array_1',\n",
       "        'MG_array_1', 'MG_array_1', 'MG_array_1', 'MG_array_1',\n",
       "        'MG_array_1', 'MG_array_1', 'MG_array_1', 'MG_array_1',\n",
       "        'MG_array_1', 'MG_array_1', 'MG_array_1', 'MG_array_1',\n",
       "        'MG_array_1', 'MG_array_1', 'MG_array_1', 'MG_array_1',\n",
       "        'MG_array_1', 'MG_array_1', 'MG_array_1', 'MG_array_1',\n",
       "        'MG_array_1', 'MG_array_1', 'MG_array_1', 'MG_array_1',\n",
       "        'MG_array_1', 'MG_array_1', 'MG_array_1', 'MG_array_1',\n",
       "        'MG_array_1', 'MG_array_1', 'MG_array_1', 'MG_array_1',\n",
       "        'MG_array_1', 'MG_array_1', 'MG_array_1', 'MG_array_1',\n",
       "        'MG_array_1', 'MG_array_1', 'MG_array_1', 'MG_array_1',\n",
       "        'MG_array_1', 'MG_array_1', 'MG_array_1', 'MG_array_1',\n",
       "        'MG_array_1', 'MG_array_1', 'MG_array_1', 'MG_array_1',\n",
       "        'MG_array_1', 'MG_array_1', 'MG_array_1', 'MG_array_1',\n",
       "        'MG_array_1', 'MG_array_1', 'MG_array_1', 'MG_array_1',\n",
       "        'MG_array_1', 'MG_array_1', 'MG_array_1', 'MG_array_1',\n",
       "        'MG_array_1', 'MG_array_1', 'MG_array_1', 'MG_array_1',\n",
       "        'MG_array_1', 'MG_array_1', 'MG_array_1', 'MG_array_1',\n",
       "        'MG_array_1', 'MG_array_1', 'MG_array_1', 'MG_array_1',\n",
       "        'MG_array_1', 'MG_array_1', 'MG_array_1', 'MG_array_1',\n",
       "        'MG_array_1', 'MG_array_1', 'MG_array_1', 'MG_array_1',\n",
       "        'MG_array_1', 'MG_array_1', 'MG_array_1', 'MG_array_1',\n",
       "        'MG_array_1', 'MG_array_1', 'MG_array_1', 'MG_array_1', 'ainp',\n",
       "        'ainp', 'ainp'], dtype='<U10'),\n",
       " 'filtering': array(['None', 'None', 'None', 'None', 'None', 'None', 'None', 'None',\n",
       "        'None', 'None', 'None', 'None', 'None', 'None', 'None', 'None',\n",
       "        'None', 'None', 'None', 'None', 'None', 'None', 'None', 'None',\n",
       "        'None', 'None', 'None', 'None', 'None', 'None', 'None', 'None',\n",
       "        'None', 'None', 'None', 'None', 'None', 'None', 'None', 'None',\n",
       "        'None', 'None', 'None', 'None', 'None', 'None', 'None', 'None',\n",
       "        'None', 'None', 'None', 'None', 'None', 'None', 'None', 'None',\n",
       "        'None', 'None', 'None', 'None', 'None', 'None', 'None', 'None',\n",
       "        'None', 'None', 'None', 'None', 'None', 'None', 'None', 'None',\n",
       "        'None', 'None', 'None', 'None', 'None', 'None', 'None', 'None',\n",
       "        'None', 'None', 'None', 'None', 'None', 'None', 'None', 'None',\n",
       "        'None', 'None', 'None', 'None', 'None', 'None', 'None', 'None',\n",
       "        'None', 'None', 'None'], dtype='<U4'),\n",
       " 'brain_region': array(['Left Forelimb M1', 'Left Forelimb M1', 'Left Forelimb M1',\n",
       "        'Left Forelimb M1', 'Left Forelimb M1', 'Left Forelimb M1',\n",
       "        'Left Forelimb M1', 'Left Forelimb M1', 'Left Forelimb M1',\n",
       "        'Left Forelimb M1', 'Left Forelimb M1', 'Left Forelimb M1',\n",
       "        'Left Forelimb M1', 'Left Forelimb M1', 'Left Forelimb M1',\n",
       "        'Left Forelimb M1', 'Left Forelimb M1', 'Left Forelimb M1',\n",
       "        'Left Forelimb M1', 'Left Forelimb M1', 'Left Forelimb M1',\n",
       "        'Left Forelimb M1', 'Left Forelimb M1', 'Left Forelimb M1',\n",
       "        'Left Forelimb M1', 'Left Forelimb M1', 'Left Forelimb M1',\n",
       "        'Left Forelimb M1', 'Left Forelimb M1', 'Left Forelimb M1',\n",
       "        'Left Forelimb M1', 'Left Forelimb M1', 'Left Forelimb M1',\n",
       "        'Left Forelimb M1', 'Left Forelimb M1', 'Left Forelimb M1',\n",
       "        'Left Forelimb M1', 'Left Forelimb M1', 'Left Forelimb M1',\n",
       "        'Left Forelimb M1', 'Left Forelimb M1', 'Left Forelimb M1',\n",
       "        'Left Forelimb M1', 'Left Forelimb M1', 'Left Forelimb M1',\n",
       "        'Left Forelimb M1', 'Left Forelimb M1', 'Left Forelimb M1',\n",
       "        'Left Forelimb M1', 'Left Forelimb M1', 'Left Forelimb M1',\n",
       "        'Left Forelimb M1', 'Left Forelimb M1', 'Left Forelimb M1',\n",
       "        'Left Forelimb M1', 'Left Forelimb M1', 'Left Forelimb M1',\n",
       "        'Left Forelimb M1', 'Left Forelimb M1', 'Left Forelimb M1',\n",
       "        'Left Forelimb M1', 'Left Forelimb M1', 'Left Forelimb M1',\n",
       "        'Left Forelimb M1', 'Left Forelimb M1', 'Left Forelimb M1',\n",
       "        'Left Forelimb M1', 'Left Forelimb M1', 'Left Forelimb M1',\n",
       "        'Left Forelimb M1', 'Left Forelimb M1', 'Left Forelimb M1',\n",
       "        'Left Forelimb M1', 'Left Forelimb M1', 'Left Forelimb M1',\n",
       "        'Left Forelimb M1', 'Left Forelimb M1', 'Left Forelimb M1',\n",
       "        'Left Forelimb M1', 'Left Forelimb M1', 'Left Forelimb M1',\n",
       "        'Left Forelimb M1', 'Left Forelimb M1', 'Left Forelimb M1',\n",
       "        'Left Forelimb M1', 'Left Forelimb M1', 'Left Forelimb M1',\n",
       "        'Left Forelimb M1', 'Left Forelimb M1', 'Left Forelimb M1',\n",
       "        'Left Forelimb M1', 'Left Forelimb M1', 'Left Forelimb M1',\n",
       "        'Left Forelimb M1', 'Left Forelimb M1', 'Left Forelimb M1', '', '',\n",
       "        ''], dtype='<U16'),\n",
       " 'imp': array([  50.,   50.,   50.,   50.,   50.,   50.,   51.,   50.,   50.,\n",
       "          50.,   50.,   51.,   50.,   50.,   50.,   50.,   50.,   50.,\n",
       "          50.,   50.,   50.,   50.,   50.,   51.,   50.,   50.,   51.,\n",
       "          50.,   50.,   50.,   50.,   50.,   50.,   51.,   50.,   50.,\n",
       "          50.,   51.,   50.,   50.,   50.,   50.,   50.,   50., 1139.,\n",
       "          50.,   50.,  529.,   50.,   50.,   50.,   50.,   50.,   50.,\n",
       "          50.,   50.,   50.,   51.,   51.,   52.,   50.,   50.,   50.,\n",
       "          51.,   50.,   50.,   51.,   50.,   50.,   50.,   54.,   50.,\n",
       "          50.,   50.,   54.,   50.,   50.,   50.,   50.,   50.,   50.,\n",
       "          50.,   50.,   50.,   50.,   50.,   51.,   53.,   50.,   50.,\n",
       "          50.,   50.,   51.,   50.,   50.,   53.,   nan,   nan,   nan])}"
      ]
     },
     "execution_count": 195,
     "metadata": {},
     "output_type": "execute_result"
    }
   ],
   "source": [
    "raw_extractor = converter.data_interface_objects['BlackrockRecordingInterfaceRaw'].recording_extractor \n",
    "\n",
    "chIDs = raw_extractor.get_channel_ids()\n",
    "chNames = raw_extractor._properties['channel_name']\n",
    "array_chans = [ch for ch, name in zip(chIDs, chNames) if 'ainp' not in name]\n",
    "analog_chans = [ch for ch in chIDs if ch not in array_chans]\n",
    "\n",
    "raw_extractor.set_property('x', map_df['x'], ids=array_chans, missing_value=None)\n",
    "raw_extractor.set_property('y', map_df['y'], ids=array_chans, missing_value=None)\n",
    "raw_extractor.set_property('z', map_df['z'], ids=array_chans, missing_value=None)\n",
    "\n",
    "# set properties of utah array channels\n",
    "raw_extractor.set_channel_groups([array_group['name']]*len(array_chans), array_chans)\n",
    "raw_extractor.set_channel_groups([analog_group['name']]*len(analog_chans), analog_chans)\n",
    "\n",
    "\n",
    "raw_extractor.set_property('filtering', [filter_dict[rfile[-1]]]*len(chIDs))\n",
    "\n",
    "array_locations = np.expand_dims([array_group['location']]*len(array_chans), -1)\n",
    "raw_extractor.set_property('brain_region', [array_group['location']]*len(array_chans), ids= array_chans, missing_value=None)\n",
    "\n",
    "raw_extractor.set_property('imp', [float(str(imp).replace('<=', '')) for imp in map_df['imp'].values], ids=array_chans, missing_value=None)\n",
    "\n",
    "raw_extractor._properties"
   ]
  },
  {
   "cell_type": "code",
   "execution_count": 196,
   "id": "80a21d6f",
   "metadata": {},
   "outputs": [],
   "source": [
    "sorting_extractor = converter.data_interface_objects['BlackrockSortingInterface'].sorting_extractor\n",
    "chIDs = sorting_extractor.get_unit_ids()\n",
    "if len(raw_extractor._properties['channel_name']) > len(chIDs[:len(raw_extractor._properties['channel_name'])]):\n",
    "    sorting_extractor.set_property('channel_name', raw_extractor._properties['channel_name'][:len(chIDs)], chIDs, missing_value=None)\n",
    "else:\n",
    "    sorting_extractor.set_property('channel_name', raw_extractor._properties['channel_name'], chIDs[:len(raw_extractor._properties['channel_name'])], missing_value=None)"
   ]
  },
  {
   "cell_type": "code",
   "execution_count": 197,
   "id": "1d14d242",
   "metadata": {},
   "outputs": [
    {
     "data": {
      "text/plain": [
       "{'channel_name': array(['elec49', 'elec33', 'elec50', 'elec34', 'elec51', 'elec35',\n",
       "        'elec52', 'elec36', 'elec53', 'elec37', 'elec54', 'elec38',\n",
       "        'elec55', 'elec39', 'elec56', 'elec40', 'elec57', 'elec41',\n",
       "        'elec58', 'elec42', 'elec59', 'elec43', 'elec60', 'elec44',\n",
       "        'elec61', 'elec45', 'elec62', 'elec46', 'elec63', 'elec47',\n",
       "        'elec64', 'elec48', 'elec17', 'elec1', 'elec18', 'elec2', 'elec19',\n",
       "        'elec3', 'elec20', 'elec4', 'elec21', 'elec5', 'elec22', 'elec6',\n",
       "        'elec23', 'elec7', 'elec24', 'elec8', 'elec25', 'elec9', 'elec26',\n",
       "        'elec10', 'elec27', 'elec11', 'elec28', 'elec12', 'elec29',\n",
       "        'elec13', 'elec30', 'elec14', 'elec31', 'elec15', 'elec32',\n",
       "        'elec16', 'elec81', 'elec65', 'elec82', 'elec66', 'elec83',\n",
       "        'elec67', 'elec84', 'elec68', 'elec85', 'elec69', 'elec86',\n",
       "        'elec70', 'elec87', 'elec71', 'elec88', 'elec72', 'elec89',\n",
       "        'elec73', 'elec90', 'elec74', 'elec91', 'elec75', 'elec92',\n",
       "        'elec76', 'elec93', 'elec77', 'elec94', 'elec78', 'elec95',\n",
       "        'elec79', 'elec96', 'elec80'], dtype='<U64')}"
      ]
     },
     "execution_count": 197,
     "metadata": {},
     "output_type": "execute_result"
    }
   ],
   "source": [
    "sorting_extractor._properties"
   ]
  },
  {
   "cell_type": "code",
   "execution_count": 198,
   "id": "45ca9646",
   "metadata": {},
   "outputs": [],
   "source": [
    "# conversion schema\n",
    "conversion_options_schema = converter.get_conversion_options_schema()\n",
    "conversion_options = converter.get_conversion_options()\n",
    "# conversion_options"
   ]
  },
  {
   "cell_type": "code",
   "execution_count": 199,
   "id": "3c03021d",
   "metadata": {},
   "outputs": [],
   "source": [
    "# build conversion options\n",
    "conversion_options = converter.get_conversion_options()\n",
    "conversion_options['BlackrockRecordingInterfaceRaw']=dict(stub_test=stub_test)\n",
    "conversion_options['BlackrockSortingInterface']=dict(stub_test=stub_test, write_ecephys_metadata=False)\n",
    "# conversion_options['ApparatusBehaviorVideos']=dict(stub_test=stub_test, \n",
    "#                                                    starting_times=[855.66, 900.0],\n",
    "#                                                   )\n",
    "# get video start times\n",
    "#conversion_options['KinematicVideos'] = dict(starting_times=kstart_times)"
   ]
  },
  {
   "cell_type": "code",
   "execution_count": 200,
   "id": "ffeaea2c",
   "metadata": {
    "scrolled": true
   },
   "outputs": [
    {
     "name": "stdout",
     "output_type": "stream",
     "text": [
      "Metadata is valid!\n",
      "conversion_options is valid!\n"
     ]
    },
    {
     "name": "stderr",
     "output_type": "stream",
     "text": [
      "/project/nicho/environments/spyder/lib/python3.9/site-packages/pynwb/file.py:1100: UserWarning: Date is missing timezone information. Updating to local timezone.\n",
      "  warn(\"Date is missing timezone information. Updating to local timezone.\")\n",
      "/project/nicho/environments/spyder/lib/python3.9/site-packages/neuroconv/tools/spikeinterface/spikeinterface.py:997: DeprecationWarning: distutils Version classes are deprecated. Use packaging.version instead.\n",
      "  distutils.version.LooseVersion(pynwb.__version__) >= \"1.3.3\"\n",
      "/project/nicho/environments/spyder/lib/python3.9/site-packages/setuptools/_distutils/version.py:346: DeprecationWarning: distutils Version classes are deprecated. Use packaging.version instead.\n",
      "  other = LooseVersion(other)\n",
      "/project/nicho/environments/spyder/lib/python3.9/site-packages/neuroconv/tools/spikeinterface/spikeinterface.py:271: DeprecationWarning: distutils Version classes are deprecated. Use packaging.version instead.\n",
      "  if distutils.version.LooseVersion(pynwb.__version__) < \"1.3.0\":\n",
      "/project/nicho/environments/spyder/lib/python3.9/site-packages/setuptools/_distutils/version.py:346: DeprecationWarning: distutils Version classes are deprecated. Use packaging.version instead.\n",
      "  other = LooseVersion(other)\n",
      "/project/nicho/environments/spyder/lib/python3.9/site-packages/neuroconv/tools/spikeinterface/spikeinterface.py:271: DeprecationWarning: distutils Version classes are deprecated. Use packaging.version instead.\n",
      "  if distutils.version.LooseVersion(pynwb.__version__) < \"1.3.0\":\n",
      "/project/nicho/environments/spyder/lib/python3.9/site-packages/setuptools/_distutils/version.py:346: DeprecationWarning: distutils Version classes are deprecated. Use packaging.version instead.\n",
      "  other = LooseVersion(other)\n",
      "/project/nicho/environments/spyder/lib/python3.9/site-packages/neuroconv/tools/spikeinterface/spikeinterface.py:459: UserWarning: No information added to the electrodes table\n",
      "  warnings.warn(f\"No information added to the electrodes table\")\n"
     ]
    },
    {
     "name": "stdout",
     "output_type": "stream",
     "text": [
      "NWB file saved at /project/nicho/data/marmosets/electrophys_data_for_processing/MG20230317_1353_mothsAndFree/MG20230317_1353_mothsAndFree001_TESTING.nwb!\n"
     ]
    },
    {
     "data": {
      "text/plain": [
       "root pynwb.file.NWBFile at 0x140213379508784\n",
       "Fields:\n",
       "  acquisition: {\n",
       "    ElectricalSeriesRaw <class 'pynwb.ecephys.ElectricalSeries'>\n",
       "  }\n",
       "  devices: {\n",
       "    Cerebus AnalogIn <class 'pynwb.device.Device'>,\n",
       "    Utah Array (M1) <class 'pynwb.device.Device'>\n",
       "  }\n",
       "  electrode_groups: {\n",
       "    MG_array_1 <class 'pynwb.ecephys.ElectrodeGroup'>,\n",
       "    ainp <class 'pynwb.ecephys.ElectrodeGroup'>\n",
       "  }\n",
       "  electrodes: electrodes <class 'hdmf.common.table.DynamicTable'>\n",
       "  experimenter: ['Jeff Walker']\n",
       "  file_create_date: [datetime.datetime(2023, 3, 23, 14, 40, 36, 543138, tzinfo=tzlocal())]\n",
       "  identifier: MG20230317_1353_mothsAndFree001\n",
       "  institution: University of Chicago\n",
       "  keywords: ['exp1' 'exp2']\n",
       "  lab: Hatsopoulos Lab\n",
       "  notes: REAL test recording session for Midge array with Moths.\n",
       "\n",
       "1:53 PM 3/17/2023\n",
       "\n",
       "all setup for moths and free session\n",
       "\n",
       "2:00 PM 3/17/2023\n",
       "turning on the exilis\n",
       "2:02 PM 3/17/2023]\n",
       "started the recording 001\n",
       "2:02 PM 3/17/2023\n",
       "startede camera scripts\n",
       "2:04 PM 3/17/2023\n",
       "issue with camera triggering\n",
       "2:05 PM 3/17/2023\n",
       "stopped recording 001. turing off exilis\n",
       "\n",
       "2:15 PM 3/17/2023cameras ready.  going to turn on exilis. \n",
       "2:16 PM 3/17/2023\n",
       "starting neural data file 002. camera session will be #1\n",
       "started recording.  goingto open the apparattus to trigger cam\n",
       "\n",
       "2:56 PM 3/17/2023\n",
       "taking a break after a series of decent moth capture episodes, moths are not expressing dynamic behavior.  likely too old. but MG is doing well captureing them.  many bimanual some right hand reaches.\n",
       "\n",
       "3:05 PM 3/17/2023\n",
       "starting up again\n",
       "\n",
       "3:28 PM 3/17/2023\n",
       "finished second productivesequenc of prey capture.  event 52-54 somewhat dynamic.  leaving them to settle.\n",
       "\n",
       "3:50 PM 3/17/2023\n",
       "battery died. stopped recording.  probably a bunch of dead time at end of recording as we left the room in hopes that they might relax and do a bit of grooming.\n",
       "\n",
       "4:03 PM 3/17/2023\n",
       "cleaned up a bit.  did not recalibrate. decent firsdt session about 60 episodes. only a few dynamic pursuits.  moths too old.  MG behavior was good.\n",
       "\n",
       "\n",
       "\n",
       "  protocol: IACUC 72339-07\n",
       "  related_publications: ['None']\n",
       "  session_description: REAL test recording session for Midge array with Moths.\n",
       "  session_start_time: 2023-03-17 19:01:59-05:00\n",
       "  subject: subject pynwb.file.Subject at 0x140213379400368\n",
       "Fields:\n",
       "  date_of_birth: 2015-06-08 00:00:00-05:00\n",
       "  description: Marmoset Midge with 96ch utah array in left M1\n",
       "  sex: female\n",
       "  species: Callithrix jacchus\n",
       "  subject_id: MG\n",
       "  weight: 350.0 kg\n",
       "\n",
       "  timestamps_reference_time: 2023-03-17 19:01:59-05:00\n",
       "  units: units <class 'pynwb.misc.Units'>"
      ]
     },
     "execution_count": 200,
     "metadata": {},
     "output_type": "execute_result"
    }
   ],
   "source": [
    "converter.run_conversion(\n",
    "    metadata=metadata, \n",
    "    nwbfile_path=nwbfile_path, \n",
    "    conversion_options=conversion_options,\n",
    ")"
   ]
  },
  {
   "cell_type": "code",
   "execution_count": null,
   "id": "6b17ef75",
   "metadata": {},
   "outputs": [],
   "source": []
  },
  {
   "cell_type": "code",
   "execution_count": 158,
   "id": "2f28a4c7",
   "metadata": {},
   "outputs": [
    {
     "name": "stdout",
     "output_type": "stream",
     "text": [
      "/project/nicho/data/marmosets/electrophys_data_for_processing/MG20230317_1353_mothsAndFree/MG20230317_1353_mothsAndFree001_TESTING.nwb opened, edited, and written back to file. It is now closed.\n"
     ]
    }
   ],
   "source": [
    "\n",
    "with NWBHDF5IO(nwbfile_path, 'r+') as io:\n",
    "    nwbfile = io.read()\n",
    "\n",
    "    image_files = glob.glob(os.path.join(os.path.dirname(nwbfile_path), '*png'))\n",
    "    screenshot_images = []\n",
    "    for f in image_files:\n",
    "        if 'plots' not in f:\n",
    "            tmp_img = RGBImage(name=os.path.basename(f),\n",
    "                               data=plt.imread(f)[..., :3])\n",
    "            screenshot_images.append(tmp_img)\n",
    "\n",
    "    screenshots = Images(name='screenshots of neural data acquisition',\n",
    "                         images=screenshot_images,\n",
    "                         description='may include spike panel, single neural channel, raster, and IP cam footage')\n",
    "\n",
    "    nwbfile.add_acquisition(screenshots)    \n",
    "\n",
    "    io.write(nwbfile)        \n",
    "\n",
    "print('%s opened, edited, and written back to file. It is now closed.' % nwbfile_path)\n"
   ]
  },
  {
   "cell_type": "code",
   "execution_count": 156,
   "id": "3c9ce06a",
   "metadata": {},
   "outputs": [
    {
     "data": {
      "text/plain": [
       "'/project/nicho/data/marmosets/electrophys_data_for_processing/MG20230317_1353_mothsAndFree/*png'"
      ]
     },
     "execution_count": 156,
     "metadata": {},
     "output_type": "execute_result"
    }
   ],
   "source": [
    "os.path.join(os.path.dirname(nwbfile_path), '*png')"
   ]
  },
  {
   "cell_type": "code",
   "execution_count": 201,
   "id": "f5ea9cf5",
   "metadata": {
    "scrolled": true
   },
   "outputs": [
    {
     "data": {
      "application/vnd.jupyter.widget-view+json": {
       "model_id": "fe3616112f5e4cc5a2dfb36db8488c0e",
       "version_major": 2,
       "version_minor": 0
      },
      "text/plain": [
       "VBox(children=(HBox(children=(Label(value='session_description:', layout=Layout(max_height='40px', max_width='…"
      ]
     },
     "metadata": {},
     "output_type": "display_data"
    },
    {
     "name": "stdout",
     "output_type": "stream",
     "text": [
      "<StrDataset for HDF5 dataset \"keywords\": shape (2,), type \"|O\">\n"
     ]
    }
   ],
   "source": [
    "io = NWBHDF5IO(nwbfile_path, 'r')\n",
    "nwbfile = io.read()\n",
    "nwb2widget(nwbfile)"
   ]
  },
  {
   "cell_type": "code",
   "execution_count": 203,
   "id": "fffa26bd",
   "metadata": {},
   "outputs": [
    {
     "data": {
      "text/plain": [
       "array(['exp1', 'exp2'], dtype=object)"
      ]
     },
     "execution_count": 203,
     "metadata": {},
     "output_type": "execute_result"
    }
   ],
   "source": [
    "nwbfile.keywords[:]"
   ]
  },
  {
   "cell_type": "code",
   "execution_count": 204,
   "id": "324641d9",
   "metadata": {},
   "outputs": [],
   "source": [
    "io.close()"
   ]
  }
 ],
 "metadata": {
  "kernelspec": {
   "display_name": "Python 3 (ipykernel)",
   "language": "python",
   "name": "python3"
  },
  "language_info": {
   "codemirror_mode": {
    "name": "ipython",
    "version": 3
   },
   "file_extension": ".py",
   "mimetype": "text/x-python",
   "name": "python",
   "nbconvert_exporter": "python",
   "pygments_lexer": "ipython3",
   "version": "3.9.13"
  }
 },
 "nbformat": 4,
 "nbformat_minor": 5
}
