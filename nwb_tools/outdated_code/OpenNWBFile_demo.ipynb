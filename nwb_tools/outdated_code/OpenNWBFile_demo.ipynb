{
 "cells": [
  {
   "cell_type": "code",
   "execution_count": 1,
   "id": "978b95c9",
   "metadata": {},
   "outputs": [],
   "source": [
    "# import some toolboxes\n",
    "from pynwb import NWBHDF5IO\n",
    "import matplotlib.pyplot as plt\n",
    "import numpy as np"
   ]
  },
  {
   "cell_type": "code",
   "execution_count": 2,
   "id": "acaeeaea",
   "metadata": {},
   "outputs": [],
   "source": [
    "# load up the NWB file\n",
    "fpath = '/media/paul/storage/Python/rawtest01.nwb'\n",
    "nwb = NWBHDF5IO(fpath, 'r').read()"
   ]
  },
  {
   "cell_type": "code",
   "execution_count": 4,
   "id": "d2c089ee",
   "metadata": {},
   "outputs": [
    {
     "data": {
      "text/plain": [
       "{'Cam1 Calibration': Cam1 Calibration pynwb.image.ImageSeries at 0x140647360890384\n",
       " Fields:\n",
       "   comments: no comments\n",
       "   conversion: 1.0\n",
       "   data: <HDF5 dataset \"data\": shape (206, 1080, 1440, 3), type \"|u1\">\n",
       "   description: cam1\n",
       "   dimension: <HDF5 dataset \"dimension\": shape (2,), type \"<i8\">\n",
       "   format: jpg\n",
       "   rate: 30.0\n",
       "   resolution: -1.0\n",
       "   starting_time: 0.0\n",
       "   starting_time_unit: seconds\n",
       "   unit: frame,\n",
       " 'Cam2 Calibration': Cam2 Calibration pynwb.image.ImageSeries at 0x140647360891200\n",
       " Fields:\n",
       "   comments: no comments\n",
       "   conversion: 1.0\n",
       "   data: None\n",
       "   description: cam2\n",
       "   dimension: <HDF5 dataset \"dimension\": shape (2,), type \"<i8\">\n",
       "   external_file: <HDF5 dataset \"external_file\": shape (206,), type \"|O\">\n",
       "   format: external\n",
       "   rate: 30.0\n",
       "   resolution: -1.0\n",
       "   starting_frame: [0]\n",
       "   starting_time: 0.0\n",
       "   starting_time_unit: seconds,\n",
       " 'rawdata': rawdata pynwb.ecephys.ElectricalSeries at 0x140647360891488\n",
       " Fields:\n",
       "   comments: no comments\n",
       "   conversion: 0.25\n",
       "   data: <HDF5 dataset \"data\": shape (11528311, 96), type \"<f4\">\n",
       "   description: no description\n",
       "   electrodes: electrodes <class 'hdmf.common.table.DynamicTableRegion'>\n",
       "   rate: 30000.0\n",
       "   resolution: 1e-06\n",
       "   starting_time: 0.0\n",
       "   starting_time_unit: seconds\n",
       "   unit: volts}"
      ]
     },
     "execution_count": 4,
     "metadata": {},
     "output_type": "execute_result"
    }
   ],
   "source": [
    "nwb.acquisition"
   ]
  },
  {
   "cell_type": "code",
   "execution_count": 5,
   "id": "063c0516",
   "metadata": {},
   "outputs": [],
   "source": [
    "raw = nwb.acquisition.get('rawdata')"
   ]
  },
  {
   "cell_type": "code",
   "execution_count": 6,
   "id": "2b8b5a4f",
   "metadata": {},
   "outputs": [
    {
     "name": "stdout",
     "output_type": "stream",
     "text": [
      "<class 'h5py._hl.dataset.Dataset'>\n"
     ]
    },
    {
     "data": {
      "text/plain": [
       "(11528311, 2)"
      ]
     },
     "execution_count": 6,
     "metadata": {},
     "output_type": "execute_result"
    }
   ],
   "source": [
    "print(type(raw.data))\n",
    "np.shape(raw.data[:,0:2])"
   ]
  },
  {
   "cell_type": "code",
   "execution_count": 7,
   "id": "f9a455ae",
   "metadata": {},
   "outputs": [
    {
     "data": {
      "text/plain": [
       "[<matplotlib.lines.Line2D at 0x7feb01d63640>]"
      ]
     },
     "execution_count": 7,
     "metadata": {},
     "output_type": "execute_result"
    },
    {
     "data": {
      "image/png": "[encoded data removed]",
      "text/plain": [
       "<Figure size 432x288 with 1 Axes>"
      ]
     },
     "metadata": {
      "needs_background": "light"
     },
     "output_type": "display_data"
    }
   ],
   "source": [
    "plt.plot(raw.data[:,49])"
   ]
  },
  {
   "cell_type": "code",
   "execution_count": 8,
   "id": "31b5d674",
   "metadata": {},
   "outputs": [
    {
     "data": {
      "text/plain": [
       "[<matplotlib.lines.Line2D at 0x7feaf180b310>]"
      ]
     },
     "execution_count": 8,
     "metadata": {},
     "output_type": "execute_result"
    },
    {
     "data": {
      "image/png": "[encoded data removed]",
      "text/plain": [
       "<Figure size 432x288 with 1 Axes>"
      ]
     },
     "metadata": {
      "needs_background": "light"
     },
     "output_type": "display_data"
    }
   ],
   "source": [
    "sd = []\n",
    "for i in range(96):\n",
    "    sd.append(np.std(raw.data[:,i]))\n",
    "    \n",
    "plt.plot(sd,'bo')    "
   ]
  },
  {
   "cell_type": "code",
   "execution_count": 9,
   "id": "ab88f95e",
   "metadata": {},
   "outputs": [
    {
     "data": {
      "application/vnd.jupyter.widget-view+json": {
       "model_id": "532d1687fdf84010a4eb99a919f960e3",
       "version_major": 2,
       "version_minor": 0
      },
      "text/plain": [
       "VBox(children=(HBox(children=(Label(value='session_description:', layout=Layout(max_height='40px', max_width='…"
      ]
     },
     "metadata": {},
     "output_type": "display_data"
    }
   ],
   "source": [
    "from nwbwidgets import nwb2widget\n",
    "nwb2widget(nwb)"
   ]
  },
  {
   "cell_type": "code",
   "execution_count": null,
   "id": "d93273bb",
   "metadata": {},
   "outputs": [],
   "source": []
  }
 ],
 "metadata": {
  "kernelspec": {
   "display_name": "Python 3 (ipykernel)",
   "language": "python",
   "name": "python3"
  },
  "language_info": {
   "codemirror_mode": {
    "name": "ipython",
    "version": 3
   },
   "file_extension": ".py",
   "mimetype": "text/x-python",
   "name": "python",
   "nbconvert_exporter": "python",
   "pygments_lexer": "ipython3",
   "version": "3.9.13"
  }
 },
 "nbformat": 4,
 "nbformat_minor": 5
}
