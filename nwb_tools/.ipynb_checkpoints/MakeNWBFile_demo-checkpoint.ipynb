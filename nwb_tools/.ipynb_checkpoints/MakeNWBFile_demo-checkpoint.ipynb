{
 "cells": [
  {
   "cell_type": "code",
   "execution_count": 1,
   "id": "a018a7e6",
   "metadata": {},
   "outputs": [],
   "source": [
    "# import toolboxes\n",
    "import numpy as np\n",
    "import pynwb\n",
    "import datetime\n",
    "import pytz"
   ]
  },
  {
   "cell_type": "markdown",
   "id": "224fc094",
   "metadata": {},
   "source": [
    "## Create NWB file with metadata\n",
    "Set up the metadata for the recordinmg session. In this case, the data comes froma 5 minute early morning recording from Tony while he rested quiently in his hammock. We will also set up subject information.    "
   ]
  },
  {
   "cell_type": "code",
   "execution_count": 2,
   "id": "1c43eb4b",
   "metadata": {},
   "outputs": [],
   "source": [
    "# set dates with timezone info\n",
    "birthday = pytz.utc.localize(datetime.datetime(2010, 4, 29))\n",
    "birthday.astimezone(pytz.timezone('America/Chicago'))\n",
    "\n",
    "expday = pytz.utc.localize(datetime.datetime(2021, 3, 8))\n",
    "expday.astimezone(pytz.timezone('America/Chicago'))\n",
    "\n",
    "# set up subject info\n",
    "subject = pynwb.file.Subject(age='10', \n",
    "                             description='Tony the Marmoset', \n",
    "                             sex='male', \n",
    "                             species='Callithrix jacchus', \n",
    "                             subject_id='TY', \n",
    "                             weight='370g', \n",
    "                             date_of_birth=birthday)\n",
    "# set up experiemnt metadata\n",
    "nwbfile = pynwb.NWBFile(\"Early Morning Signal Check\", \"TY20210308\", expday, \n",
    "                        experimenter=\"Paul\", \n",
    "                        experiment_description=\"Aprox five minute recording while the animal rested in their hammock\", \n",
    "                        session_id=\"TY20210308_signalCheck_morning\", \n",
    "                        institution=\"University of Chicago\", \n",
    "                        keywords=['resting state', 'Tony', 'Marmoset', 'Exilis'], \n",
    "                        notes=\"Animal remained quietly in hammock during the entire duration of recording. Little movement. Jelli was bad\", \n",
    "                        protocol=\"IACUCXXX\", \n",
    "                        source_script=\"jupyter notebook spiketest\", \n",
    "                        source_script_file_name=\"/media/paul/storage/Python/spiketest.ipynb\", \n",
    "                        subject=subject)"
   ]
  },
  {
   "cell_type": "markdown",
   "id": "f64838d2",
   "metadata": {},
   "source": [
    "# Add neurophys data\n",
    "We want to add all of the raw neurophysiology data aquired in the experiment in addition to the metadata necessary to interpret the data.\n",
    "\n",
    "## Device Metadata\n",
    "First we need to create an instance of a \"device\" that will represent our recording array. We do this by using the \"create_device\" method associated with our nwbfile instance"
   ]
  },
  {
   "cell_type": "code",
   "execution_count": 3,
   "id": "cf036c83",
   "metadata": {},
   "outputs": [],
   "source": [
    "# add device that the array connects to\n",
    "device = nwbfile.create_device(name='Exilis', \n",
    "                               description='Wireless Headstage', \n",
    "                               manufacturer='Blackrock Microsystems')"
   ]
  },
  {
   "cell_type": "markdown",
   "id": "1e4adedf",
   "metadata": {},
   "source": [
    "## Electrode Metadata\n",
    "The electrode group is an instance of a device. After creating the device we add the metadata for the electrode array as an \"electrode_group.\" If we had two arrays that we wanted to differentiate, than we would add a second instance of an electrode_group. "
   ]
  },
  {
   "cell_type": "code",
   "execution_count": 4,
   "id": "229b9dad",
   "metadata": {},
   "outputs": [],
   "source": [
    "# metadata about the array\n",
    "electrode_group = nwbfile.create_electrode_group('Utah array', \n",
    "                                                 description='96 channel(10X10) array', \n",
    "                                                 location='RH M1', \n",
    "                                                 device=device, \n",
    "                                                 position=[4.5, 9.8, 5])"
   ]
  },
  {
   "cell_type": "markdown",
   "id": "3c21d715",
   "metadata": {},
   "source": [
    "We now want to specify information about each electrode in the array. Specifically, we want to have the MAPfile information and spatial arrangement of the array."
   ]
  },
  {
   "cell_type": "code",
   "execution_count": 5,
   "id": "5949b909",
   "metadata": {},
   "outputs": [],
   "source": [
    "from neo import io\n",
    "\n",
    "raw = io.BlackrockIO(filename = '/media/paul/storage/Data/SignalCheck/TY20210308/TY20210308_signalCheck_morning.ns6', \n",
    "                    nsx_to_load=6)\n",
    "labels = raw.header.get('signal_channels')\n",
    "\n",
    "MAPX = np.array([[0, 96, 95, 94, 93, 92, 91, 90, 89, 0], [88, 87, 86, 85, 84, 83, 82, 81, 80, 79], \n",
    "        [78, 77, 76, 75, 74, 73, 72, 71, 70, 69], [68, 67, 66, 65, 64, 63, 62, 61, 60, 59], \n",
    "        [58, 57, 56, 55, 54, 53, 52, 51, 50, 49], [48, 47, 46, 45, 44, 43, 42, 41, 40, 39], \n",
    "        [38, 37, 36, 35, 34, 33, 32, 31, 30, 29], [28, 27, 26, 25, 24, 23, 22, 21, 20, 19], \n",
    "        [18, 17, 16, 15, 14, 13, 12, 11, 10, 9], [0, 8, 7, 6, 5, 4, 3, 2, 1, 0]])\n",
    "MAP = MAPX.transpose()\n",
    "\n",
    "electrode_spacing_um = 400\n",
    "\n",
    "for idx in range(1,97):\n",
    "    nwbfile.add_electrode(x=float(electrode_spacing_um*np.where(MAP==idx)[1]), \n",
    "                          y=float(electrode_spacing_um*np.where(MAP==idx)[0]), \n",
    "                          z=float(0), \n",
    "                          imp=float(-idx), \n",
    "                          location='M1', \n",
    "                          filtering='none', \n",
    "                          group=electrode_group, \n",
    "                          id=int(labels[idx-1][0][4:]), \n",
    "                          rel_x=float(np.where(MAP==idx)[1]), \n",
    "                          rel_y=float(np.where(MAP==idx)[0]), \n",
    "                          rel_z=float(0))"
   ]
  },
  {
   "cell_type": "markdown",
   "id": "8457d15d",
   "metadata": {},
   "source": [
    "## Extracellular recordings\n",
    "In order to add the raw voltage recording to our array, we will first need to import the Blackrock ns6 file. "
   ]
  },
  {
   "cell_type": "code",
   "execution_count": 6,
   "id": "da9113c5",
   "metadata": {},
   "outputs": [],
   "source": [
    "from pynwb.ecephys import ElectricalSeries\n",
    "\n",
    "seg = raw.read_segment()\n",
    "data = seg.analogsignals[0]\n",
    "\n",
    "electrode_table_region = nwbfile.create_electrode_table_region(list(range(95)), 'Array electrodes 1-96')\n",
    "\n",
    "ephys_ts = ElectricalSeries('rawdata', \n",
    "                            data, \n",
    "                            electrode_table_region, \n",
    "                            starting_time=float(0), \n",
    "                            rate=float(30000), \n",
    "                            resolution=0.000001, \n",
    "                            conversion=0.25)\n",
    "\n",
    "nwbfile.add_acquisition(ephys_ts)"
   ]
  },
  {
   "cell_type": "markdown",
   "id": "d6127f8b",
   "metadata": {},
   "source": [
    "## Raw Behavioral Data\n",
    "Finally we want to add the raw behavior data. With the marmoset project, the raw behavior data consists of multi-camera videos of the animal from different views, in addition to a calibration video. NWB has special data types for images and we will add this in our aquisiiton container. "
   ]
  },
  {
   "cell_type": "code",
   "execution_count": 7,
   "id": "b63ee25d",
   "metadata": {},
   "outputs": [],
   "source": [
    "# load calibration images\n",
    "from PIL import Image\n",
    "import glob\n",
    "\n",
    "# save images as np arrays in file\n",
    "files = glob.glob('/media/paul/storage/Data/videos_2019_11_26/pre_calib/cam1/*.jpg')\n",
    "data = []\n",
    "for i in range(len(files)):\n",
    "    im = np.asarray(Image.open(files[i]))\n",
    "    data.append(im)\n",
    "    \n",
    "cal1_ts = pynwb.image.ImageSeries('Cam1 Calibration', \n",
    "                                  data=data, \n",
    "                                  unit='frame', \n",
    "                                  format='jpg', \n",
    "                                  dimension=[1080, 1440],\n",
    "                                  starting_time=float(0),\n",
    "                                  rate=float(30), \n",
    "                                  description='cam1')\n",
    "\n",
    "nwbfile.add_acquisition(cal1_ts)"
   ]
  },
  {
   "cell_type": "code",
   "execution_count": 8,
   "id": "8e4a1ae9",
   "metadata": {},
   "outputs": [],
   "source": [
    "# save images as external links \n",
    "files = glob.glob('/media/paul/storage/Data/videos_2019_11_26/pre_calib/cam2/*.jpg')\n",
    "cal2_ts = pynwb.image.ImageSeries('Cam2 Calibration', \n",
    "                                  unit='frame', \n",
    "                                  format='external', \n",
    "                                  external_file=files, \n",
    "                                  dimension=[1080, 1440], \n",
    "                                  starting_time=float(0), \n",
    "                                  rate=float(30),\n",
    "                                  description='cam2'\n",
    "                                 )\n",
    "nwbfile.add_acquisition(cal2_ts)"
   ]
  },
  {
   "cell_type": "code",
   "execution_count": null,
   "id": "2e3036d2",
   "metadata": {},
   "outputs": [],
   "source": [
    "from pynwb import NWBHDF5IO\n",
    "io = NWBHDF5IO('rawtest01.nwb', mode='w')\n",
    "io.write(nwbfile)\n",
    "io.close()"
   ]
  },
  {
   "cell_type": "code",
   "execution_count": null,
   "id": "4d5c1a43",
   "metadata": {},
   "outputs": [],
   "source": [
    "\n"
   ]
  },
  {
   "cell_type": "code",
   "execution_count": null,
   "id": "21983278",
   "metadata": {},
   "outputs": [],
   "source": []
  }
 ],
 "metadata": {
  "kernelspec": {
   "display_name": "Python 3 (ipykernel)",
   "language": "python",
   "name": "python3"
  },
  "language_info": {
   "codemirror_mode": {
    "name": "ipython",
    "version": 3
   },
   "file_extension": ".py",
   "mimetype": "text/x-python",
   "name": "python",
   "nbconvert_exporter": "python",
   "pygments_lexer": "ipython3",
   "version": "3.9.13"
  }
 },
 "nbformat": 4,
 "nbformat_minor": 5
}
