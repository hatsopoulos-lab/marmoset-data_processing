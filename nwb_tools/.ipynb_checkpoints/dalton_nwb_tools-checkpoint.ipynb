{
 "cells": [
  {
   "cell_type": "markdown",
   "id": "a34eab6f",
   "metadata": {},
   "source": [
    "# NOTES\n",
    "    1) Need to check the positions on probe file. Look at nwbfile.add_electrode? for guidelines on what +x and +y directions should be\n",
    "    2) Need to add some session metadata\n",
    "    3) Should we load pre-surgery impedances in for each dataset for argument of nwbfile.add_electrode?"
   ]
  },
  {
   "cell_type": "code",
   "execution_count": 1,
   "id": "57fc6b2b",
   "metadata": {},
   "outputs": [],
   "source": [
    "# import toolboxes\n",
    "import numpy as np\n",
    "import pynwb\n",
    "import datetime\n",
    "from dateutil import tz\n",
    "\n",
    "import pytz\n",
    "import matplotlib.pyplot as plt\n",
    "from pathlib import Path\n",
    "import yaml\n",
    "from os.path import join as pjoin\n",
    "import os\n",
    "\n",
    "from probeinterface import Probe, ProbeGroup\n",
    "from probeinterface.plotting import plot_probe, plot_probe_group\n",
    "from neuroconv.datainterfaces import BlackrockRecordingInterface\n",
    "\n",
    "from pynwb.ecephys import ElectricalSeries\n",
    "\n",
    "import sys\n",
    "import importlib\n",
    "from neo import io\n",
    "\n",
    "\n",
    "sys.path.insert(0, '/project/nicho/projects/marmosets/code_database/data_processing/nwb_tools/hatlab_nwb_tools/')\n",
    "from hatlab_nwb_functions import *\n",
    "from neuroconv.tools.nwb_helpers import *"
   ]
  },
  {
   "cell_type": "code",
   "execution_count": 2,
   "id": "42cb835e",
   "metadata": {},
   "outputs": [],
   "source": [
    "importlib.reload(importlib.sys.modules['hatlab_nwb_functions'])\n",
    "from hatlab_nwb_functions import *"
   ]
  },
  {
   "cell_type": "code",
   "execution_count": 46,
   "id": "1c7257c4",
   "metadata": {},
   "outputs": [],
   "source": [
    "# User defined inputs\n",
    "ephys_path = '/project/nicho/data/marmosets/electrophys_data_for_processing' # path to data directory\n",
    "sess_path = 'TY20221024_testbattery' # directory where Ns6 file lives\n",
    "rec_num = 1\n",
    "nsx_file = pjoin(ephys_path, sess_path, 'TY20221024_testbattery_%s.ns6' % str(rec_num).zfill(3)) # name of NS6 file\n",
    "prbfile = '/project/nicho/data/marmosets/prbfiles/TY_array.prb' # name of probe (.prb) file\n",
    "subject_file = '/project/nicho/projects/marmosets/code_database/data_processing/nwb_tools/subjects.yml'\n",
    "session_file = '/project/nicho/projects/marmosets/code_database/data_processing/nwb_tools/session_metadata.yml'\n",
    "nwb_path = nsx_file.replace('.ns6', '_TESTING.nwb')\n",
    "\n",
    "filter_dict = {'6': 'None'}"
   ]
  },
  {
   "cell_type": "markdown",
   "id": "00f6779a",
   "metadata": {},
   "source": [
    "## Create NWB file with metadata\n",
    "Set up the metadata for the recordinmg session. In this case, the data comes froma 5 minute early morning recording from Tony while he rested quiently in his hammock. We will also set up subject information."
   ]
  },
  {
   "cell_type": "markdown",
   "id": "cf611f2e",
   "metadata": {},
   "source": [
    "### Load metadata from yaml files"
   ]
  },
  {
   "cell_type": "code",
   "execution_count": 48,
   "id": "0d5f93ed",
   "metadata": {},
   "outputs": [],
   "source": [
    "with open(subject_file, 'r') as f:\n",
    "    subject_info = yaml.safe_load(f)\n",
    "    \n",
    "with open(session_file, 'r') as f:\n",
    "    session_info = yaml.safe_load(f)\n",
    "    \n",
    "session_id = os.path.basename(nsx_file)[:-7]\n",
    "if session_id[-1] == '_':\n",
    "    session_id = session_id[:-1]"
   ]
  },
  {
   "cell_type": "markdown",
   "id": "3c9d8227",
   "metadata": {},
   "source": [
    "### Load nsx file and pull additional metadata"
   ]
  },
  {
   "cell_type": "code",
   "execution_count": 5,
   "id": "e92f9848",
   "metadata": {},
   "outputs": [],
   "source": [
    "interface = BlackrockRecordingInterface(file_path=nsx_file, verbose=True)\n",
    "\n",
    "# Extract what metadata we can from the source files\n",
    "metadata = interface.get_metadata()"
   ]
  },
  {
   "cell_type": "code",
   "execution_count": 11,
   "id": "52aaf9db",
   "metadata": {},
   "outputs": [],
   "source": [
    "# For data provenance we add the time zone information to the conversion\n",
    "session_start_time = datetime.datetime.fromisoformat(metadata[\"NWBFile\"][\"session_start_time\"])\n",
    "\n",
    "#compute age\n",
    "dob = subject_info['Tony']['date_of_birth']\n",
    "dob = datetime.datetime(dob.year, dob.month, dob.day, 0, 0)\n",
    "age = int(np.floor((session_start_time.date() - dob.date()).days / 365))\n",
    "\n",
    "session_start_time = session_start_time.replace(tzinfo=tz.gettz(\"US/Central\"))\n",
    "dob = dob.replace(tzinfo=tz.gettz(\"US/Central\"))"
   ]
  },
  {
   "cell_type": "markdown",
   "id": "fbeaeef5",
   "metadata": {},
   "source": [
    "### Create nwbfile with full metadata"
   ]
  },
  {
   "cell_type": "code",
   "execution_count": 58,
   "id": "b921c971",
   "metadata": {},
   "outputs": [],
   "source": [
    "# set up subject info\n",
    "subject = pynwb.file.Subject(age='%d years' %age, \n",
    "                             description=subject_info['Tony']['description'], \n",
    "                             sex=subject_info['Tony']['sex'], \n",
    "                             species=subject_info['Tony']['species'], \n",
    "                             subject_id=subject_info['Tony']['subject_id'], \n",
    "                             weight=subject_info['Tony']['weight'], \n",
    "                             date_of_birth=dob)\n",
    "# set up experiemnt metadata\n",
    "nwbfile = pynwb.NWBFile(session_description=\"Early Morning Signal Check\", \n",
    "                        identifier = session_id, \n",
    "                        session_start_time = session_start_time, \n",
    "                        experimenter=\"Paul\", \n",
    "                        experiment_description=\"Aprox five minute recording while the animal rested in their hammock\", \n",
    "                        institution=\"University of Chicago\", \n",
    "                        keywords=['resting state', 'Tony', 'Marmoset', 'Exilis'], \n",
    "                        notes=\"Animal remained quietly in hammock during the entire duration of recording. Little movement. Jelli was bad\", \n",
    "                        protocol=\"IACUCXXX\", \n",
    "                        source_script=\"tmp\", \n",
    "                        source_script_file_name=\"tmp\", \n",
    "                        subject=subject)"
   ]
  },
  {
   "cell_type": "code",
   "execution_count": 50,
   "id": "81abd41c",
   "metadata": {},
   "outputs": [
    {
     "data": {
      "text/plain": [
       "root pynwb.file.NWBFile at 0x140337908094672\n",
       "Fields:\n",
       "  experiment_description: Aprox five minute recording while the animal rested in their hammock\n",
       "  experimenter: ['Paul']\n",
       "  file_create_date: [datetime.datetime(2023, 1, 22, 9, 29, 13, 283130, tzinfo=tzlocal())]\n",
       "  identifier: TY20221024_testbattery\n",
       "  institution: University of Chicago\n",
       "  keywords: ['resting state' 'Tony' 'Marmoset' 'Exilis']\n",
       "  notes: Animal remained quietly in hammock during the entire duration of recording. Little movement. Jelli was bad\n",
       "  protocol: IACUCXXX\n",
       "  session_description: Early Morning Signal Check\n",
       "  session_start_time: 2022-10-24 14:29:21-05:00\n",
       "  source_script: tmp\n",
       "  source_script_file_name: tmp\n",
       "  subject: subject pynwb.file.Subject at 0x140337908199088\n",
       "Fields:\n",
       "  age: 12 years\n",
       "  date_of_birth: 2010-04-29 00:00:00-05:00\n",
       "  description: Marmoset Tony with 96ch utah array in right M1\n",
       "  sex: male\n",
       "  species: Callithrix jacchus\n",
       "  subject_id: TY\n",
       "  weight: 350.0 kg\n",
       "\n",
       "  timestamps_reference_time: 2022-10-24 14:29:21-05:00"
      ]
     },
     "execution_count": 50,
     "metadata": {},
     "output_type": "execute_result"
    }
   ],
   "source": [
    "nwbfile"
   ]
  },
  {
   "cell_type": "markdown",
   "id": "c18fe9ef",
   "metadata": {},
   "source": [
    "# Add neurophys data\n",
    "We want to add all of the raw neurophysiology data aquired in the experiment in addition to the metadata necessary to interpret the data."
   ]
  },
  {
   "cell_type": "code",
   "execution_count": 14,
   "id": "f395b90f",
   "metadata": {},
   "outputs": [
    {
     "name": "stdout",
     "output_type": "stream",
     "text": [
      "('name', 'id', 'sampling_rate', 'dtype', 'units', 'gain', 'offset', 'stream_id')\n"
     ]
    },
    {
     "data": {
      "text/plain": [
       "0.0034"
      ]
     },
     "execution_count": 14,
     "metadata": {},
     "output_type": "execute_result"
    }
   ],
   "source": [
    "raw = io.BlackrockIO(filename = nsx_file, nsx_to_load=6)\n",
    "\n",
    "event_channels = raw.header['event_channels']\n",
    "comments = [vals[1] for vals in event_channels if vals[0] == 'comments'] \n",
    "raw_meta = raw.header['signal_channels']"
   ]
  },
  {
   "cell_type": "code",
   "execution_count": 40,
   "id": "b12677a7",
   "metadata": {},
   "outputs": [
    {
     "data": {
      "text/plain": [
       "{'nb_block': 1,\n",
       " 'nb_segment': [1],\n",
       " 'signal_streams': array([('nsx6', '6')], dtype=[('name', '<U64'), ('id', '<U64')]),\n",
       " 'signal_channels': array([('chan1', '1', 30000., 'int16', 'uV', 0.25      , 0., '6'),\n",
       "        ('chan2', '2', 30000., 'int16', 'uV', 0.25      , 0., '6'),\n",
       "        ('chan3', '3', 30000., 'int16', 'uV', 0.25      , 0., '6'),\n",
       "        ('chan4', '4', 30000., 'int16', 'uV', 0.25      , 0., '6'),\n",
       "        ('chan5', '5', 30000., 'int16', 'uV', 0.25      , 0., '6'),\n",
       "        ('chan6', '6', 30000., 'int16', 'uV', 0.25      , 0., '6'),\n",
       "        ('chan7', '7', 30000., 'int16', 'uV', 0.25      , 0., '6'),\n",
       "        ('chan8', '8', 30000., 'int16', 'uV', 0.25      , 0., '6'),\n",
       "        ('chan9', '9', 30000., 'int16', 'uV', 0.25      , 0., '6'),\n",
       "        ('chan10', '10', 30000., 'int16', 'uV', 0.25      , 0., '6'),\n",
       "        ('chan11', '11', 30000., 'int16', 'uV', 0.25      , 0., '6'),\n",
       "        ('chan12', '12', 30000., 'int16', 'uV', 0.25      , 0., '6'),\n",
       "        ('chan13', '13', 30000., 'int16', 'uV', 0.25      , 0., '6'),\n",
       "        ('chan14', '14', 30000., 'int16', 'uV', 0.25      , 0., '6'),\n",
       "        ('chan15', '15', 30000., 'int16', 'uV', 0.25      , 0., '6'),\n",
       "        ('chan16', '16', 30000., 'int16', 'uV', 0.25      , 0., '6'),\n",
       "        ('chan17', '17', 30000., 'int16', 'uV', 0.25      , 0., '6'),\n",
       "        ('chan18', '18', 30000., 'int16', 'uV', 0.25      , 0., '6'),\n",
       "        ('chan19', '19', 30000., 'int16', 'uV', 0.25      , 0., '6'),\n",
       "        ('chan20', '20', 30000., 'int16', 'uV', 0.25      , 0., '6'),\n",
       "        ('chan21', '21', 30000., 'int16', 'uV', 0.25      , 0., '6'),\n",
       "        ('chan22', '22', 30000., 'int16', 'uV', 0.25      , 0., '6'),\n",
       "        ('chan23', '23', 30000., 'int16', 'uV', 0.25      , 0., '6'),\n",
       "        ('chan24', '24', 30000., 'int16', 'uV', 0.25      , 0., '6'),\n",
       "        ('chan25', '25', 30000., 'int16', 'uV', 0.25      , 0., '6'),\n",
       "        ('chan26', '26', 30000., 'int16', 'uV', 0.25      , 0., '6'),\n",
       "        ('chan27', '27', 30000., 'int16', 'uV', 0.25      , 0., '6'),\n",
       "        ('chan28', '28', 30000., 'int16', 'uV', 0.25      , 0., '6'),\n",
       "        ('chan29', '29', 30000., 'int16', 'uV', 0.25      , 0., '6'),\n",
       "        ('chan30', '30', 30000., 'int16', 'uV', 0.25      , 0., '6'),\n",
       "        ('chan31', '31', 30000., 'int16', 'uV', 0.25      , 0., '6'),\n",
       "        ('chan32', '32', 30000., 'int16', 'uV', 0.25      , 0., '6'),\n",
       "        ('chan33', '33', 30000., 'int16', 'uV', 0.25      , 0., '6'),\n",
       "        ('chan34', '34', 30000., 'int16', 'uV', 0.25      , 0., '6'),\n",
       "        ('chan35', '35', 30000., 'int16', 'uV', 0.25      , 0., '6'),\n",
       "        ('chan36', '36', 30000., 'int16', 'uV', 0.25      , 0., '6'),\n",
       "        ('chan37', '37', 30000., 'int16', 'uV', 0.25      , 0., '6'),\n",
       "        ('chan38', '38', 30000., 'int16', 'uV', 0.25      , 0., '6'),\n",
       "        ('chan39', '39', 30000., 'int16', 'uV', 0.25      , 0., '6'),\n",
       "        ('chan40', '40', 30000., 'int16', 'uV', 0.25      , 0., '6'),\n",
       "        ('chan41', '41', 30000., 'int16', 'uV', 0.25      , 0., '6'),\n",
       "        ('chan42', '42', 30000., 'int16', 'uV', 0.25      , 0., '6'),\n",
       "        ('chan43', '43', 30000., 'int16', 'uV', 0.25      , 0., '6'),\n",
       "        ('chan44', '44', 30000., 'int16', 'uV', 0.25      , 0., '6'),\n",
       "        ('chan45', '45', 30000., 'int16', 'uV', 0.25      , 0., '6'),\n",
       "        ('chan46', '46', 30000., 'int16', 'uV', 0.25      , 0., '6'),\n",
       "        ('chan47', '47', 30000., 'int16', 'uV', 0.25      , 0., '6'),\n",
       "        ('chan48', '48', 30000., 'int16', 'uV', 0.25      , 0., '6'),\n",
       "        ('chan49', '49', 30000., 'int16', 'uV', 0.25      , 0., '6'),\n",
       "        ('chan50', '50', 30000., 'int16', 'uV', 0.25      , 0., '6'),\n",
       "        ('chan51', '51', 30000., 'int16', 'uV', 0.25      , 0., '6'),\n",
       "        ('chan52', '52', 30000., 'int16', 'uV', 0.25      , 0., '6'),\n",
       "        ('chan53', '53', 30000., 'int16', 'uV', 0.25      , 0., '6'),\n",
       "        ('chan54', '54', 30000., 'int16', 'uV', 0.25      , 0., '6'),\n",
       "        ('chan55', '55', 30000., 'int16', 'uV', 0.25      , 0., '6'),\n",
       "        ('chan56', '56', 30000., 'int16', 'uV', 0.25      , 0., '6'),\n",
       "        ('chan57', '57', 30000., 'int16', 'uV', 0.25      , 0., '6'),\n",
       "        ('chan58', '58', 30000., 'int16', 'uV', 0.25      , 0., '6'),\n",
       "        ('chan59', '59', 30000., 'int16', 'uV', 0.25      , 0., '6'),\n",
       "        ('chan60', '60', 30000., 'int16', 'uV', 0.25      , 0., '6'),\n",
       "        ('chan61', '61', 30000., 'int16', 'uV', 0.25      , 0., '6'),\n",
       "        ('chan62', '62', 30000., 'int16', 'uV', 0.25      , 0., '6'),\n",
       "        ('chan63', '63', 30000., 'int16', 'uV', 0.25      , 0., '6'),\n",
       "        ('chan64', '64', 30000., 'int16', 'uV', 0.25      , 0., '6'),\n",
       "        ('chan65', '65', 30000., 'int16', 'uV', 0.25      , 0., '6'),\n",
       "        ('chan66', '66', 30000., 'int16', 'uV', 0.25      , 0., '6'),\n",
       "        ('chan67', '67', 30000., 'int16', 'uV', 0.25      , 0., '6'),\n",
       "        ('chan68', '68', 30000., 'int16', 'uV', 0.25      , 0., '6'),\n",
       "        ('chan69', '69', 30000., 'int16', 'uV', 0.25      , 0., '6'),\n",
       "        ('chan70', '70', 30000., 'int16', 'uV', 0.25      , 0., '6'),\n",
       "        ('chan71', '71', 30000., 'int16', 'uV', 0.25      , 0., '6'),\n",
       "        ('chan72', '72', 30000., 'int16', 'uV', 0.25      , 0., '6'),\n",
       "        ('chan73', '73', 30000., 'int16', 'uV', 0.25      , 0., '6'),\n",
       "        ('chan74', '74', 30000., 'int16', 'uV', 0.25      , 0., '6'),\n",
       "        ('chan75', '75', 30000., 'int16', 'uV', 0.25      , 0., '6'),\n",
       "        ('chan76', '76', 30000., 'int16', 'uV', 0.25      , 0., '6'),\n",
       "        ('chan77', '77', 30000., 'int16', 'uV', 0.25      , 0., '6'),\n",
       "        ('chan78', '78', 30000., 'int16', 'uV', 0.25      , 0., '6'),\n",
       "        ('chan79', '79', 30000., 'int16', 'uV', 0.25      , 0., '6'),\n",
       "        ('chan80', '80', 30000., 'int16', 'uV', 0.25      , 0., '6'),\n",
       "        ('chan81', '81', 30000., 'int16', 'uV', 0.25      , 0., '6'),\n",
       "        ('chan82', '82', 30000., 'int16', 'uV', 0.25      , 0., '6'),\n",
       "        ('chan83', '83', 30000., 'int16', 'uV', 0.25      , 0., '6'),\n",
       "        ('chan84', '84', 30000., 'int16', 'uV', 0.25      , 0., '6'),\n",
       "        ('chan85', '85', 30000., 'int16', 'uV', 0.25      , 0., '6'),\n",
       "        ('chan86', '86', 30000., 'int16', 'uV', 0.25      , 0., '6'),\n",
       "        ('chan87', '87', 30000., 'int16', 'uV', 0.25      , 0., '6'),\n",
       "        ('chan88', '88', 30000., 'int16', 'uV', 0.25      , 0., '6'),\n",
       "        ('chan89', '89', 30000., 'int16', 'uV', 0.25      , 0., '6'),\n",
       "        ('chan90', '90', 30000., 'int16', 'uV', 0.25      , 0., '6'),\n",
       "        ('chan91', '91', 30000., 'int16', 'uV', 0.25      , 0., '6'),\n",
       "        ('chan92', '92', 30000., 'int16', 'uV', 0.25      , 0., '6'),\n",
       "        ('chan93', '93', 30000., 'int16', 'uV', 0.25      , 0., '6'),\n",
       "        ('chan94', '94', 30000., 'int16', 'uV', 0.25      , 0., '6'),\n",
       "        ('chan95', '95', 30000., 'int16', 'uV', 0.25      , 0., '6'),\n",
       "        ('chan96', '96', 30000., 'int16', 'uV', 0.25      , 0., '6'),\n",
       "        ('ainp1', '129', 30000., 'int16', 'mV', 0.15259255, 0., '6'),\n",
       "        ('ainp2', '130', 30000., 'int16', 'mV', 0.15259255, 0., '6'),\n",
       "        ('ainp3', '131', 30000., 'int16', 'mV', 0.15259255, 0., '6')],\n",
       "       dtype=[('name', '<U64'), ('id', '<U64'), ('sampling_rate', '<f8'), ('dtype', '<U16'), ('units', '<U64'), ('gain', '<f8'), ('offset', '<f8'), ('stream_id', '<U64')]),\n",
       " 'spike_channels': array([('ch1#0', 'Unit 1000', 'uV', 0.25, 0., 10, 30000.),\n",
       "        ('ch2#0', 'Unit 2000', 'uV', 0.25, 0., 10, 30000.),\n",
       "        ('ch3#0', 'Unit 3000', 'uV', 0.25, 0., 10, 30000.),\n",
       "        ('ch4#0', 'Unit 4000', 'uV', 0.25, 0., 10, 30000.),\n",
       "        ('ch5#0', 'Unit 5000', 'uV', 0.25, 0., 10, 30000.),\n",
       "        ('ch6#0', 'Unit 6000', 'uV', 0.25, 0., 10, 30000.),\n",
       "        ('ch7#0', 'Unit 7000', 'uV', 0.25, 0., 10, 30000.),\n",
       "        ('ch8#0', 'Unit 8000', 'uV', 0.25, 0., 10, 30000.),\n",
       "        ('ch9#0', 'Unit 9000', 'uV', 0.25, 0., 10, 30000.),\n",
       "        ('ch10#0', 'Unit 10000', 'uV', 0.25, 0., 10, 30000.),\n",
       "        ('ch11#0', 'Unit 11000', 'uV', 0.25, 0., 10, 30000.),\n",
       "        ('ch12#0', 'Unit 12000', 'uV', 0.25, 0., 10, 30000.),\n",
       "        ('ch13#0', 'Unit 13000', 'uV', 0.25, 0., 10, 30000.),\n",
       "        ('ch14#0', 'Unit 14000', 'uV', 0.25, 0., 10, 30000.),\n",
       "        ('ch15#0', 'Unit 15000', 'uV', 0.25, 0., 10, 30000.),\n",
       "        ('ch16#0', 'Unit 16000', 'uV', 0.25, 0., 10, 30000.),\n",
       "        ('ch17#0', 'Unit 17000', 'uV', 0.25, 0., 10, 30000.),\n",
       "        ('ch18#0', 'Unit 18000', 'uV', 0.25, 0., 10, 30000.),\n",
       "        ('ch19#0', 'Unit 19000', 'uV', 0.25, 0., 10, 30000.),\n",
       "        ('ch20#0', 'Unit 20000', 'uV', 0.25, 0., 10, 30000.),\n",
       "        ('ch21#0', 'Unit 21000', 'uV', 0.25, 0., 10, 30000.),\n",
       "        ('ch22#0', 'Unit 22000', 'uV', 0.25, 0., 10, 30000.),\n",
       "        ('ch23#0', 'Unit 23000', 'uV', 0.25, 0., 10, 30000.),\n",
       "        ('ch24#0', 'Unit 24000', 'uV', 0.25, 0., 10, 30000.),\n",
       "        ('ch25#0', 'Unit 25000', 'uV', 0.25, 0., 10, 30000.),\n",
       "        ('ch26#0', 'Unit 26000', 'uV', 0.25, 0., 10, 30000.),\n",
       "        ('ch27#0', 'Unit 27000', 'uV', 0.25, 0., 10, 30000.),\n",
       "        ('ch28#0', 'Unit 28000', 'uV', 0.25, 0., 10, 30000.),\n",
       "        ('ch29#0', 'Unit 29000', 'uV', 0.25, 0., 10, 30000.),\n",
       "        ('ch30#0', 'Unit 30000', 'uV', 0.25, 0., 10, 30000.),\n",
       "        ('ch31#0', 'Unit 31000', 'uV', 0.25, 0., 10, 30000.),\n",
       "        ('ch32#0', 'Unit 32000', 'uV', 0.25, 0., 10, 30000.),\n",
       "        ('ch33#0', 'Unit 33000', 'uV', 0.25, 0., 10, 30000.),\n",
       "        ('ch34#0', 'Unit 34000', 'uV', 0.25, 0., 10, 30000.),\n",
       "        ('ch35#0', 'Unit 35000', 'uV', 0.25, 0., 10, 30000.),\n",
       "        ('ch36#0', 'Unit 36000', 'uV', 0.25, 0., 10, 30000.),\n",
       "        ('ch37#0', 'Unit 37000', 'uV', 0.25, 0., 10, 30000.),\n",
       "        ('ch38#0', 'Unit 38000', 'uV', 0.25, 0., 10, 30000.),\n",
       "        ('ch39#0', 'Unit 39000', 'uV', 0.25, 0., 10, 30000.),\n",
       "        ('ch40#0', 'Unit 40000', 'uV', 0.25, 0., 10, 30000.),\n",
       "        ('ch41#0', 'Unit 41000', 'uV', 0.25, 0., 10, 30000.),\n",
       "        ('ch42#0', 'Unit 42000', 'uV', 0.25, 0., 10, 30000.),\n",
       "        ('ch43#0', 'Unit 43000', 'uV', 0.25, 0., 10, 30000.),\n",
       "        ('ch44#0', 'Unit 44000', 'uV', 0.25, 0., 10, 30000.),\n",
       "        ('ch45#0', 'Unit 45000', 'uV', 0.25, 0., 10, 30000.),\n",
       "        ('ch46#0', 'Unit 46000', 'uV', 0.25, 0., 10, 30000.),\n",
       "        ('ch47#0', 'Unit 47000', 'uV', 0.25, 0., 10, 30000.),\n",
       "        ('ch48#0', 'Unit 48000', 'uV', 0.25, 0., 10, 30000.),\n",
       "        ('ch49#0', 'Unit 49000', 'uV', 0.25, 0., 10, 30000.),\n",
       "        ('ch50#0', 'Unit 50000', 'uV', 0.25, 0., 10, 30000.),\n",
       "        ('ch51#0', 'Unit 51000', 'uV', 0.25, 0., 10, 30000.),\n",
       "        ('ch52#0', 'Unit 52000', 'uV', 0.25, 0., 10, 30000.),\n",
       "        ('ch53#0', 'Unit 53000', 'uV', 0.25, 0., 10, 30000.),\n",
       "        ('ch54#0', 'Unit 54000', 'uV', 0.25, 0., 10, 30000.),\n",
       "        ('ch55#0', 'Unit 55000', 'uV', 0.25, 0., 10, 30000.),\n",
       "        ('ch56#0', 'Unit 56000', 'uV', 0.25, 0., 10, 30000.),\n",
       "        ('ch57#0', 'Unit 57000', 'uV', 0.25, 0., 10, 30000.),\n",
       "        ('ch58#0', 'Unit 58000', 'uV', 0.25, 0., 10, 30000.),\n",
       "        ('ch59#0', 'Unit 59000', 'uV', 0.25, 0., 10, 30000.),\n",
       "        ('ch60#0', 'Unit 60000', 'uV', 0.25, 0., 10, 30000.),\n",
       "        ('ch61#0', 'Unit 61000', 'uV', 0.25, 0., 10, 30000.),\n",
       "        ('ch62#0', 'Unit 62000', 'uV', 0.25, 0., 10, 30000.),\n",
       "        ('ch63#0', 'Unit 63000', 'uV', 0.25, 0., 10, 30000.),\n",
       "        ('ch64#0', 'Unit 64000', 'uV', 0.25, 0., 10, 30000.),\n",
       "        ('ch65#0', 'Unit 65000', 'uV', 0.25, 0., 10, 30000.),\n",
       "        ('ch66#0', 'Unit 66000', 'uV', 0.25, 0., 10, 30000.),\n",
       "        ('ch67#0', 'Unit 67000', 'uV', 0.25, 0., 10, 30000.),\n",
       "        ('ch68#0', 'Unit 68000', 'uV', 0.25, 0., 10, 30000.),\n",
       "        ('ch69#0', 'Unit 69000', 'uV', 0.25, 0., 10, 30000.),\n",
       "        ('ch70#0', 'Unit 70000', 'uV', 0.25, 0., 10, 30000.),\n",
       "        ('ch71#0', 'Unit 71000', 'uV', 0.25, 0., 10, 30000.),\n",
       "        ('ch72#0', 'Unit 72000', 'uV', 0.25, 0., 10, 30000.),\n",
       "        ('ch73#0', 'Unit 73000', 'uV', 0.25, 0., 10, 30000.),\n",
       "        ('ch74#0', 'Unit 74000', 'uV', 0.25, 0., 10, 30000.),\n",
       "        ('ch75#0', 'Unit 75000', 'uV', 0.25, 0., 10, 30000.),\n",
       "        ('ch76#0', 'Unit 76000', 'uV', 0.25, 0., 10, 30000.),\n",
       "        ('ch77#0', 'Unit 77000', 'uV', 0.25, 0., 10, 30000.),\n",
       "        ('ch78#0', 'Unit 78000', 'uV', 0.25, 0., 10, 30000.),\n",
       "        ('ch79#0', 'Unit 79000', 'uV', 0.25, 0., 10, 30000.),\n",
       "        ('ch80#0', 'Unit 80000', 'uV', 0.25, 0., 10, 30000.),\n",
       "        ('ch81#0', 'Unit 81000', 'uV', 0.25, 0., 10, 30000.),\n",
       "        ('ch82#0', 'Unit 82000', 'uV', 0.25, 0., 10, 30000.),\n",
       "        ('ch83#0', 'Unit 83000', 'uV', 0.25, 0., 10, 30000.),\n",
       "        ('ch84#0', 'Unit 84000', 'uV', 0.25, 0., 10, 30000.),\n",
       "        ('ch85#0', 'Unit 85000', 'uV', 0.25, 0., 10, 30000.),\n",
       "        ('ch86#0', 'Unit 86000', 'uV', 0.25, 0., 10, 30000.),\n",
       "        ('ch87#0', 'Unit 87000', 'uV', 0.25, 0., 10, 30000.),\n",
       "        ('ch88#0', 'Unit 88000', 'uV', 0.25, 0., 10, 30000.),\n",
       "        ('ch89#0', 'Unit 89000', 'uV', 0.25, 0., 10, 30000.),\n",
       "        ('ch90#0', 'Unit 90000', 'uV', 0.25, 0., 10, 30000.),\n",
       "        ('ch91#0', 'Unit 91000', 'uV', 0.25, 0., 10, 30000.),\n",
       "        ('ch92#0', 'Unit 92000', 'uV', 0.25, 0., 10, 30000.),\n",
       "        ('ch93#0', 'Unit 93000', 'uV', 0.25, 0., 10, 30000.),\n",
       "        ('ch94#0', 'Unit 94000', 'uV', 0.25, 0., 10, 30000.),\n",
       "        ('ch95#0', 'Unit 95000', 'uV', 0.25, 0., 10, 30000.),\n",
       "        ('ch96#0', 'Unit 96000', 'uV', 0.25, 0., 10, 30000.)],\n",
       "       dtype=[('name', '<U64'), ('id', '<U64'), ('wf_units', '<U64'), ('wf_gain', '<f8'), ('wf_offset', '<f8'), ('wf_left_sweep', '<i8'), ('wf_sampling_rate', '<f8')]),\n",
       " 'event_channels': array([('digital_input_port', '', b'event'),\n",
       "        ('serial_input_port', '', b'event'), ('comments', '', b'event')],\n",
       "       dtype=[('name', '<U64'), ('id', '<U64'), ('type', 'S5')])}"
      ]
     },
     "execution_count": 40,
     "metadata": {},
     "output_type": "execute_result"
    }
   ],
   "source": [
    "raw.header"
   ]
  },
  {
   "cell_type": "markdown",
   "id": "d8651fa7",
   "metadata": {},
   "source": [
    "## Device Metadata\n",
    "First we need to create an instance of a \"device\" that will represent our recording array. We do this by using the \"create_device\" method associated with our nwbfile instance"
   ]
  },
  {
   "cell_type": "code",
   "execution_count": 59,
   "id": "30d7027f",
   "metadata": {},
   "outputs": [],
   "source": [
    "# add device that the array connects to\n",
    "device = nwbfile.create_device(name=session_info['Ecephys']['Device']['name'], \n",
    "                               description=session_info['Ecephys']['Device']['description'], \n",
    "                               manufacturer=session_info['Ecephys']['Device']['manufacturer'])"
   ]
  },
  {
   "cell_type": "markdown",
   "id": "89abb9e2",
   "metadata": {},
   "source": [
    "## Electrode Metadata\n",
    "The electrode group is an instance of a device. After creating the device we add the metadata for the electrode array as an \"electrode_group.\" If we had two arrays that we wanted to differentiate, than we would add a second instance of an electrode_group. "
   ]
  },
  {
   "cell_type": "code",
   "execution_count": 60,
   "id": "d6d7eae4",
   "metadata": {},
   "outputs": [],
   "source": [
    "# metadata about the array\n",
    "electrode_group = nwbfile.create_electrode_group(name=subject_info['Tony']['array']['name'] , \n",
    "                                                 description=subject_info['Tony']['array']['description'], \n",
    "                                                 location=subject_info['Tony']['array']['location'], \n",
    "                                                 device=device, \n",
    "                                                 position=subject_info['Tony']['array']['position'])\n",
    "analog_group = nwbfile.create_electrode_group(name='AnalogIn', \n",
    "                                                 description='analog inputs containing signals from apparatus cams (ainp1), enclosure cams (ainp2) and touchscreen (ainp3)', \n",
    "                                                 location='None', \n",
    "                                                 device=device)"
   ]
  },
  {
   "cell_type": "markdown",
   "id": "c86281d5",
   "metadata": {},
   "source": [
    "We now want to specify information about each electrode in the array. Specifically, we want to have the MAPfile information and spatial arrangement of the array."
   ]
  },
  {
   "cell_type": "code",
   "execution_count": 18,
   "id": "e2c3ff26",
   "metadata": {},
   "outputs": [
    {
     "data": {
      "image/png": "[encoded data removed]",
      "text/plain": [
       "<Figure size 640x480 with 1 Axes>"
      ]
     },
     "metadata": {},
     "output_type": "display_data"
    }
   ],
   "source": [
    "arraymap = read_prb_hatlab(prbfile)\n",
    "plot_prb(arraymap)\n",
    "map_df=arraymap.to_dataframe()"
   ]
  },
  {
   "cell_type": "code",
   "execution_count": 175,
   "id": "b90f07df",
   "metadata": {},
   "outputs": [
    {
     "name": "stdout",
     "output_type": "stream",
     "text": [
      "[('chan1', '1', 30000., 'int16', 'uV', 0.25      , 0., '6')\n",
      " ('chan2', '2', 30000., 'int16', 'uV', 0.25      , 0., '6')\n",
      " ('chan3', '3', 30000., 'int16', 'uV', 0.25      , 0., '6')\n",
      " ('chan4', '4', 30000., 'int16', 'uV', 0.25      , 0., '6')\n",
      " ('chan5', '5', 30000., 'int16', 'uV', 0.25      , 0., '6')\n",
      " ('chan6', '6', 30000., 'int16', 'uV', 0.25      , 0., '6')\n",
      " ('chan7', '7', 30000., 'int16', 'uV', 0.25      , 0., '6')\n",
      " ('chan8', '8', 30000., 'int16', 'uV', 0.25      , 0., '6')\n",
      " ('chan9', '9', 30000., 'int16', 'uV', 0.25      , 0., '6')\n",
      " ('chan10', '10', 30000., 'int16', 'uV', 0.25      , 0., '6')\n",
      " ('chan11', '11', 30000., 'int16', 'uV', 0.25      , 0., '6')\n",
      " ('chan12', '12', 30000., 'int16', 'uV', 0.25      , 0., '6')\n",
      " ('chan13', '13', 30000., 'int16', 'uV', 0.25      , 0., '6')\n",
      " ('chan14', '14', 30000., 'int16', 'uV', 0.25      , 0., '6')\n",
      " ('chan15', '15', 30000., 'int16', 'uV', 0.25      , 0., '6')\n",
      " ('chan16', '16', 30000., 'int16', 'uV', 0.25      , 0., '6')\n",
      " ('chan17', '17', 30000., 'int16', 'uV', 0.25      , 0., '6')\n",
      " ('chan18', '18', 30000., 'int16', 'uV', 0.25      , 0., '6')\n",
      " ('chan19', '19', 30000., 'int16', 'uV', 0.25      , 0., '6')\n",
      " ('chan20', '20', 30000., 'int16', 'uV', 0.25      , 0., '6')\n",
      " ('chan21', '21', 30000., 'int16', 'uV', 0.25      , 0., '6')\n",
      " ('chan22', '22', 30000., 'int16', 'uV', 0.25      , 0., '6')\n",
      " ('chan23', '23', 30000., 'int16', 'uV', 0.25      , 0., '6')\n",
      " ('chan24', '24', 30000., 'int16', 'uV', 0.25      , 0., '6')\n",
      " ('chan25', '25', 30000., 'int16', 'uV', 0.25      , 0., '6')\n",
      " ('chan26', '26', 30000., 'int16', 'uV', 0.25      , 0., '6')\n",
      " ('chan27', '27', 30000., 'int16', 'uV', 0.25      , 0., '6')\n",
      " ('chan28', '28', 30000., 'int16', 'uV', 0.25      , 0., '6')\n",
      " ('chan29', '29', 30000., 'int16', 'uV', 0.25      , 0., '6')\n",
      " ('chan30', '30', 30000., 'int16', 'uV', 0.25      , 0., '6')\n",
      " ('chan31', '31', 30000., 'int16', 'uV', 0.25      , 0., '6')\n",
      " ('chan32', '32', 30000., 'int16', 'uV', 0.25      , 0., '6')\n",
      " ('chan33', '33', 30000., 'int16', 'uV', 0.25      , 0., '6')\n",
      " ('chan34', '34', 30000., 'int16', 'uV', 0.25      , 0., '6')\n",
      " ('chan35', '35', 30000., 'int16', 'uV', 0.25      , 0., '6')\n",
      " ('chan36', '36', 30000., 'int16', 'uV', 0.25      , 0., '6')\n",
      " ('chan37', '37', 30000., 'int16', 'uV', 0.25      , 0., '6')\n",
      " ('chan38', '38', 30000., 'int16', 'uV', 0.25      , 0., '6')\n",
      " ('chan39', '39', 30000., 'int16', 'uV', 0.25      , 0., '6')\n",
      " ('chan40', '40', 30000., 'int16', 'uV', 0.25      , 0., '6')\n",
      " ('chan41', '41', 30000., 'int16', 'uV', 0.25      , 0., '6')\n",
      " ('chan42', '42', 30000., 'int16', 'uV', 0.25      , 0., '6')\n",
      " ('chan43', '43', 30000., 'int16', 'uV', 0.25      , 0., '6')\n",
      " ('chan44', '44', 30000., 'int16', 'uV', 0.25      , 0., '6')\n",
      " ('chan45', '45', 30000., 'int16', 'uV', 0.25      , 0., '6')\n",
      " ('chan46', '46', 30000., 'int16', 'uV', 0.25      , 0., '6')\n",
      " ('chan47', '47', 30000., 'int16', 'uV', 0.25      , 0., '6')\n",
      " ('chan48', '48', 30000., 'int16', 'uV', 0.25      , 0., '6')\n",
      " ('chan49', '49', 30000., 'int16', 'uV', 0.25      , 0., '6')\n",
      " ('chan50', '50', 30000., 'int16', 'uV', 0.25      , 0., '6')\n",
      " ('chan51', '51', 30000., 'int16', 'uV', 0.25      , 0., '6')\n",
      " ('chan52', '52', 30000., 'int16', 'uV', 0.25      , 0., '6')\n",
      " ('chan53', '53', 30000., 'int16', 'uV', 0.25      , 0., '6')\n",
      " ('chan54', '54', 30000., 'int16', 'uV', 0.25      , 0., '6')\n",
      " ('chan55', '55', 30000., 'int16', 'uV', 0.25      , 0., '6')\n",
      " ('chan56', '56', 30000., 'int16', 'uV', 0.25      , 0., '6')\n",
      " ('chan57', '57', 30000., 'int16', 'uV', 0.25      , 0., '6')\n",
      " ('chan58', '58', 30000., 'int16', 'uV', 0.25      , 0., '6')\n",
      " ('chan59', '59', 30000., 'int16', 'uV', 0.25      , 0., '6')\n",
      " ('chan60', '60', 30000., 'int16', 'uV', 0.25      , 0., '6')\n",
      " ('chan61', '61', 30000., 'int16', 'uV', 0.25      , 0., '6')\n",
      " ('chan62', '62', 30000., 'int16', 'uV', 0.25      , 0., '6')\n",
      " ('chan63', '63', 30000., 'int16', 'uV', 0.25      , 0., '6')\n",
      " ('chan64', '64', 30000., 'int16', 'uV', 0.25      , 0., '6')\n",
      " ('chan65', '65', 30000., 'int16', 'uV', 0.25      , 0., '6')\n",
      " ('chan66', '66', 30000., 'int16', 'uV', 0.25      , 0., '6')\n",
      " ('chan67', '67', 30000., 'int16', 'uV', 0.25      , 0., '6')\n",
      " ('chan68', '68', 30000., 'int16', 'uV', 0.25      , 0., '6')\n",
      " ('chan69', '69', 30000., 'int16', 'uV', 0.25      , 0., '6')\n",
      " ('chan70', '70', 30000., 'int16', 'uV', 0.25      , 0., '6')\n",
      " ('chan71', '71', 30000., 'int16', 'uV', 0.25      , 0., '6')\n",
      " ('chan72', '72', 30000., 'int16', 'uV', 0.25      , 0., '6')\n",
      " ('chan73', '73', 30000., 'int16', 'uV', 0.25      , 0., '6')\n",
      " ('chan74', '74', 30000., 'int16', 'uV', 0.25      , 0., '6')\n",
      " ('chan75', '75', 30000., 'int16', 'uV', 0.25      , 0., '6')\n",
      " ('chan76', '76', 30000., 'int16', 'uV', 0.25      , 0., '6')\n",
      " ('chan77', '77', 30000., 'int16', 'uV', 0.25      , 0., '6')\n",
      " ('chan78', '78', 30000., 'int16', 'uV', 0.25      , 0., '6')\n",
      " ('chan79', '79', 30000., 'int16', 'uV', 0.25      , 0., '6')\n",
      " ('chan80', '80', 30000., 'int16', 'uV', 0.25      , 0., '6')\n",
      " ('chan81', '81', 30000., 'int16', 'uV', 0.25      , 0., '6')\n",
      " ('chan82', '82', 30000., 'int16', 'uV', 0.25      , 0., '6')\n",
      " ('chan83', '83', 30000., 'int16', 'uV', 0.25      , 0., '6')\n",
      " ('chan84', '84', 30000., 'int16', 'uV', 0.25      , 0., '6')\n",
      " ('chan85', '85', 30000., 'int16', 'uV', 0.25      , 0., '6')\n",
      " ('chan86', '86', 30000., 'int16', 'uV', 0.25      , 0., '6')\n",
      " ('chan87', '87', 30000., 'int16', 'uV', 0.25      , 0., '6')\n",
      " ('chan88', '88', 30000., 'int16', 'uV', 0.25      , 0., '6')\n",
      " ('chan89', '89', 30000., 'int16', 'uV', 0.25      , 0., '6')\n",
      " ('chan90', '90', 30000., 'int16', 'uV', 0.25      , 0., '6')\n",
      " ('chan91', '91', 30000., 'int16', 'uV', 0.25      , 0., '6')\n",
      " ('chan92', '92', 30000., 'int16', 'uV', 0.25      , 0., '6')\n",
      " ('chan93', '93', 30000., 'int16', 'uV', 0.25      , 0., '6')\n",
      " ('chan94', '94', 30000., 'int16', 'uV', 0.25      , 0., '6')\n",
      " ('chan95', '95', 30000., 'int16', 'uV', 0.25      , 0., '6')\n",
      " ('chan96', '96', 30000., 'int16', 'uV', 0.25      , 0., '6')\n",
      " ('ainp1', '129', 30000., 'int16', 'mV', 0.15259255, 0., '6')\n",
      " ('ainp2', '130', 30000., 'int16', 'mV', 0.15259255, 0., '6')\n",
      " ('ainp3', '131', 30000., 'int16', 'mV', 0.15259255, 0., '6')]\n",
      "('name', 'id', 'sampling_rate', 'dtype', 'units', 'gain', 'offset', 'stream_id')\n"
     ]
    }
   ],
   "source": [
    "print(raw_meta)\n",
    "print(raw_meta.dtype.names)"
   ]
  },
  {
   "cell_type": "code",
   "execution_count": 61,
   "id": "4b57e4c1",
   "metadata": {},
   "outputs": [],
   "source": [
    "nwbfile.add_electrode_column('channel_name', 'channel name from mapfile - should match names provided by array manufacturer')\n",
    "nwbfile.add_electrode_column('gain_to_uV', 'gain introduced by recording hardware and software')\n",
    "nwbfile.add_electrode_column('offset_to_uV', 'offset introduced by recording hardware and software')\n",
    "nwbfile.add_electrode_column('unit', 'unit of measurment for signal')"
   ]
  },
  {
   "cell_type": "code",
   "execution_count": 54,
   "id": "f9a68fa2",
   "metadata": {},
   "outputs": [
    {
     "data": {
      "text/plain": [
       "'Right Forelimb M1'"
      ]
     },
     "execution_count": 54,
     "metadata": {},
     "output_type": "execute_result"
    }
   ],
   "source": [
    "for eIdx, ch_name in enumerate(raw_meta['name']):\n",
    "    filt = filter_dict[raw_meta['stream_id'][eIdx]]\n",
    "    if 'ainp' in ch_name:\n",
    "        x, y, z = None, None, None\n",
    "        loc, group = analog_group.location, analog_group\n",
    "    else:\n",
    "        x, y, z = map_df.x[eIdx], map_df.y[eIdx], float(1)\n",
    "        loc, group = electrode_group.location, electrode_group \n",
    "        "
   ]
  },
  {
   "cell_type": "code",
   "execution_count": 62,
   "id": "889a35b1",
   "metadata": {},
   "outputs": [
    {
     "ename": "TypeError",
     "evalue": "NWBFile.add_electrode: incorrect type for 'x' (got 'int', expected 'float'), incorrect type for 'y' (got 'int', expected 'float'), incorrect type for 'z' (got 'int', expected 'float')",
     "output_type": "error",
     "traceback": [
      "\u001b[0;31m---------------------------------------------------------------------------\u001b[0m",
      "\u001b[0;31mTypeError\u001b[0m                                 Traceback (most recent call last)",
      "\u001b[0;32m/scratch/local/jobs/1599351/ipykernel_133232/1160127569.py\u001b[0m in \u001b[0;36m<module>\u001b[0;34m\u001b[0m\n\u001b[1;32m      8\u001b[0m         \u001b[0mloc\u001b[0m\u001b[0;34m,\u001b[0m \u001b[0mgroup\u001b[0m \u001b[0;34m=\u001b[0m \u001b[0melectrode_group\u001b[0m\u001b[0;34m.\u001b[0m\u001b[0mlocation\u001b[0m\u001b[0;34m,\u001b[0m \u001b[0melectrode_group\u001b[0m\u001b[0;34m\u001b[0m\u001b[0;34m\u001b[0m\u001b[0m\n\u001b[1;32m      9\u001b[0m \u001b[0;34m\u001b[0m\u001b[0m\n\u001b[0;32m---> 10\u001b[0;31m     nwbfile.add_electrode(x=x, \n\u001b[0m\u001b[1;32m     11\u001b[0m                           \u001b[0my\u001b[0m\u001b[0;34m=\u001b[0m\u001b[0my\u001b[0m\u001b[0;34m,\u001b[0m\u001b[0;34m\u001b[0m\u001b[0;34m\u001b[0m\u001b[0m\n\u001b[1;32m     12\u001b[0m                           \u001b[0mz\u001b[0m\u001b[0;34m=\u001b[0m\u001b[0mz\u001b[0m\u001b[0;34m,\u001b[0m\u001b[0;34m\u001b[0m\u001b[0;34m\u001b[0m\u001b[0m\n",
      "\u001b[0;32m/project/nicho/environments/spyder/lib/python3.9/site-packages/hdmf/utils.py\u001b[0m in \u001b[0;36mfunc_call\u001b[0;34m(*args, **kwargs)\u001b[0m\n\u001b[1;32m    642\u001b[0m         \u001b[0;32mif\u001b[0m \u001b[0mis_method\u001b[0m\u001b[0;34m:\u001b[0m\u001b[0;34m\u001b[0m\u001b[0;34m\u001b[0m\u001b[0m\n\u001b[1;32m    643\u001b[0m             \u001b[0;32mdef\u001b[0m \u001b[0mfunc_call\u001b[0m\u001b[0;34m(\u001b[0m\u001b[0;34m*\u001b[0m\u001b[0margs\u001b[0m\u001b[0;34m,\u001b[0m \u001b[0;34m**\u001b[0m\u001b[0mkwargs\u001b[0m\u001b[0;34m)\u001b[0m\u001b[0;34m:\u001b[0m\u001b[0;34m\u001b[0m\u001b[0;34m\u001b[0m\u001b[0m\n\u001b[0;32m--> 644\u001b[0;31m                 \u001b[0mpargs\u001b[0m \u001b[0;34m=\u001b[0m \u001b[0m_check_args\u001b[0m\u001b[0;34m(\u001b[0m\u001b[0margs\u001b[0m\u001b[0;34m,\u001b[0m \u001b[0mkwargs\u001b[0m\u001b[0;34m)\u001b[0m\u001b[0;34m\u001b[0m\u001b[0;34m\u001b[0m\u001b[0m\n\u001b[0m\u001b[1;32m    645\u001b[0m                 \u001b[0;32mreturn\u001b[0m \u001b[0mfunc\u001b[0m\u001b[0;34m(\u001b[0m\u001b[0margs\u001b[0m\u001b[0;34m[\u001b[0m\u001b[0;36m0\u001b[0m\u001b[0;34m]\u001b[0m\u001b[0;34m,\u001b[0m \u001b[0;34m**\u001b[0m\u001b[0mpargs\u001b[0m\u001b[0;34m)\u001b[0m\u001b[0;34m\u001b[0m\u001b[0;34m\u001b[0m\u001b[0m\n\u001b[1;32m    646\u001b[0m         \u001b[0;32melse\u001b[0m\u001b[0;34m:\u001b[0m\u001b[0;34m\u001b[0m\u001b[0;34m\u001b[0m\u001b[0m\n",
      "\u001b[0;32m/project/nicho/environments/spyder/lib/python3.9/site-packages/hdmf/utils.py\u001b[0m in \u001b[0;36m_check_args\u001b[0;34m(args, kwargs)\u001b[0m\n\u001b[1;32m    635\u001b[0m                 \u001b[0;32mif\u001b[0m \u001b[0mparse_err\u001b[0m\u001b[0;34m:\u001b[0m\u001b[0;34m\u001b[0m\u001b[0;34m\u001b[0m\u001b[0m\n\u001b[1;32m    636\u001b[0m                     \u001b[0mmsg\u001b[0m \u001b[0;34m=\u001b[0m \u001b[0;34m'%s: %s'\u001b[0m \u001b[0;34m%\u001b[0m \u001b[0;34m(\u001b[0m\u001b[0mfunc\u001b[0m\u001b[0;34m.\u001b[0m\u001b[0m__qualname__\u001b[0m\u001b[0;34m,\u001b[0m \u001b[0;34m', '\u001b[0m\u001b[0;34m.\u001b[0m\u001b[0mjoin\u001b[0m\u001b[0;34m(\u001b[0m\u001b[0mparse_err\u001b[0m\u001b[0;34m)\u001b[0m\u001b[0;34m)\u001b[0m\u001b[0;34m\u001b[0m\u001b[0;34m\u001b[0m\u001b[0m\n\u001b[0;32m--> 637\u001b[0;31m                     \u001b[0;32mraise\u001b[0m \u001b[0mExceptionType\u001b[0m\u001b[0;34m(\u001b[0m\u001b[0mmsg\u001b[0m\u001b[0;34m)\u001b[0m\u001b[0;34m\u001b[0m\u001b[0;34m\u001b[0m\u001b[0m\n\u001b[0m\u001b[1;32m    638\u001b[0m \u001b[0;34m\u001b[0m\u001b[0m\n\u001b[1;32m    639\u001b[0m             \u001b[0;32mreturn\u001b[0m \u001b[0mparsed\u001b[0m\u001b[0;34m[\u001b[0m\u001b[0;34m'args'\u001b[0m\u001b[0;34m]\u001b[0m\u001b[0;34m\u001b[0m\u001b[0;34m\u001b[0m\u001b[0m\n",
      "\u001b[0;31mTypeError\u001b[0m: NWBFile.add_electrode: incorrect type for 'x' (got 'int', expected 'float'), incorrect type for 'y' (got 'int', expected 'float'), incorrect type for 'z' (got 'int', expected 'float')"
     ]
    }
   ],
   "source": [
    "\n",
    "for eIdx, ch_name in enumerate(raw_meta['name']):\n",
    "    filt = filter_dict[raw_meta['stream_id'][eIdx]]\n",
    "    if 'ainp' in ch_name:\n",
    "        x, y, z = float(-1), float(-1), float(-1)\n",
    "        loc, group = analog_group.location, analog_group\n",
    "    else:\n",
    "        x, y, z = map_df.x[eIdx], map_df.y[eIdx], float(1)\n",
    "        loc, group = electrode_group.location, electrode_group \n",
    "    \n",
    "    nwbfile.add_electrode(x=x, \n",
    "                          y=y, \n",
    "                          z=z, \n",
    "                          imp=float(-1), \n",
    "                          location=loc, \n",
    "                          filtering=filt, \n",
    "                          group=group, \n",
    "                          id=eIdx,\n",
    "                          unit=raw_meta['units'][eIdx],\n",
    "                          gain_to_uV=raw_meta['gain'][eIdx],\n",
    "                          offset_to_uV=raw_meta['offset'][eIdx],\n",
    "                          channel_name=raw_meta['name'][eIdx]\n",
    "                         )"
   ]
  },
  {
   "cell_type": "markdown",
   "id": "20be1d7c",
   "metadata": {},
   "source": [
    "## Extracellular recordings\n",
    "In order to add the raw voltage recording to our array, we will first need to import the Blackrock ns6 file. "
   ]
  },
  {
   "cell_type": "code",
   "execution_count": null,
   "id": "0f13a825",
   "metadata": {},
   "outputs": [],
   "source": [
    "srate = raw.get_signal_sampling_rate()\n",
    "\n",
    "num_segments = raw.header['nb_segment'][0]\n",
    "print(raw_meta.dtype.names)\n",
    "raw_meta[0]['sampling_rate']\n",
    "raw.get_signal_t_start(block_index=0, seg_index=0)"
   ]
  },
  {
   "cell_type": "code",
   "execution_count": null,
   "id": "9833d100",
   "metadata": {},
   "outputs": [],
   "source": [
    "seg = raw.read_segment()\n",
    "data = seg.analogsignals[0]\n",
    "\n",
    "electrode_table_region = nwbfile.create_electrode_table_region(list(range(95)), 'Array electrodes 1-96')\n",
    "\n",
    "ephys_ts = ElectricalSeries('rawdata', \n",
    "                            data, \n",
    "                            electrode_table_region, \n",
    "                            starting_time=float(0), \n",
    "                            rate=float(30000), \n",
    "                            resolution=0.000001, \n",
    "                            conversion=0.25)\n",
    "\n",
    "nwbfile.add_acquisition(ephys_ts)"
   ]
  }
 ],
 "metadata": {
  "kernelspec": {
   "display_name": "Python 3 (ipykernel)",
   "language": "python",
   "name": "python3"
  },
  "language_info": {
   "codemirror_mode": {
    "name": "ipython",
    "version": 3
   },
   "file_extension": ".py",
   "mimetype": "text/x-python",
   "name": "python",
   "nbconvert_exporter": "python",
   "pygments_lexer": "ipython3",
   "version": "3.9.13"
  }
 },
 "nbformat": 4,
 "nbformat_minor": 5
}
