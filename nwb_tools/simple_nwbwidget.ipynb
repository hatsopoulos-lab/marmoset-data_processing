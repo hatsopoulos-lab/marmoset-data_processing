{
 "cells": [
  {
   "cell_type": "code",
   "execution_count": 1,
   "id": "e8efe3f4",
   "metadata": {
    "scrolled": true
   },
   "outputs": [
    {
     "data": {
      "application/vnd.jupyter.widget-view+json": {
       "model_id": "d23c8a8814d741f981a873ce45a427c4",
       "version_major": 2,
       "version_minor": 0
      },
      "text/plain": [
       "VBox(children=(HBox(children=(Label(value='session_description:', layout=Layout(max_height='40px', max_width='…"
      ]
     },
     "metadata": {},
     "output_type": "display_data"
    }
   ],
   "source": [
    "from pynwb import NWBHDF5IO\n",
    "from nwbwidgets import nwb2widget\n",
    "import ndx_pose\n",
    "import numpy as np\n",
    "import matplotlib.pyplot as plt\n",
    "\n",
    "#nwb_file = '/project/nicho/data/marmosets/electrophys_data_for_processing/MG20230317_1353_mothsAndFree/MG20230317_1353_mothsAndFree002.nwb'\n",
    "#nwb_file = '/project2/nicho/marmoset_tempStorage/electrophys_data_for_processing/TY20221024_testbattery/TY20221024_testbattery_001_PHY.nwb'\n",
    "#nwb_file = '/project/nicho/data/marmosets/electrophys_data_for_processing/TY20210211_freeAndMoths/TY20210211_freeAndMoths-003.nwb'\n",
    "# nwb_file = '/project/nicho/data/marmosets/electrophys_data_for_processing/TY20210211_freeAndMoths/TY20210211_freeAndMoths-003_processed.nwb'\n",
    "#nwb_file = '/project/nicho/data/marmosets/electrophys_data_for_processing/MG20230416_1505_mothsAndFree/MG20230416_1505_mothsAndFree-002_processed.nwb'\n",
    "nwb_file = '/project/nicho/data/marmosets/electrophys_data_for_processing/JL20230806_1425_freeAndMoths_day04/JL20230806_1425_freeAndMoths_day04001_acquisition.nwb'\n",
    "\n",
    "io = NWBHDF5IO(nwb_file, mode='r')\n",
    "nwb = io.read()\n",
    "\n",
    "nwb2widget(nwb)"
   ]
  },
  {
   "cell_type": "code",
   "execution_count": 4,
   "id": "94260411",
   "metadata": {},
   "outputs": [],
   "source": [
    "raw_elec_table = nwb.acquisition['ElectricalSeriesRaw'].electrodes.to_dataframe()\n",
    "raw_elec_table"
   ]
  },
  {
   "cell_type": "code",
   "execution_count": 2,
   "id": "f0a96f22-e967-418f-abf3-c6cbf0ca177e",
   "metadata": {},
   "outputs": [],
   "source": [
    "io.close()"
   ]
  },
  {
   "cell_type": "code",
   "execution_count": null,
   "id": "44f57b4f",
   "metadata": {},
   "outputs": [],
   "source": []
  }
 ],
 "metadata": {
  "kernelspec": {
   "display_name": "Python 3 (ipykernel)",
   "language": "python",
   "name": "python3"
  },
  "language_info": {
   "codemirror_mode": {
    "name": "ipython",
    "version": 3
   },
   "file_extension": ".py",
   "mimetype": "text/x-python",
   "name": "python",
   "nbconvert_exporter": "python",
   "pygments_lexer": "ipython3",
   "version": "3.9.13"
  }
 },
 "nbformat": 4,
 "nbformat_minor": 5
}
